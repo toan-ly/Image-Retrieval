{
  "nbformat": 4,
  "nbformat_minor": 0,
  "metadata": {
    "colab": {
      "provenance": [],
      "gpuType": "T4",
      "authorship_tag": "ABX9TyNe1q6GCgPZmELPseH9yoI2",
      "include_colab_link": true
    },
    "kernelspec": {
      "name": "python3",
      "display_name": "Python 3"
    },
    "language_info": {
      "name": "python"
    },
    "accelerator": "GPU"
  },
  "cells": [
    {
      "cell_type": "markdown",
      "metadata": {
        "id": "view-in-github",
        "colab_type": "text"
      },
      "source": [
        "<a href=\"https://colab.research.google.com/github/toan-ly/Image-Retrieval/blob/feature%2Ftraditional_retrieval/Crawler.ipynb\" target=\"_parent\"><img src=\"https://colab.research.google.com/assets/colab-badge.svg\" alt=\"Open In Colab\"/></a>"
      ]
    },
    {
      "cell_type": "code",
      "execution_count": 1,
      "metadata": {
        "colab": {
          "base_uri": "https://localhost:8080/"
        },
        "id": "VhNtCU-chP0I",
        "outputId": "90a71fe2-37cb-4f8b-fa4a-f0a9d03c00d9"
      },
      "outputs": [
        {
          "output_type": "stream",
          "name": "stdout",
          "text": [
            "Requirement already satisfied: tqdm in /usr/local/lib/python3.10/dist-packages (4.66.5)\n",
            "Get:1 https://cloud.r-project.org/bin/linux/ubuntu jammy-cran40/ InRelease [3,626 B]\n",
            "Hit:2 https://developer.download.nvidia.com/compute/cuda/repos/ubuntu2204/x86_64  InRelease\n",
            "Hit:3 http://archive.ubuntu.com/ubuntu jammy InRelease\n",
            "Get:4 http://archive.ubuntu.com/ubuntu jammy-updates InRelease [128 kB]\n",
            "Get:5 http://security.ubuntu.com/ubuntu jammy-security InRelease [129 kB]\n",
            "Ign:6 https://r2u.stat.illinois.edu/ubuntu jammy InRelease\n",
            "Get:7 https://r2u.stat.illinois.edu/ubuntu jammy Release [5,713 B]\n",
            "Get:8 https://r2u.stat.illinois.edu/ubuntu jammy Release.gpg [793 B]\n",
            "Get:9 http://archive.ubuntu.com/ubuntu jammy-backports InRelease [127 kB]\n",
            "Get:10 https://r2u.stat.illinois.edu/ubuntu jammy/main amd64 Packages [2,553 kB]\n",
            "Get:11 http://archive.ubuntu.com/ubuntu jammy-updates/universe amd64 Packages [1,423 kB]\n",
            "Get:12 http://archive.ubuntu.com/ubuntu jammy-updates/main amd64 Packages [2,447 kB]\n",
            "Get:13 http://security.ubuntu.com/ubuntu jammy-security/universe amd64 Packages [1,133 kB]\n",
            "Get:14 http://archive.ubuntu.com/ubuntu jammy-updates/restricted amd64 Packages [2,963 kB]\n",
            "Get:15 http://archive.ubuntu.com/ubuntu jammy-backports/universe amd64 Packages [33.7 kB]\n",
            "Get:16 http://security.ubuntu.com/ubuntu jammy-security/restricted amd64 Packages [2,867 kB]\n",
            "Get:17 http://security.ubuntu.com/ubuntu jammy-security/main amd64 Packages [2,171 kB]\n",
            "Hit:18 https://ppa.launchpadcontent.net/deadsnakes/ppa/ubuntu jammy InRelease\n",
            "Hit:19 https://ppa.launchpadcontent.net/graphics-drivers/ppa/ubuntu jammy InRelease\n",
            "Hit:20 https://ppa.launchpadcontent.net/ubuntugis/ppa/ubuntu jammy InRelease\n",
            "Fetched 16.0 MB in 3s (4,789 kB/s)\n",
            "Reading package lists... Done\n",
            "W: Skipping acquire of configured file 'main/source/Sources' as repository 'https://r2u.stat.illinois.edu/ubuntu jammy InRelease' does not seem to provide it (sources.list entry misspelt?)\n",
            "Reading package lists... Done\n",
            "Building dependency tree... Done\n",
            "Reading state information... Done\n",
            "wget is already the newest version (1.21.2-2ubuntu1.1).\n",
            "0 upgraded, 0 newly installed, 0 to remove and 45 not upgraded.\n",
            "Collecting selenium\n",
            "  Downloading selenium-4.23.1-py3-none-any.whl.metadata (7.1 kB)\n",
            "Requirement already satisfied: urllib3<3,>=1.26 in /usr/local/lib/python3.10/dist-packages (from urllib3[socks]<3,>=1.26->selenium) (2.0.7)\n",
            "Collecting trio~=0.17 (from selenium)\n",
            "  Downloading trio-0.26.2-py3-none-any.whl.metadata (8.6 kB)\n",
            "Collecting trio-websocket~=0.9 (from selenium)\n",
            "  Downloading trio_websocket-0.11.1-py3-none-any.whl.metadata (4.7 kB)\n",
            "Requirement already satisfied: certifi>=2021.10.8 in /usr/local/lib/python3.10/dist-packages (from selenium) (2024.7.4)\n",
            "Requirement already satisfied: typing_extensions~=4.9 in /usr/local/lib/python3.10/dist-packages (from selenium) (4.12.2)\n",
            "Requirement already satisfied: websocket-client~=1.8 in /usr/local/lib/python3.10/dist-packages (from selenium) (1.8.0)\n",
            "Requirement already satisfied: attrs>=23.2.0 in /usr/local/lib/python3.10/dist-packages (from trio~=0.17->selenium) (24.2.0)\n",
            "Requirement already satisfied: sortedcontainers in /usr/local/lib/python3.10/dist-packages (from trio~=0.17->selenium) (2.4.0)\n",
            "Requirement already satisfied: idna in /usr/local/lib/python3.10/dist-packages (from trio~=0.17->selenium) (3.7)\n",
            "Collecting outcome (from trio~=0.17->selenium)\n",
            "  Downloading outcome-1.3.0.post0-py2.py3-none-any.whl.metadata (2.6 kB)\n",
            "Requirement already satisfied: sniffio>=1.3.0 in /usr/local/lib/python3.10/dist-packages (from trio~=0.17->selenium) (1.3.1)\n",
            "Requirement already satisfied: exceptiongroup in /usr/local/lib/python3.10/dist-packages (from trio~=0.17->selenium) (1.2.2)\n",
            "Collecting wsproto>=0.14 (from trio-websocket~=0.9->selenium)\n",
            "  Downloading wsproto-1.2.0-py3-none-any.whl.metadata (5.6 kB)\n",
            "Requirement already satisfied: pysocks!=1.5.7,<2.0,>=1.5.6 in /usr/local/lib/python3.10/dist-packages (from urllib3[socks]<3,>=1.26->selenium) (1.7.1)\n",
            "Collecting h11<1,>=0.9.0 (from wsproto>=0.14->trio-websocket~=0.9->selenium)\n",
            "  Downloading h11-0.14.0-py3-none-any.whl.metadata (8.2 kB)\n",
            "Downloading selenium-4.23.1-py3-none-any.whl (9.4 MB)\n",
            "\u001b[2K   \u001b[90m━━━━━━━━━━━━━━━━━━━━━━━━━━━━━━━━━━━━━━━━\u001b[0m \u001b[32m9.4/9.4 MB\u001b[0m \u001b[31m70.0 MB/s\u001b[0m eta \u001b[36m0:00:00\u001b[0m\n",
            "\u001b[?25hDownloading trio-0.26.2-py3-none-any.whl (475 kB)\n",
            "\u001b[2K   \u001b[90m━━━━━━━━━━━━━━━━━━━━━━━━━━━━━━━━━━━━━━━━\u001b[0m \u001b[32m476.0/476.0 kB\u001b[0m \u001b[31m30.5 MB/s\u001b[0m eta \u001b[36m0:00:00\u001b[0m\n",
            "\u001b[?25hDownloading trio_websocket-0.11.1-py3-none-any.whl (17 kB)\n",
            "Downloading wsproto-1.2.0-py3-none-any.whl (24 kB)\n",
            "Downloading outcome-1.3.0.post0-py2.py3-none-any.whl (10 kB)\n",
            "Downloading h11-0.14.0-py3-none-any.whl (58 kB)\n",
            "\u001b[2K   \u001b[90m━━━━━━━━━━━━━━━━━━━━━━━━━━━━━━━━━━━━━━━━\u001b[0m \u001b[32m58.3/58.3 kB\u001b[0m \u001b[31m4.9 MB/s\u001b[0m eta \u001b[36m0:00:00\u001b[0m\n",
            "\u001b[?25hInstalling collected packages: outcome, h11, wsproto, trio, trio-websocket, selenium\n",
            "Successfully installed h11-0.14.0 outcome-1.3.0.post0 selenium-4.23.1 trio-0.26.2 trio-websocket-0.11.1 wsproto-1.2.0\n",
            "Reading package lists... Done\n",
            "Building dependency tree... Done\n",
            "Reading state information... Done\n",
            "The following additional packages will be installed:\n",
            "  apparmor libfuse3-3 liblzo2-2 libudev1 snapd squashfs-tools systemd-hwe-hwdb udev\n",
            "Suggested packages:\n",
            "  apparmor-profiles-extra apparmor-utils fuse3 zenity | kdialog\n",
            "The following NEW packages will be installed:\n",
            "  apparmor chromium-browser libfuse3-3 liblzo2-2 snapd squashfs-tools systemd-hwe-hwdb udev\n",
            "The following packages will be upgraded:\n",
            "  libudev1\n",
            "1 upgraded, 8 newly installed, 0 to remove and 44 not upgraded.\n",
            "Need to get 28.4 MB of archives.\n",
            "After this operation, 117 MB of additional disk space will be used.\n",
            "Get:1 http://archive.ubuntu.com/ubuntu jammy-updates/main amd64 apparmor amd64 3.0.4-2ubuntu2.3 [595 kB]\n",
            "Get:2 http://archive.ubuntu.com/ubuntu jammy/main amd64 liblzo2-2 amd64 2.10-2build3 [53.7 kB]\n",
            "Get:3 http://archive.ubuntu.com/ubuntu jammy/main amd64 squashfs-tools amd64 1:4.5-3build1 [159 kB]\n",
            "Get:4 http://archive.ubuntu.com/ubuntu jammy-updates/main amd64 libudev1 amd64 249.11-0ubuntu3.12 [78.2 kB]\n",
            "Get:5 http://archive.ubuntu.com/ubuntu jammy-updates/main amd64 udev amd64 249.11-0ubuntu3.12 [1,557 kB]\n",
            "Get:6 http://archive.ubuntu.com/ubuntu jammy/main amd64 libfuse3-3 amd64 3.10.5-1build1 [81.2 kB]\n",
            "Get:7 http://archive.ubuntu.com/ubuntu jammy-updates/main amd64 snapd amd64 2.63+22.04ubuntu0.1 [25.9 MB]\n",
            "Get:8 http://archive.ubuntu.com/ubuntu jammy-updates/universe amd64 chromium-browser amd64 1:85.0.4183.83-0ubuntu2.22.04.1 [49.2 kB]\n",
            "Get:9 http://archive.ubuntu.com/ubuntu jammy-updates/main amd64 systemd-hwe-hwdb all 249.11.5 [3,228 B]\n",
            "Fetched 28.4 MB in 2s (15.1 MB/s)\n",
            "Preconfiguring packages ...\n",
            "Selecting previously unselected package apparmor.\n",
            "(Reading database ... 123594 files and directories currently installed.)\n",
            "Preparing to unpack .../apparmor_3.0.4-2ubuntu2.3_amd64.deb ...\n",
            "Unpacking apparmor (3.0.4-2ubuntu2.3) ...\n",
            "Selecting previously unselected package liblzo2-2:amd64.\n",
            "Preparing to unpack .../liblzo2-2_2.10-2build3_amd64.deb ...\n",
            "Unpacking liblzo2-2:amd64 (2.10-2build3) ...\n",
            "Selecting previously unselected package squashfs-tools.\n",
            "Preparing to unpack .../squashfs-tools_1%3a4.5-3build1_amd64.deb ...\n",
            "Unpacking squashfs-tools (1:4.5-3build1) ...\n",
            "Preparing to unpack .../libudev1_249.11-0ubuntu3.12_amd64.deb ...\n",
            "Unpacking libudev1:amd64 (249.11-0ubuntu3.12) over (249.11-0ubuntu3.10) ...\n",
            "Setting up libudev1:amd64 (249.11-0ubuntu3.12) ...\n",
            "Selecting previously unselected package udev.\n",
            "(Reading database ... 123802 files and directories currently installed.)\n",
            "Preparing to unpack .../udev_249.11-0ubuntu3.12_amd64.deb ...\n",
            "Unpacking udev (249.11-0ubuntu3.12) ...\n",
            "Selecting previously unselected package libfuse3-3:amd64.\n",
            "Preparing to unpack .../libfuse3-3_3.10.5-1build1_amd64.deb ...\n",
            "Unpacking libfuse3-3:amd64 (3.10.5-1build1) ...\n",
            "Selecting previously unselected package snapd.\n",
            "Preparing to unpack .../snapd_2.63+22.04ubuntu0.1_amd64.deb ...\n",
            "Unpacking snapd (2.63+22.04ubuntu0.1) ...\n",
            "Setting up apparmor (3.0.4-2ubuntu2.3) ...\n",
            "Created symlink /etc/systemd/system/sysinit.target.wants/apparmor.service → /lib/systemd/system/apparmor.service.\n",
            "Setting up liblzo2-2:amd64 (2.10-2build3) ...\n",
            "Setting up squashfs-tools (1:4.5-3build1) ...\n",
            "Setting up udev (249.11-0ubuntu3.12) ...\n",
            "invoke-rc.d: could not determine current runlevel\n",
            "invoke-rc.d: policy-rc.d denied execution of start.\n",
            "Setting up libfuse3-3:amd64 (3.10.5-1build1) ...\n",
            "Setting up snapd (2.63+22.04ubuntu0.1) ...\n",
            "Created symlink /etc/systemd/system/multi-user.target.wants/snapd.apparmor.service → /lib/systemd/system/snapd.apparmor.service.\n",
            "Created symlink /etc/systemd/system/multi-user.target.wants/snapd.autoimport.service → /lib/systemd/system/snapd.autoimport.service.\n",
            "Created symlink /etc/systemd/system/multi-user.target.wants/snapd.core-fixup.service → /lib/systemd/system/snapd.core-fixup.service.\n",
            "Created symlink /etc/systemd/system/multi-user.target.wants/snapd.recovery-chooser-trigger.service → /lib/systemd/system/snapd.recovery-chooser-trigger.service.\n",
            "Created symlink /etc/systemd/system/multi-user.target.wants/snapd.seeded.service → /lib/systemd/system/snapd.seeded.service.\n",
            "Created symlink /etc/systemd/system/cloud-final.service.wants/snapd.seeded.service → /lib/systemd/system/snapd.seeded.service.\n",
            "Unit /lib/systemd/system/snapd.seeded.service is added as a dependency to a non-existent unit cloud-final.service.\n",
            "Created symlink /etc/systemd/system/multi-user.target.wants/snapd.service → /lib/systemd/system/snapd.service.\n",
            "Created symlink /etc/systemd/system/timers.target.wants/snapd.snap-repair.timer → /lib/systemd/system/snapd.snap-repair.timer.\n",
            "Created symlink /etc/systemd/system/sockets.target.wants/snapd.socket → /lib/systemd/system/snapd.socket.\n",
            "Created symlink /etc/systemd/system/final.target.wants/snapd.system-shutdown.service → /lib/systemd/system/snapd.system-shutdown.service.\n",
            "Selecting previously unselected package chromium-browser.\n",
            "(Reading database ... 124032 files and directories currently installed.)\n",
            "Preparing to unpack .../chromium-browser_1%3a85.0.4183.83-0ubuntu2.22.04.1_amd64.deb ...\n",
            "=> Installing the chromium snap\n",
            "==> Checking connectivity with the snap store\n",
            "===> System doesn't have a working snapd, skipping\n",
            "Unpacking chromium-browser (1:85.0.4183.83-0ubuntu2.22.04.1) ...\n",
            "Selecting previously unselected package systemd-hwe-hwdb.\n",
            "Preparing to unpack .../systemd-hwe-hwdb_249.11.5_all.deb ...\n",
            "Unpacking systemd-hwe-hwdb (249.11.5) ...\n",
            "Setting up systemd-hwe-hwdb (249.11.5) ...\n",
            "Setting up chromium-browser (1:85.0.4183.83-0ubuntu2.22.04.1) ...\n",
            "update-alternatives: using /usr/bin/chromium-browser to provide /usr/bin/x-www-browser (x-www-browser) in auto mode\n",
            "update-alternatives: using /usr/bin/chromium-browser to provide /usr/bin/gnome-www-browser (gnome-www-browser) in auto mode\n",
            "Processing triggers for libc-bin (2.35-0ubuntu3.4) ...\n",
            "/sbin/ldconfig.real: /usr/local/lib/libtbb.so.12 is not a symbolic link\n",
            "\n",
            "/sbin/ldconfig.real: /usr/local/lib/libtbbbind_2_5.so.3 is not a symbolic link\n",
            "\n",
            "/sbin/ldconfig.real: /usr/local/lib/libtbbbind_2_0.so.3 is not a symbolic link\n",
            "\n",
            "/sbin/ldconfig.real: /usr/local/lib/libtbbmalloc_proxy.so.2 is not a symbolic link\n",
            "\n",
            "/sbin/ldconfig.real: /usr/local/lib/libur_loader.so.0 is not a symbolic link\n",
            "\n",
            "/sbin/ldconfig.real: /usr/local/lib/libur_adapter_opencl.so.0 is not a symbolic link\n",
            "\n",
            "/sbin/ldconfig.real: /usr/local/lib/libur_adapter_level_zero.so.0 is not a symbolic link\n",
            "\n",
            "/sbin/ldconfig.real: /usr/local/lib/libtbbmalloc.so.2 is not a symbolic link\n",
            "\n",
            "/sbin/ldconfig.real: /usr/local/lib/libtbbbind.so.3 is not a symbolic link\n",
            "\n",
            "Processing triggers for man-db (2.10.2-1) ...\n",
            "Processing triggers for dbus (1.12.20-2ubuntu4.1) ...\n",
            "Processing triggers for udev (249.11-0ubuntu3.12) ...\n",
            "Processing triggers for hicolor-icon-theme (0.17-2) ...\n",
            "Reading package lists... Done\n",
            "Building dependency tree... Done\n",
            "Reading state information... Done\n",
            "The following NEW packages will be installed:\n",
            "  chromium-chromedriver\n",
            "0 upgraded, 1 newly installed, 0 to remove and 44 not upgraded.\n",
            "Need to get 2,308 B of archives.\n",
            "After this operation, 77.8 kB of additional disk space will be used.\n",
            "Get:1 http://archive.ubuntu.com/ubuntu jammy-updates/universe amd64 chromium-chromedriver amd64 1:85.0.4183.83-0ubuntu2.22.04.1 [2,308 B]\n",
            "Fetched 2,308 B in 0s (6,409 B/s)\n",
            "Selecting previously unselected package chromium-chromedriver.\n",
            "(Reading database ... 124053 files and directories currently installed.)\n",
            "Preparing to unpack .../chromium-chromedriver_1%3a85.0.4183.83-0ubuntu2.22.04.1_amd64.deb ...\n",
            "Unpacking chromium-chromedriver (1:85.0.4183.83-0ubuntu2.22.04.1) ...\n",
            "Setting up chromium-chromedriver (1:85.0.4183.83-0ubuntu2.22.04.1) ...\n"
          ]
        }
      ],
      "source": [
        "!pip install tqdm\n",
        "\n",
        "!apt-get update\n",
        "!apt-get install -y wget\n",
        "!pip install selenium\n",
        "!apt-get install -y chromium-browser\n",
        "!apt-get install -y chromium-chromedriver\n",
        "\n",
        "from selenium import webdriver\n",
        "from selenium.webdriver.common.by import By\n",
        "from selenium.webdriver.support.ui import WebDriverWait\n",
        "from selenium.webdriver.support import expected_conditions as EC\n",
        "\n",
        "from bs4 import BeautifulSoup # for parsing HTML content\n",
        "from urllib.parse import urljoin, urlparse # for handling URLs\n",
        "import urllib.request # for making HTTP requests\n",
        "import time # for handling time-related operations\n",
        "import os # for interacting with the operating system (related to dir, folder, file)\n",
        "from tqdm import tqdm\n",
        "import concurrent.futures # for multi-threading\n",
        "import json # for writing to a text file\n",
        "from PIL import Image"
      ]
    },
    {
      "cell_type": "code",
      "source": [
        "url = 'https://www.flickr.com/search/?text='\n",
        "search_term = 'cat'"
      ],
      "metadata": {
        "id": "228qxeQ8iwbt"
      },
      "execution_count": 2,
      "outputs": []
    },
    {
      "cell_type": "code",
      "source": [
        "class UrlScraper:\n",
        "    def __init__(self, url_template, max_images=50, max_workers=4):\n",
        "        self.url_template = url_template # link crawl\n",
        "        self.max_images = max_images # max images\n",
        "        self.max_workers = max_workers # max threads\n",
        "        self.setup_environment()\n",
        "\n",
        "    # Set up environment for selenium\n",
        "    def setup_environment(self):\n",
        "        os.environ['PATH'] += ':/usr/lib/chromium-browser/'\n",
        "        os.environ['PATH'] += ':/usr/lib/chromium-browser/chromedriver/'\n",
        "\n",
        "    def get_url_images(self, term):\n",
        "        \"\"\"\n",
        "        Crawl the urls of images by term\n",
        "\n",
        "        Parameters:\n",
        "        term (str): The name of animal, plant, scenery, furniture\n",
        "\n",
        "        Returns:\n",
        "        urls (list): List of urls of images\n",
        "        \"\"\"\n",
        "\n",
        "        # Initialize Chrome driver\n",
        "        options = webdriver.ChromeOptions()\n",
        "        options.add_argument('--headless')\n",
        "        options.add_argument('--no-sandbox')\n",
        "        options.add_argument('--disable-dev-shm-usage')\n",
        "        driver = webdriver.Chrome(options=options)\n",
        "\n",
        "        url = self.url_template.format(search_term=term)\n",
        "        driver.get(url)\n",
        "\n",
        "        # Start crawl urls of image like brute force - the same mechanism with this but add some features\n",
        "        urls = []\n",
        "        more_content_available = True\n",
        "\n",
        "        pbar = tqdm(total=self.max_images, desc=f'Fetching images for {term}')\n",
        "\n",
        "        while len(urls) < self.max_images and more_content_available:\n",
        "            soup = BeautifulSoup(driver.page_source, 'html.parser')\n",
        "            img_tags = soup.find_all('img')\n",
        "\n",
        "            for img in img_tags:\n",
        "                if len(urls) >= self.max_images:\n",
        "                    break\n",
        "                if 'src' in img.attrs:\n",
        "                    href = img.attrs['src']\n",
        "                    img_path = urljoin(url, href)\n",
        "                    img_path = img_path.replace('_m.jpg', '_b.jpg').replace('_n.jpg', '_b.jpg').replace('_w.jpg', '_b.jpg')\n",
        "                    if img_path == \"https://combo.staticflickr.com/ap/build/images/getty/IStock_corporate_logo.svg\":\n",
        "                        continue\n",
        "                    urls.append(img_path)\n",
        "                    pbar.update(1)\n",
        "            try:\n",
        "                load_more_button = WebDriverWait(driver, 10).until(\n",
        "                    EC.element_to_be_clickable((By.XPATH, '//button[@id=\"yui_3_16_0_1_1721642285931_28620\"]'))\n",
        "                )\n",
        "                load_more_button.click()\n",
        "                time.sleep(2)\n",
        "            except:\n",
        "                driver.execute_script(\"window.scrollTo(0, document.body.scrollHeight);\")\n",
        "                time.sleep(2)\n",
        "\n",
        "                new_soup = BeautifulSoup(driver.page_source, 'html.parser')\n",
        "                new_img_tags = new_soup.find_all('img', loading='lazy')\n",
        "                if len(new_img_tags) == len(img_tags):\n",
        "                    more_content_available = False\n",
        "                img_tags = new_img_tags\n",
        "\n",
        "        pbar.close()\n",
        "        driver.quit()\n",
        "        return urls\n",
        "\n",
        "    def scrape_urls(self, categories):\n",
        "        \"\"\"\n",
        "        Call get_url_images method to get all urls of any object in categories\\\n",
        "\n",
        "        Parameter:\n",
        "        categories (dictionary): the dict of all object we need to collect image with format categories{\"name_object\": [value1, value2, ...]}\n",
        "\n",
        "        Returns:\n",
        "        all_urls (dictionary): Dictionary of urls of images\n",
        "        \"\"\"\n",
        "        all_urls = {category: {} for category in categories}\n",
        "\n",
        "        # Handle multi-threading for efficent installation\n",
        "        with concurrent.futures.ThreadPoolExecutor(max_workers=self.max_workers) as executor:\n",
        "            future_to_term = {executor.submit(self.get_url_images, term): (category, term)\n",
        "                              for category, terms in categories.items() for term in terms}\n",
        "\n",
        "            for future in tqdm(concurrent.futures.as_completed(future_to_term), total=len(future_to_term), desc=\"Overall Progress\"):\n",
        "                category, term = future_to_term[future]\n",
        "                try:\n",
        "                    urls = future.result()\n",
        "                    all_urls[category][term] = urls\n",
        "                    print(f\"\\nNumber of images retrieved for {term}: {len(urls)}\")\n",
        "                except Exception as exc:\n",
        "                    print(f\"\\n{term} generated an exception: {exc}\")\n",
        "        return all_urls\n",
        "\n",
        "    def save_to_file(self, data, filename):\n",
        "        \"\"\"\n",
        "        Save the data to a JSON file.\n",
        "\n",
        "        Parameters:\n",
        "        data (dict): The data to be saved.\n",
        "        filename (str): The name of the JSON file.\n",
        "\n",
        "        Returns:\n",
        "        None\n",
        "        \"\"\"\n",
        "        with open(filename, 'w') as file:\n",
        "            json.dump(data, file, indent=4)\n",
        "        print(f\"Data saved to {filename}\")\n"
      ],
      "metadata": {
        "id": "6JuD1acvjNy3"
      },
      "execution_count": 3,
      "outputs": []
    },
    {
      "cell_type": "code",
      "source": [
        "categories = {\n",
        "    \"animal\": [\"Monkey\", \"Elephant\", \"cows\", \"Cat\", \"Dog\", \"bear\", \"fox\", \"Civet\", \"Pangolins\", \"Rabbit\", \"Bats\", \"Whale\", \"Cock\", \"Owl\", \"flamingo\", \"Lizard\", \"Turtle\", \"Snake\", \"Frog\", \"Fish\", \"shrimp\", \"Crab\", \"Snail\", \"Coral\", \"Jellyfish\", \"Butterfly\", \"Flies\", \"Mosquito\", \"Ants\", \"Cockroaches\", \"Spider\", \"scorpion\", \"tiger\", \"bird\", \"horse\", \"pig\", \"Alligator\", \"Alpaca\", \"Anteater\", \"donkey\", \"Bee\", \"Buffalo\", \"Camel\", \"Caterpillar\", \"Cheetah\", \"Chicken\", \"Dragonfly\", \"Duck\", \"panda\", \"Giraffe\"],\n",
        "    \"plant\": [\"Bamboo\", \"Apple\", \"Apricot\", \"Banana\", \"Bean\", \"Wildflower\", \"Flower\", \"Mushroom\", \"Weed\", \"Fern\", \"Reed\", \"Shrub\", \"Moss\", \"Grass\", \"Palmtree\", \"Corn\", \"Tulip\", \"Rose\", \"Clove\", \"Dogwood\", \"Durian\", \"Ferns\", \"Fig\", \"Flax\", \"Frangipani\", \"Lantana\", \"Hibiscus\", \"Bougainvillea\", \"Pea\", \"OrchidTree\", \"RangoonCreeper\", \"Jackfruit\", \"Cottonplant\", \"Corneliantree\", \"Coffeeplant\", \"Coconut\", \"wheat\", \"watermelon\", \"radish\", \"carrot\"],\n",
        "    \"furniture\": [\"bed\", \"cabinet\", \"chair\", \"chests\", \"clock\", \"desks\", \"table\", \"Piano\", \"Bookcase\", \"Umbrella\", \"Clothes\", \"cart\", \"sofa\", \"ball\", \"spoon\", \"Bowl\", \"fridge\", \"pan\", \"book\"],\n",
        "    \"scenery\": [\"Cliff\", \"Bay\", \"Coast\", \"Mountains\", \"Forests\", \"Waterbodies\", \"Lake\", \"desert\", \"farmland\", \"river\", \"hedges\", \"plain\", \"sky\", \"cave\", \"cloud\", \"flowergarden\", \"glacier\", \"grassland\", \"horizon\", \"lighthouse\", \"plateau\", \"savannah\", \"valley\", \"volcano\", \"waterfall\"]\n",
        "}"
      ],
      "metadata": {
        "id": "wYsYy0c_mdMl"
      },
      "execution_count": 4,
      "outputs": []
    },
    {
      "cell_type": "code",
      "source": [
        "urltopic = {\"flickr\": \"https://www.flickr.com/search/?text={search_term}\"}\n",
        "scraper = UrlScraper(url_template=urltopic[\"flickr\"], max_images=20, max_workers=5)\n",
        "image_urls = scraper.scrape_urls(categories)"
      ],
      "metadata": {
        "id": "HmC_p4RQmgpd",
        "colab": {
          "base_uri": "https://localhost:8080/"
        },
        "outputId": "5e1a3beb-0c14-41b9-e23f-1f00741e82ce"
      },
      "execution_count": 5,
      "outputs": [
        {
          "output_type": "stream",
          "name": "stderr",
          "text": [
            "Overall Progress:   0%|          | 0/134 [00:00<?, ?it/s]\n",
            "Fetching images for Monkey:   0%|          | 0/20 [00:00<?, ?it/s]\u001b[A\n",
            "\n",
            "Fetching images for Dog:   0%|          | 0/20 [00:00<?, ?it/s]\u001b[A\u001b[A\n",
            "Fetching images for Monkey:   5%|▌         | 1/20 [00:02<00:52,  2.75s/it]\u001b[A\n",
            "\n",
            "\n",
            "Fetching images for Elephant:   0%|          | 0/20 [00:00<?, ?it/s]\u001b[A\u001b[A\u001b[A\n",
            "\n",
            "\n",
            "\n",
            "Fetching images for Cat:   0%|          | 0/20 [00:00<?, ?it/s]\u001b[A\u001b[A\u001b[A\u001b[A\n",
            "\n",
            "Fetching images for Dog:   5%|▌         | 1/20 [00:02<00:38,  2.03s/it]\u001b[A\u001b[A\n",
            "\n",
            "\n",
            "Fetching images for Elephant:   5%|▌         | 1/20 [00:01<00:28,  1.52s/it]\u001b[A\u001b[A\u001b[A\n",
            "\n",
            "\n",
            "\n",
            "Fetching images for Cat:   5%|▌         | 1/20 [00:01<00:25,  1.33s/it]\u001b[A\u001b[A\u001b[A\u001b[A\n",
            "\n",
            "\n",
            "\n",
            "\n",
            "Fetching images for cows:   0%|          | 0/20 [00:00<?, ?it/s]\u001b[A\u001b[A\u001b[A\u001b[A\u001b[A\n",
            "\n",
            "\n",
            "\n",
            "\n",
            "Fetching images for Monkey: 100%|██████████| 20/20 [00:15<00:00,  1.25it/s]\n",
            "Overall Progress:   1%|          | 1/134 [01:05<2:25:47, 65.77s/it]"
          ]
        },
        {
          "output_type": "stream",
          "name": "stdout",
          "text": [
            "\n",
            "Number of images retrieved for Monkey: 20\n"
          ]
        },
        {
          "output_type": "stream",
          "name": "stderr",
          "text": [
            "Fetching images for Cat: 100%|██████████| 20/20 [00:17<00:00,  1.17it/s]\n",
            "Fetching images for Dog: 100%|██████████| 20/20 [00:17<00:00,  1.11it/s]\n",
            "Fetching images for Elephant: 100%|██████████| 20/20 [00:17<00:00,  1.13it/s]"
          ]
        },
        {
          "output_type": "stream",
          "name": "stdout",
          "text": [
            "\n",
            "Number of images retrieved for Dog: 20\n",
            "\n",
            "Number of images retrieved for Cat: 20\n"
          ]
        },
        {
          "output_type": "stream",
          "name": "stderr",
          "text": [
            "\n",
            "Overall Progress:   3%|▎         | 4/134 [01:10<24:14, 11.19s/it]  "
          ]
        },
        {
          "output_type": "stream",
          "name": "stdout",
          "text": [
            "\n",
            "Number of images retrieved for Elephant: 20\n"
          ]
        },
        {
          "output_type": "stream",
          "name": "stderr",
          "text": [
            "Fetching images for cows: 100%|██████████| 20/20 [00:16<00:00,  1.19it/s]\n",
            "Overall Progress:   4%|▎         | 5/134 [01:11<17:19,  8.06s/it]"
          ]
        },
        {
          "output_type": "stream",
          "name": "stdout",
          "text": [
            "\n",
            "Number of images retrieved for cows: 20\n"
          ]
        },
        {
          "output_type": "stream",
          "name": "stderr",
          "text": [
            "\n",
            "Fetching images for Civet:   0%|          | 0/20 [00:00<?, ?it/s]\u001b[A\n",
            "\n",
            "Fetching images for fox:   0%|          | 0/20 [00:00<?, ?it/s]\u001b[A\u001b[A\n",
            "\n",
            "\n",
            "Fetching images for Pangolins:   0%|          | 0/20 [00:00<?, ?it/s]\u001b[A\u001b[A\u001b[A\n",
            "\n",
            "\n",
            "\n",
            "Fetching images for Rabbit:   0%|          | 0/20 [00:00<?, ?it/s]\u001b[A\u001b[A\u001b[A\u001b[A\n",
            "\n",
            "Fetching images for fox:   5%|▌         | 1/20 [00:01<00:36,  1.91s/it]\u001b[A\u001b[A\n",
            "Fetching images for Civet:   5%|▌         | 1/20 [00:02<00:42,  2.22s/it]\u001b[A\n",
            "\n",
            "\n",
            "Fetching images for Pangolins:   5%|▌         | 1/20 [00:02<00:40,  2.14s/it]\u001b[A\u001b[A\u001b[A\n",
            "\n",
            "\n",
            "\n",
            "Fetching images for Civet: 100%|██████████| 20/20 [00:17<00:00,  1.16it/s]\n",
            "Fetching images for fox: 100%|██████████| 20/20 [00:17<00:00,  1.15it/s]\n",
            "Fetching images for Pangolins: 100%|██████████| 20/20 [00:17<00:00,  1.17it/s]"
          ]
        },
        {
          "output_type": "stream",
          "name": "stdout",
          "text": [
            "\n",
            "Number of images retrieved for Civet: 20\n",
            "\n",
            "Number of images retrieved for fox: 20\n"
          ]
        },
        {
          "output_type": "stream",
          "name": "stderr",
          "text": [
            "\n",
            "Fetching images for Rabbit: 100%|██████████| 20/20 [00:15<00:00,  1.25it/s]\n",
            "Overall Progress:   7%|▋         | 9/134 [01:43<10:49,  5.20s/it]"
          ]
        },
        {
          "output_type": "stream",
          "name": "stdout",
          "text": [
            "\n",
            "Number of images retrieved for Pangolins: 20\n",
            "\n",
            "Number of images retrieved for Rabbit: 20\n"
          ]
        },
        {
          "output_type": "stream",
          "name": "stderr",
          "text": [
            "\n",
            "Fetching images for Owl:   0%|          | 0/20 [00:00<?, ?it/s]\u001b[A\n",
            "Fetching images for Owl:   5%|▌         | 1/20 [00:01<00:25,  1.32s/it]\u001b[A\n",
            "\n",
            "\n",
            "Fetching images for Cock:   0%|          | 0/20 [00:00<?, ?it/s]\u001b[A\u001b[A\u001b[A\n",
            "\n",
            "Fetching images for Bats:   0%|          | 0/20 [00:00<?, ?it/s]\u001b[A\u001b[A\n",
            "\n",
            "\n",
            "\n",
            "Fetching images for Whale:   0%|          | 0/20 [00:00<?, ?it/s]\u001b[A\u001b[A\u001b[A\u001b[A\n",
            "\n",
            "\n",
            "Fetching images for Cock:   5%|▌         | 1/20 [00:01<00:31,  1.68s/it]\u001b[A\u001b[A\u001b[A\n",
            "\n",
            "\n",
            "\n",
            "Fetching images for Whale:   5%|▌         | 1/20 [00:01<00:37,  1.97s/it]\u001b[A\u001b[A\u001b[A\u001b[A\n",
            "\n",
            "Fetching images for Owl: 100%|██████████| 20/20 [00:14<00:00,  1.41it/s]\n",
            "Overall Progress:   7%|▋         | 10/134 [02:12<26:02, 12.60s/it]"
          ]
        },
        {
          "output_type": "stream",
          "name": "stdout",
          "text": [
            "\n",
            "Number of images retrieved for Owl: 20\n"
          ]
        },
        {
          "output_type": "stream",
          "name": "stderr",
          "text": [
            "Fetching images for Cock: 100%|██████████| 20/20 [00:15<00:00,  1.33it/s]\n",
            "Overall Progress:   8%|▊         | 11/134 [02:15<19:39,  9.59s/it]"
          ]
        },
        {
          "output_type": "stream",
          "name": "stdout",
          "text": [
            "\n",
            "Number of images retrieved for Cock: 20\n"
          ]
        },
        {
          "output_type": "stream",
          "name": "stderr",
          "text": [
            "Fetching images for Whale: 100%|██████████| 20/20 [00:15<00:00,  1.27it/s]\n",
            "Overall Progress:   9%|▉         | 12/134 [02:16<14:02,  6.91s/it]"
          ]
        },
        {
          "output_type": "stream",
          "name": "stdout",
          "text": [
            "\n",
            "Number of images retrieved for Whale: 20\n"
          ]
        },
        {
          "output_type": "stream",
          "name": "stderr",
          "text": [
            "Fetching images for Bats: 100%|██████████| 20/20 [00:16<00:00,  1.20it/s]\n",
            "Overall Progress:  10%|▉         | 13/134 [02:17<10:19,  5.12s/it]"
          ]
        },
        {
          "output_type": "stream",
          "name": "stdout",
          "text": [
            "\n",
            "Number of images retrieved for Bats: 20\n"
          ]
        },
        {
          "output_type": "stream",
          "name": "stderr",
          "text": [
            "\n",
            "Fetching images for flamingo:   0%|          | 0/20 [00:00<?, ?it/s]\u001b[A\n",
            "Fetching images for flamingo:   5%|▌         | 1/20 [00:02<00:39,  2.06s/it]\u001b[A\n",
            "\n",
            "Fetching images for Turtle:   0%|          | 0/20 [00:00<?, ?it/s]\u001b[A\u001b[A\n",
            "\n",
            "Fetching images for Turtle:   5%|▌         | 1/20 [00:00<00:15,  1.19it/s]\u001b[A\u001b[A\n",
            "\n",
            "\n",
            "Fetching images for Snake:   0%|          | 0/20 [00:00<?, ?it/s]\u001b[A\u001b[A\u001b[A\n",
            "\n",
            "\n",
            "Fetching images for flamingo: 100%|██████████| 20/20 [00:14<00:00,  1.35it/s]\n",
            "Overall Progress:  10%|█         | 14/134 [02:37<19:23,  9.70s/it]"
          ]
        },
        {
          "output_type": "stream",
          "name": "stdout",
          "text": [
            "\n",
            "Number of images retrieved for flamingo: 20\n"
          ]
        },
        {
          "output_type": "stream",
          "name": "stderr",
          "text": [
            "\n",
            "Fetching images for Frog:   0%|          | 0/20 [00:00<?, ?it/s]\u001b[A\n",
            "Fetching images for Turtle: 100%|██████████| 20/20 [00:13<00:00,  1.44it/s]\n",
            "Overall Progress:  11%|█         | 15/134 [02:45<18:07,  9.14s/it]"
          ]
        },
        {
          "output_type": "stream",
          "name": "stdout",
          "text": [
            "\n",
            "Number of images retrieved for Turtle: 20\n"
          ]
        },
        {
          "output_type": "stream",
          "name": "stderr",
          "text": [
            "Fetching images for Snake: 100%|██████████| 20/20 [00:13<00:00,  1.48it/s]\n",
            "Overall Progress:  12%|█▏        | 16/134 [02:46<13:13,  6.72s/it]"
          ]
        },
        {
          "output_type": "stream",
          "name": "stdout",
          "text": [
            "\n",
            "Number of images retrieved for Snake: 20\n"
          ]
        },
        {
          "output_type": "stream",
          "name": "stderr",
          "text": [
            "\n",
            "\n",
            "Fetching images for Fish:   0%|          | 0/20 [00:00<?, ?it/s]\u001b[A\u001b[A\n",
            "\n",
            "Fetching images for Fish:   5%|▌         | 1/20 [00:00<00:09,  1.95it/s]\u001b[A\u001b[A\n",
            "\n",
            "\n",
            "Fetching images for shrimp:   0%|          | 0/20 [00:00<?, ?it/s]\u001b[A\u001b[A\u001b[A\n",
            "\n",
            "\n",
            "Fetching images for Frog: 100%|██████████| 20/20 [00:13<00:00,  1.46it/s]\n",
            "Overall Progress:  13%|█▎        | 17/134 [02:56<14:53,  7.64s/it]"
          ]
        },
        {
          "output_type": "stream",
          "name": "stdout",
          "text": [
            "\n",
            "Number of images retrieved for Frog: 20\n"
          ]
        },
        {
          "output_type": "stream",
          "name": "stderr",
          "text": [
            "\n",
            "Fetching images for Fish: 100%|██████████| 20/20 [00:17<00:00,  1.16it/s]\n",
            "\n",
            "Overall Progress:  13%|█▎        | 18/134 [03:06<16:33,  8.56s/it]"
          ]
        },
        {
          "output_type": "stream",
          "name": "stdout",
          "text": [
            "\n",
            "Number of images retrieved for Fish: 20\n"
          ]
        },
        {
          "output_type": "stream",
          "name": "stderr",
          "text": [
            "Fetching images for shrimp: 100%|██████████| 20/20 [00:16<00:00,  1.20it/s]\n",
            "Overall Progress:  14%|█▍        | 19/134 [03:08<12:22,  6.46s/it]"
          ]
        },
        {
          "output_type": "stream",
          "name": "stdout",
          "text": [
            "\n",
            "Number of images retrieved for shrimp: 20\n"
          ]
        },
        {
          "output_type": "stream",
          "name": "stderr",
          "text": [
            "\n",
            "\n",
            "Fetching images for Snail:   0%|          | 0/20 [00:00<?, ?it/s]\u001b[A\u001b[A\n",
            "\n",
            "Fetching images for Snail:   5%|▌         | 1/20 [00:00<00:05,  3.18it/s]\u001b[A\u001b[A\n",
            "\n",
            "\n",
            "Fetching images for Coral:   0%|          | 0/20 [00:00<?, ?it/s]\u001b[A\u001b[A\u001b[A\n",
            "\n",
            "\n",
            "Fetching images for Crab: 100%|██████████| 20/20 [00:15<00:00,  1.25it/s]\n",
            "Overall Progress:  15%|█▍        | 20/134 [03:19<15:00,  7.90s/it]"
          ]
        },
        {
          "output_type": "stream",
          "name": "stdout",
          "text": [
            "\n",
            "Number of images retrieved for Crab: 20\n"
          ]
        },
        {
          "output_type": "stream",
          "name": "stderr",
          "text": [
            "\n",
            "Fetching images for Jellyfish:   0%|          | 0/20 [00:00<?, ?it/s]\u001b[A\n",
            "Fetching images for Jellyfish:   5%|▌         | 1/20 [00:00<00:12,  1.58it/s]\u001b[A\n",
            "\n",
            "\n",
            "\n",
            "Fetching images for Snail: 100%|██████████| 20/20 [00:13<00:00,  1.47it/s]\n",
            "Overall Progress:  16%|█▌        | 21/134 [03:29<15:53,  8.44s/it]"
          ]
        },
        {
          "output_type": "stream",
          "name": "stdout",
          "text": [
            "\n",
            "Number of images retrieved for Snail: 20\n"
          ]
        },
        {
          "output_type": "stream",
          "name": "stderr",
          "text": [
            "\n",
            "\n",
            "\n",
            "\n",
            "Fetching images for Coral: 100%|██████████| 20/20 [00:14<00:00,  1.39it/s]\n",
            "Overall Progress:  16%|█▋        | 22/134 [03:31<12:14,  6.55s/it]"
          ]
        },
        {
          "output_type": "stream",
          "name": "stdout",
          "text": [
            "\n",
            "Number of images retrieved for Coral: 20\n"
          ]
        },
        {
          "output_type": "stream",
          "name": "stderr",
          "text": [
            "Fetching images for Jellyfish: 100%|██████████| 20/20 [00:16<00:00,  1.24it/s]\n",
            "Overall Progress:  17%|█▋        | 23/134 [03:37<11:49,  6.39s/it]"
          ]
        },
        {
          "output_type": "stream",
          "name": "stdout",
          "text": [
            "\n",
            "Number of images retrieved for Jellyfish: 20\n"
          ]
        },
        {
          "output_type": "stream",
          "name": "stderr",
          "text": [
            "\n",
            "Fetching images for Butterfly:   0%|          | 0/20 [00:00<?, ?it/s]\u001b[A\n",
            "Fetching images for Butterfly:   5%|▌         | 1/20 [00:02<00:48,  2.54s/it]\u001b[A\n",
            "\n",
            "Fetching images for bear: 100%|██████████| 20/20 [00:17<00:00,  1.12it/s]\n",
            "Overall Progress:  18%|█▊        | 24/134 [03:47<13:25,  7.32s/it]"
          ]
        },
        {
          "output_type": "stream",
          "name": "stdout",
          "text": [
            "\n",
            "Number of images retrieved for bear: 20\n"
          ]
        },
        {
          "output_type": "stream",
          "name": "stderr",
          "text": [
            "\n",
            "\n",
            "Fetching images for Flies:   5%|▌         | 1/20 [00:01<00:23,  1.25s/it]\u001b[A\u001b[A\n",
            "\n",
            "\n",
            "Fetching images for Mosquito:   0%|          | 0/20 [00:00<?, ?it/s]\u001b[A\u001b[A\u001b[A\n",
            "\n",
            "\n",
            "Fetching images for Mosquito:   5%|▌         | 1/20 [00:00<00:08,  2.14it/s]\u001b[A\u001b[A\u001b[A\n",
            "\n",
            "\n",
            "\n",
            "Fetching images for Ants:   0%|          | 0/20 [00:00<?, ?it/s]\u001b[A\u001b[A\u001b[A\u001b[A\n",
            "\n",
            "\n",
            "\n",
            "Fetching images for Butterfly: 100%|██████████| 20/20 [00:15<00:00,  1.32it/s]\n",
            "Overall Progress:  19%|█▊        | 25/134 [03:58<15:37,  8.60s/it]"
          ]
        },
        {
          "output_type": "stream",
          "name": "stdout",
          "text": [
            "\n",
            "Number of images retrieved for Butterfly: 20\n"
          ]
        },
        {
          "output_type": "stream",
          "name": "stderr",
          "text": [
            "Fetching images for Flies: 100%|██████████| 20/20 [00:14<00:00,  1.35it/s]\n",
            "Overall Progress:  19%|█▉        | 26/134 [04:01<12:22,  6.88s/it]"
          ]
        },
        {
          "output_type": "stream",
          "name": "stdout",
          "text": [
            "\n",
            "Number of images retrieved for Flies: 20\n"
          ]
        },
        {
          "output_type": "stream",
          "name": "stderr",
          "text": [
            "Fetching images for Mosquito: 100%|██████████| 20/20 [00:16<00:00,  1.25it/s]\n",
            "Overall Progress:  20%|██        | 27/134 [04:06<11:19,  6.35s/it]"
          ]
        },
        {
          "output_type": "stream",
          "name": "stdout",
          "text": [
            "\n",
            "Number of images retrieved for Mosquito: 20\n"
          ]
        },
        {
          "output_type": "stream",
          "name": "stderr",
          "text": [
            "Fetching images for Ants: 100%|██████████| 20/20 [00:17<00:00,  1.15it/s]\n",
            "Overall Progress:  21%|██        | 28/134 [04:10<09:44,  5.51s/it]"
          ]
        },
        {
          "output_type": "stream",
          "name": "stdout",
          "text": [
            "\n",
            "Number of images retrieved for Ants: 20\n"
          ]
        },
        {
          "output_type": "stream",
          "name": "stderr",
          "text": [
            "\n",
            "Fetching images for Cockroaches:   0%|          | 0/20 [00:00<?, ?it/s]\u001b[A\n",
            "Fetching images for Cockroaches:   5%|▌         | 1/20 [00:02<00:39,  2.09s/it]\u001b[A\n",
            "\n",
            "Fetching images for Spider:   0%|          | 0/20 [00:00<?, ?it/s]\u001b[A\u001b[A\n",
            "\n",
            "Fetching images for Spider:   5%|▌         | 1/20 [00:01<00:28,  1.49s/it]\u001b[A\u001b[A\n",
            "\n",
            "\n",
            "Fetching images for tiger:   0%|          | 0/20 [00:00<?, ?it/s]\u001b[A\u001b[A\u001b[A\n",
            "\n",
            "\n",
            "Fetching images for Cockroaches: 100%|██████████| 20/20 [00:14<00:00,  1.35it/s]\n",
            "Overall Progress:  22%|██▏       | 29/134 [04:25<14:51,  8.49s/it]"
          ]
        },
        {
          "output_type": "stream",
          "name": "stdout",
          "text": [
            "\n",
            "Number of images retrieved for Cockroaches: 20\n"
          ]
        },
        {
          "output_type": "stream",
          "name": "stderr",
          "text": [
            "\n",
            "Fetching images for bird:   0%|          | 0/20 [00:00<?, ?it/s]\u001b[A\n",
            "Fetching images for Spider: 100%|██████████| 20/20 [00:14<00:00,  1.37it/s]\n",
            "Overall Progress:  22%|██▏       | 30/134 [04:32<13:59,  8.07s/it]"
          ]
        },
        {
          "output_type": "stream",
          "name": "stdout",
          "text": [
            "\n",
            "Number of images retrieved for Spider: 20\n"
          ]
        },
        {
          "output_type": "stream",
          "name": "stderr",
          "text": [
            "Fetching images for tiger: 100%|██████████| 20/20 [00:13<00:00,  1.45it/s]\n",
            "Overall Progress:  23%|██▎       | 31/134 [04:35<11:14,  6.55s/it]"
          ]
        },
        {
          "output_type": "stream",
          "name": "stdout",
          "text": [
            "\n",
            "Number of images retrieved for tiger: 20\n"
          ]
        },
        {
          "output_type": "stream",
          "name": "stderr",
          "text": [
            "\n",
            "\n",
            "Fetching images for scorpion:   0%|          | 0/20 [00:00<?, ?it/s]\u001b[A\u001b[A\n",
            "\n",
            "Fetching images for scorpion:   5%|▌         | 1/20 [00:01<00:19,  1.02s/it]\u001b[A\u001b[A\n",
            "\n",
            "\n",
            "Fetching images for horse:   0%|          | 0/20 [00:00<?, ?it/s]\u001b[A\u001b[A\u001b[A\n",
            "\n",
            "\n",
            "Fetching images for bird: 100%|██████████| 20/20 [00:16<00:00,  1.20it/s]\n",
            "Overall Progress:  24%|██▍       | 32/134 [04:46<13:11,  7.76s/it]"
          ]
        },
        {
          "output_type": "stream",
          "name": "stdout",
          "text": [
            "\n",
            "Number of images retrieved for bird: 20\n"
          ]
        },
        {
          "output_type": "stream",
          "name": "stderr",
          "text": [
            "\n",
            "Fetching images for pig:   0%|          | 0/20 [00:00<?, ?it/s]\u001b[A\n",
            "Fetching images for scorpion: 100%|██████████| 20/20 [00:17<00:00,  1.16it/s]\n",
            "Overall Progress:  25%|██▍       | 33/134 [04:54<13:15,  7.88s/it]"
          ]
        },
        {
          "output_type": "stream",
          "name": "stdout",
          "text": [
            "\n",
            "Number of images retrieved for scorpion: 20\n"
          ]
        },
        {
          "output_type": "stream",
          "name": "stderr",
          "text": [
            "\n",
            "\n",
            "Fetching images for Alligator:   0%|          | 0/20 [00:00<?, ?it/s]\u001b[A\u001b[A\n",
            "\n",
            "Fetching images for horse: 100%|██████████| 20/20 [00:14<00:00,  1.37it/s]\n",
            "Overall Progress:  25%|██▌       | 34/134 [04:56<10:17,  6.18s/it]"
          ]
        },
        {
          "output_type": "stream",
          "name": "stdout",
          "text": [
            "\n",
            "Number of images retrieved for horse: 20\n"
          ]
        },
        {
          "output_type": "stream",
          "name": "stderr",
          "text": [
            "\n",
            "\n",
            "\n",
            "Fetching images for Alpaca:   0%|          | 0/20 [00:00<?, ?it/s]\u001b[A\u001b[A\u001b[A\n",
            "\n",
            "\n",
            "Fetching images for Alpaca:   5%|▌         | 1/20 [00:00<00:09,  1.92it/s]\u001b[A\u001b[A\u001b[A\n",
            "\n",
            "\n",
            "\n",
            "Fetching images for pig: 100%|██████████| 20/20 [00:14<00:00,  1.37it/s]\n",
            "Overall Progress:  26%|██▌       | 35/134 [05:03<10:19,  6.26s/it]"
          ]
        },
        {
          "output_type": "stream",
          "name": "stdout",
          "text": [
            "\n",
            "Number of images retrieved for pig: 20\n"
          ]
        },
        {
          "output_type": "stream",
          "name": "stderr",
          "text": [
            "\n",
            "\n",
            "\n",
            "\n",
            "Fetching images for Alligator: 100%|██████████| 20/20 [00:15<00:00,  1.28it/s]\n",
            "\n",
            "Overall Progress:  27%|██▋       | 36/134 [05:11<11:15,  6.89s/it]"
          ]
        },
        {
          "output_type": "stream",
          "name": "stdout",
          "text": [
            "\n",
            "Number of images retrieved for Alligator: 20\n"
          ]
        },
        {
          "output_type": "stream",
          "name": "stderr",
          "text": [
            "\n",
            "\n",
            "Fetching images for donkey:   0%|          | 0/20 [00:00<?, ?it/s]\u001b[A\u001b[A\n",
            "Fetching images for Lizard:   5%|▌         | 1/20 [00:01<00:21,  1.12s/it]\u001b[A\n",
            "\n",
            "Fetching images for Alpaca: 100%|██████████| 20/20 [00:16<00:00,  1.19it/s]\n",
            "Overall Progress:  28%|██▊       | 37/134 [05:16<10:13,  6.32s/it]"
          ]
        },
        {
          "output_type": "stream",
          "name": "stdout",
          "text": [
            "\n",
            "Number of images retrieved for Alpaca: 20\n"
          ]
        },
        {
          "output_type": "stream",
          "name": "stderr",
          "text": [
            "Fetching images for Anteater: 100%|██████████| 20/20 [00:16<00:00,  1.22it/s]\n",
            "Overall Progress:  28%|██▊       | 38/134 [05:19<08:34,  5.36s/it]"
          ]
        },
        {
          "output_type": "stream",
          "name": "stdout",
          "text": [
            "\n",
            "Number of images retrieved for Anteater: 20\n"
          ]
        },
        {
          "output_type": "stream",
          "name": "stderr",
          "text": [
            "\n",
            "\n",
            "\n",
            "Fetching images for Bee:   0%|          | 0/20 [00:00<?, ?it/s]\u001b[A\u001b[A\u001b[A\n",
            "\n",
            "\n",
            "Fetching images for donkey: 100%|██████████| 20/20 [00:18<00:00,  1.07it/s]\n",
            "Fetching images for Lizard: 100%|██████████| 20/20 [00:19<00:00,  1.04it/s]\n",
            "Overall Progress:  29%|██▉       | 39/134 [05:30<11:14,  7.10s/it]"
          ]
        },
        {
          "output_type": "stream",
          "name": "stdout",
          "text": [
            "\n",
            "Number of images retrieved for donkey: 20\n"
          ]
        },
        {
          "output_type": "stream",
          "name": "stderr",
          "text": [
            "\n",
            "Overall Progress:  30%|██▉       | 40/134 [05:30<07:52,  5.03s/it]"
          ]
        },
        {
          "output_type": "stream",
          "name": "stdout",
          "text": [
            "\n",
            "Number of images retrieved for Lizard: 20\n"
          ]
        },
        {
          "output_type": "stream",
          "name": "stderr",
          "text": [
            "\n",
            "Fetching images for Buffalo:   5%|▌         | 1/20 [00:00<00:13,  1.41it/s]\u001b[A\n",
            "\n",
            "Fetching images for Camel:   0%|          | 0/20 [00:00<?, ?it/s]\u001b[A\u001b[A\n",
            "\n",
            "Fetching images for Bee: 100%|██████████| 20/20 [00:18<00:00,  1.06it/s]\n",
            "\n",
            "\n",
            "\n",
            "Overall Progress:  31%|███       | 41/134 [05:45<12:06,  7.81s/it]"
          ]
        },
        {
          "output_type": "stream",
          "name": "stdout",
          "text": [
            "\n",
            "Number of images retrieved for Bee: 20\n"
          ]
        },
        {
          "output_type": "stream",
          "name": "stderr",
          "text": [
            "\n",
            "\n",
            "\n",
            "\n",
            "Fetching images for Cheetah:   0%|          | 0/20 [00:00<?, ?it/s]\u001b[A\u001b[A\u001b[A\u001b[A\n",
            "\n",
            "\n",
            "Fetching images for Caterpillar:   5%|▌         | 1/20 [00:01<00:24,  1.28s/it]\u001b[A\u001b[A\u001b[A\n",
            "\n",
            "\n",
            "\n",
            "Fetching images for Buffalo: 100%|██████████| 20/20 [00:16<00:00,  1.18it/s]\n",
            "Overall Progress:  31%|███▏      | 42/134 [05:47<09:40,  6.31s/it]"
          ]
        },
        {
          "output_type": "stream",
          "name": "stdout",
          "text": [
            "\n",
            "Number of images retrieved for Buffalo: 20\n"
          ]
        },
        {
          "output_type": "stream",
          "name": "stderr",
          "text": [
            "Fetching images for Camel: 100%|██████████| 20/20 [00:17<00:00,  1.17it/s]\n",
            "Overall Progress:  32%|███▏      | 43/134 [05:52<08:34,  5.65s/it]"
          ]
        },
        {
          "output_type": "stream",
          "name": "stdout",
          "text": [
            "\n",
            "Number of images retrieved for Camel: 20\n"
          ]
        },
        {
          "output_type": "stream",
          "name": "stderr",
          "text": [
            "\n",
            "Fetching images for Chicken:   0%|          | 0/20 [00:00<?, ?it/s]\u001b[A\n",
            "Fetching images for Chicken:   5%|▌         | 1/20 [00:00<00:13,  1.43it/s]\u001b[A\n",
            "\n",
            "Fetching images for Dragonfly:   0%|          | 0/20 [00:00<?, ?it/s]\u001b[A\u001b[A\n",
            "\n",
            "Fetching images for Caterpillar: 100%|██████████| 20/20 [00:16<00:00,  1.21it/s]\n",
            "Overall Progress:  33%|███▎      | 44/134 [06:01<10:04,  6.72s/it]"
          ]
        },
        {
          "output_type": "stream",
          "name": "stdout",
          "text": [
            "\n",
            "Number of images retrieved for Caterpillar: 20\n"
          ]
        },
        {
          "output_type": "stream",
          "name": "stderr",
          "text": [
            "Fetching images for Cheetah: 100%|██████████| 20/20 [00:17<00:00,  1.16it/s]\n",
            "Overall Progress:  34%|███▎      | 45/134 [06:03<07:46,  5.25s/it]"
          ]
        },
        {
          "output_type": "stream",
          "name": "stdout",
          "text": [
            "\n",
            "Number of images retrieved for Cheetah: 20\n"
          ]
        },
        {
          "output_type": "stream",
          "name": "stderr",
          "text": [
            "\n",
            "\n",
            "\n",
            "Fetching images for Duck:   0%|          | 0/20 [00:00<?, ?it/s]\u001b[A\u001b[A\u001b[A\n",
            "\n",
            "\n",
            "Fetching images for Chicken: 100%|██████████| 20/20 [00:16<00:00,  1.21it/s]\n",
            "Overall Progress:  34%|███▍      | 46/134 [06:13<09:52,  6.74s/it]"
          ]
        },
        {
          "output_type": "stream",
          "name": "stdout",
          "text": [
            "\n",
            "Number of images retrieved for Chicken: 20\n"
          ]
        },
        {
          "output_type": "stream",
          "name": "stderr",
          "text": [
            "\rFetching images for Dragonfly: 100%|██████████| 20/20 [00:18<00:00,  1.11it/s]\n",
            "\n",
            "Overall Progress:  35%|███▌      | 47/134 [06:15<07:53,  5.44s/it]"
          ]
        },
        {
          "output_type": "stream",
          "name": "stdout",
          "text": [
            "\n",
            "Number of images retrieved for Dragonfly: 20\n"
          ]
        },
        {
          "output_type": "stream",
          "name": "stderr",
          "text": [
            "\n",
            "\n",
            "Fetching images for Giraffe:   0%|          | 0/20 [00:00<?, ?it/s]\u001b[A\u001b[A\n",
            "Fetching images for panda:   5%|▌         | 1/20 [00:01<00:31,  1.63s/it]\u001b[A\n",
            "\n",
            "Fetching images for Duck: 100%|██████████| 20/20 [00:16<00:00,  1.20it/s]\n",
            "Overall Progress:  36%|███▌      | 48/134 [06:20<07:33,  5.27s/it]"
          ]
        },
        {
          "output_type": "stream",
          "name": "stdout",
          "text": [
            "\n",
            "Number of images retrieved for Duck: 20\n"
          ]
        },
        {
          "output_type": "stream",
          "name": "stderr",
          "text": [
            "\n",
            "\n",
            "\n",
            "Fetching images for Bamboo:   0%|          | 0/20 [00:00<?, ?it/s]\u001b[A\u001b[A\u001b[A\n",
            "\n",
            "\n",
            "Fetching images for Bamboo:   5%|▌         | 1/20 [00:00<00:16,  1.17it/s]\u001b[A\u001b[A\u001b[A\n",
            "\n",
            "\n",
            "\n",
            "Fetching images for Apple:   0%|          | 0/20 [00:00<?, ?it/s]\u001b[A\u001b[A\u001b[A\u001b[A\n",
            "\n",
            "\n",
            "\n",
            "Fetching images for Apple:   5%|▌         | 1/20 [00:01<00:34,  1.83s/it]\u001b[A\u001b[A\u001b[A\u001b[A\n",
            "\n",
            "\n",
            "\n",
            "\n",
            "Fetching images for panda: 100%|██████████| 20/20 [00:16<00:00,  1.19it/s]\n",
            "Fetching images for Giraffe: 100%|██████████| 20/20 [00:16<00:00,  1.23it/s]\n",
            "Overall Progress:  37%|███▋      | 49/134 [06:32<10:21,  7.31s/it]"
          ]
        },
        {
          "output_type": "stream",
          "name": "stdout",
          "text": [
            "\n",
            "Number of images retrieved for Giraffe: 20\n",
            "\n",
            "Number of images retrieved for panda: 20\n"
          ]
        },
        {
          "output_type": "stream",
          "name": "stderr",
          "text": [
            "\n",
            "\n",
            "\n",
            "\n",
            "\n",
            "Fetching images for Apricot:   5%|▌         | 1/20 [00:00<00:13,  1.39it/s]\u001b[A\u001b[A\u001b[A\u001b[A\u001b[A\n",
            "Fetching images for Banana:   0%|          | 0/20 [00:00<?, ?it/s]\u001b[A\n",
            "\n",
            "Fetching images for Bean:   0%|          | 0/20 [00:00<?, ?it/s]\u001b[A\u001b[A\n",
            "Fetching images for Banana:   5%|▌         | 1/20 [00:01<00:33,  1.74s/it]\u001b[A\n",
            "\n",
            "Fetching images for Bamboo: 100%|██████████| 20/20 [00:18<00:00,  1.08it/s]\n",
            "Overall Progress:  38%|███▊      | 51/134 [06:46<09:48,  7.09s/it]"
          ]
        },
        {
          "output_type": "stream",
          "name": "stdout",
          "text": [
            "\n",
            "Number of images retrieved for Bamboo: 20\n"
          ]
        },
        {
          "output_type": "stream",
          "name": "stderr",
          "text": [
            "Fetching images for Apple: 100%|██████████| 20/20 [00:17<00:00,  1.15it/s]\n",
            "Overall Progress:  39%|███▉      | 52/134 [06:47<07:30,  5.49s/it]"
          ]
        },
        {
          "output_type": "stream",
          "name": "stdout",
          "text": [
            "\n",
            "Number of images retrieved for Apple: 20\n"
          ]
        },
        {
          "output_type": "stream",
          "name": "stderr",
          "text": [
            "Fetching images for Apricot: 100%|██████████| 20/20 [00:16<00:00,  1.24it/s]\n",
            "Overall Progress:  40%|███▉      | 53/134 [06:48<05:59,  4.44s/it]"
          ]
        },
        {
          "output_type": "stream",
          "name": "stdout",
          "text": [
            "\n",
            "Number of images retrieved for Apricot: 20\n"
          ]
        },
        {
          "output_type": "stream",
          "name": "stderr",
          "text": [
            "Fetching images for Banana: 100%|██████████| 20/20 [00:19<00:00,  1.01it/s]\n",
            "Overall Progress:  40%|████      | 54/134 [07:00<08:38,  6.49s/it]"
          ]
        },
        {
          "output_type": "stream",
          "name": "stdout",
          "text": [
            "\n",
            "Number of images retrieved for Banana: 20\n"
          ]
        },
        {
          "output_type": "stream",
          "name": "stderr",
          "text": [
            "\n",
            "Fetching images for Bean: 100%|██████████| 20/20 [00:19<00:00,  1.03it/s]\n",
            "\n",
            "\n",
            "Overall Progress:  41%|████      | 55/134 [07:01<06:34,  4.99s/it]"
          ]
        },
        {
          "output_type": "stream",
          "name": "stdout",
          "text": [
            "\n",
            "Number of images retrieved for Bean: 20\n"
          ]
        },
        {
          "output_type": "stream",
          "name": "stderr",
          "text": [
            "\n",
            "Fetching images for Wildflower:   5%|▌         | 1/20 [00:01<00:32,  1.69s/it]\u001b[A\n",
            "\n",
            "Fetching images for Flower:   5%|▌         | 1/20 [00:01<00:30,  1.62s/it]\u001b[A\u001b[A\n",
            "\n",
            "\n",
            "Fetching images for Mushroom:   0%|          | 0/20 [00:00<?, ?it/s]\u001b[A\u001b[A\u001b[A\n",
            "\n",
            "\n",
            "Fetching images for Mushroom:   5%|▌         | 1/20 [00:01<00:23,  1.22s/it]\u001b[A\u001b[A\u001b[A\n",
            "\n",
            "\n",
            "\n",
            "Fetching images for Weed:   0%|          | 0/20 [00:00<?, ?it/s]\u001b[A\u001b[A\u001b[A\u001b[A\n",
            "\n",
            "\n",
            "\n",
            "Fetching images for Weed:   5%|▌         | 1/20 [00:00<00:12,  1.54it/s]\u001b[A\u001b[A\u001b[A\u001b[A\n",
            "\n",
            "\n",
            "\n",
            "\n",
            "Fetching images for Fern:   0%|          | 0/20 [00:00<?, ?it/s]\u001b[A\u001b[A\u001b[A\u001b[A\u001b[A\n",
            "\n",
            "\n",
            "\n",
            "\n",
            "Fetching images for Wildflower: 100%|██████████| 20/20 [00:15<00:00,  1.26it/s]\n",
            "Overall Progress:  42%|████▏     | 56/134 [07:16<10:20,  7.95s/it]"
          ]
        },
        {
          "output_type": "stream",
          "name": "stdout",
          "text": [
            "\n",
            "Number of images retrieved for Wildflower: 20\n"
          ]
        },
        {
          "output_type": "stream",
          "name": "stderr",
          "text": [
            "Fetching images for Flower: 100%|██████████| 20/20 [00:16<00:00,  1.20it/s]\n",
            "Fetching images for Mushroom: 100%|██████████| 20/20 [00:15<00:00,  1.30it/s]"
          ]
        },
        {
          "output_type": "stream",
          "name": "stdout",
          "text": [
            "\n",
            "Number of images retrieved for Flower: 20\n"
          ]
        },
        {
          "output_type": "stream",
          "name": "stderr",
          "text": [
            "\n",
            "Overall Progress:  43%|████▎     | 58/134 [07:18<05:35,  4.41s/it]"
          ]
        },
        {
          "output_type": "stream",
          "name": "stdout",
          "text": [
            "\n",
            "Number of images retrieved for Mushroom: 20\n"
          ]
        },
        {
          "output_type": "stream",
          "name": "stderr",
          "text": [
            "Fetching images for Weed: 100%|██████████| 20/20 [00:19<00:00,  1.05it/s]\n",
            "Overall Progress:  44%|████▍     | 59/134 [07:27<07:00,  5.61s/it]"
          ]
        },
        {
          "output_type": "stream",
          "name": "stdout",
          "text": [
            "\n",
            "Number of images retrieved for Weed: 20\n"
          ]
        },
        {
          "output_type": "stream",
          "name": "stderr",
          "text": [
            "Fetching images for Fern: 100%|██████████| 20/20 [00:18<00:00,  1.11it/s]\n",
            "Overall Progress:  45%|████▍     | 60/134 [07:28<05:09,  4.19s/it]"
          ]
        },
        {
          "output_type": "stream",
          "name": "stdout",
          "text": [
            "\n",
            "Number of images retrieved for Fern: 20\n"
          ]
        },
        {
          "output_type": "stream",
          "name": "stderr",
          "text": [
            "\n",
            "Fetching images for Reed:   0%|          | 0/20 [00:00<?, ?it/s]\u001b[A\n",
            "\n",
            "Fetching images for Shrub:   0%|          | 0/20 [00:00<?, ?it/s]\u001b[A\u001b[A\n",
            "Fetching images for Reed:   5%|▌         | 1/20 [00:00<00:16,  1.15it/s]\u001b[A\n",
            "\n",
            "Fetching images for Shrub:   5%|▌         | 1/20 [00:01<00:24,  1.31s/it]\u001b[A\u001b[A\n",
            "\n",
            "\n",
            "Fetching images for Moss:   0%|          | 0/20 [00:00<?, ?it/s]\u001b[A\u001b[A\u001b[A\n",
            "\n",
            "\n",
            "Fetching images for Moss:   5%|▌         | 1/20 [00:01<00:24,  1.29s/it]\u001b[A\u001b[A\u001b[A\n",
            "\n",
            "\n",
            "\n",
            "Fetching images for Grass:   0%|          | 0/20 [00:00<?, ?it/s]\u001b[A\u001b[A\u001b[A\u001b[A\n",
            "\n",
            "\n",
            "\n",
            "\n",
            "Fetching images for Palmtree:   0%|          | 0/20 [00:00<?, ?it/s]\u001b[A\u001b[A\u001b[A\u001b[A\u001b[A\n",
            "\n",
            "\n",
            "\n",
            "Fetching images for Grass:   5%|▌         | 1/20 [00:00<00:14,  1.28it/s]\u001b[A\u001b[A\u001b[A\u001b[A\n",
            "\n",
            "\n",
            "\n",
            "\n",
            "Fetching images for Reed: 100%|██████████| 20/20 [00:13<00:00,  1.49it/s]\n",
            "Overall Progress:  46%|████▌     | 61/134 [07:47<10:32,  8.66s/it]"
          ]
        },
        {
          "output_type": "stream",
          "name": "stdout",
          "text": [
            "\n",
            "Number of images retrieved for Reed: 20\n"
          ]
        },
        {
          "output_type": "stream",
          "name": "stderr",
          "text": [
            "Fetching images for Shrub: 100%|██████████| 20/20 [00:15<00:00,  1.28it/s]\n",
            "Overall Progress:  46%|████▋     | 62/134 [07:50<08:22,  6.99s/it]"
          ]
        },
        {
          "output_type": "stream",
          "name": "stdout",
          "text": [
            "\n",
            "Number of images retrieved for Shrub: 20\n"
          ]
        },
        {
          "output_type": "stream",
          "name": "stderr",
          "text": [
            "Fetching images for Moss: 100%|██████████| 20/20 [00:16<00:00,  1.22it/s]\n",
            "Overall Progress:  47%|████▋     | 63/134 [07:52<06:42,  5.67s/it]"
          ]
        },
        {
          "output_type": "stream",
          "name": "stdout",
          "text": [
            "\n",
            "Number of images retrieved for Moss: 20\n"
          ]
        },
        {
          "output_type": "stream",
          "name": "stderr",
          "text": [
            "Fetching images for Grass: 100%|██████████| 20/20 [00:19<00:00,  1.05it/s]\n",
            "Fetching images for Palmtree: 100%|██████████| 20/20 [00:19<00:00,  1.03it/s]"
          ]
        },
        {
          "output_type": "stream",
          "name": "stdout",
          "text": [
            "\n",
            "Number of images retrieved for Grass: 20\n"
          ]
        },
        {
          "output_type": "stream",
          "name": "stderr",
          "text": [
            "\n",
            "\n",
            "Overall Progress:  49%|████▊     | 65/134 [08:00<05:07,  4.46s/it]"
          ]
        },
        {
          "output_type": "stream",
          "name": "stdout",
          "text": [
            "\n",
            "Number of images retrieved for Palmtree: 20\n"
          ]
        },
        {
          "output_type": "stream",
          "name": "stderr",
          "text": [
            "\n",
            "\n",
            "Fetching images for Corn:   0%|          | 0/20 [00:00<?, ?it/s]\u001b[A\u001b[A\n",
            "\n",
            "Fetching images for Corn:   5%|▌         | 1/20 [00:01<00:28,  1.50s/it]\u001b[A\u001b[A\n",
            "Fetching images for Tulip:   5%|▌         | 1/20 [00:02<00:51,  2.71s/it]\u001b[A\n",
            "\n",
            "\n",
            "Fetching images for Rose:   0%|          | 0/20 [00:00<?, ?it/s]\u001b[A\u001b[A\u001b[A\n",
            "\n",
            "\n",
            "Fetching images for Rose:   5%|▌         | 1/20 [00:00<00:11,  1.69it/s]\u001b[A\u001b[A\u001b[A\n",
            "\n",
            "\n",
            "\n",
            "Fetching images for Clove:   0%|          | 0/20 [00:00<?, ?it/s]\u001b[A\u001b[A\u001b[A\u001b[A\n",
            "\n",
            "\n",
            "\n",
            "Fetching images for Clove:   5%|▌         | 1/20 [00:00<00:13,  1.39it/s]\u001b[A\u001b[A\u001b[A\u001b[A\n",
            "\n",
            "\n",
            "\n",
            "\n",
            "Fetching images for Dogwood:   0%|          | 0/20 [00:00<?, ?it/s]\u001b[A\u001b[A\u001b[A\u001b[A\u001b[A\n",
            "\n",
            "\n",
            "\n",
            "\n",
            "Fetching images for Corn: 100%|██████████| 20/20 [00:15<00:00,  1.28it/s]\n",
            "Overall Progress:  49%|████▉     | 66/134 [08:16<08:56,  7.89s/it]"
          ]
        },
        {
          "output_type": "stream",
          "name": "stdout",
          "text": [
            "\n",
            "Number of images retrieved for Corn: 20\n"
          ]
        },
        {
          "output_type": "stream",
          "name": "stderr",
          "text": [
            "Fetching images for Tulip: 100%|██████████| 20/20 [00:16<00:00,  1.22it/s]\n",
            "Overall Progress:  50%|█████     | 67/134 [08:17<06:21,  5.69s/it]"
          ]
        },
        {
          "output_type": "stream",
          "name": "stdout",
          "text": [
            "\n",
            "Number of images retrieved for Tulip: 20\n"
          ]
        },
        {
          "output_type": "stream",
          "name": "stderr",
          "text": [
            "Fetching images for Rose: 100%|██████████| 20/20 [00:14<00:00,  1.36it/s]\n",
            "Overall Progress:  51%|█████     | 68/134 [08:23<06:23,  5.81s/it]"
          ]
        },
        {
          "output_type": "stream",
          "name": "stdout",
          "text": [
            "\n",
            "Number of images retrieved for Rose: 20\n"
          ]
        },
        {
          "output_type": "stream",
          "name": "stderr",
          "text": [
            "Fetching images for Clove: 100%|██████████| 20/20 [00:16<00:00,  1.19it/s]\n",
            "Overall Progress:  51%|█████▏    | 69/134 [08:28<05:59,  5.54s/it]"
          ]
        },
        {
          "output_type": "stream",
          "name": "stdout",
          "text": [
            "\n",
            "Number of images retrieved for Clove: 20\n"
          ]
        },
        {
          "output_type": "stream",
          "name": "stderr",
          "text": [
            "Fetching images for Dogwood: 100%|██████████| 20/20 [00:18<00:00,  1.09it/s]\n",
            "Overall Progress:  52%|█████▏    | 70/134 [08:30<04:53,  4.58s/it]"
          ]
        },
        {
          "output_type": "stream",
          "name": "stdout",
          "text": [
            "\n",
            "Number of images retrieved for Dogwood: 20\n"
          ]
        },
        {
          "output_type": "stream",
          "name": "stderr",
          "text": [
            "\n",
            "Fetching images for Durian:   0%|          | 0/20 [00:00<?, ?it/s]\u001b[A\n",
            "\n",
            "Fetching images for Ferns:   0%|          | 0/20 [00:00<?, ?it/s]\u001b[A\u001b[A\n",
            "Fetching images for Durian:   5%|▌         | 1/20 [00:03<01:09,  3.65s/it]\u001b[A\n",
            "\n",
            "Fetching images for Ferns:   5%|▌         | 1/20 [00:02<00:38,  2.05s/it]\u001b[A\u001b[A\n",
            "\n",
            "\n",
            "Fetching images for Fig:   0%|          | 0/20 [00:00<?, ?it/s]\u001b[A\u001b[A\u001b[A\n",
            "\n",
            "\n",
            "Fetching images for Fig:   5%|▌         | 1/20 [00:00<00:17,  1.08it/s]\u001b[A\u001b[A\u001b[A\n",
            "\n",
            "\n",
            "\n",
            "Fetching images for Flax:   0%|          | 0/20 [00:00<?, ?it/s]\u001b[A\u001b[A\u001b[A\u001b[A\n",
            "\n",
            "\n",
            "\n",
            "Fetching images for Flax:   5%|▌         | 1/20 [00:00<00:12,  1.46it/s]\u001b[A\u001b[A\u001b[A\u001b[A\n",
            "\n",
            "\n",
            "\n",
            "\n",
            "Fetching images for Frangipani:   0%|          | 0/20 [00:00<?, ?it/s]\u001b[A\u001b[A\u001b[A\u001b[A\u001b[A\n",
            "\n",
            "\n",
            "\n",
            "\n",
            "Fetching images for Durian: 100%|██████████| 20/20 [00:16<00:00,  1.23it/s]\n",
            "Overall Progress:  53%|█████▎    | 71/134 [08:47<08:39,  8.24s/it]"
          ]
        },
        {
          "output_type": "stream",
          "name": "stdout",
          "text": [
            "\n",
            "Number of images retrieved for Durian: 20\n"
          ]
        },
        {
          "output_type": "stream",
          "name": "stderr",
          "text": [
            "Fetching images for Ferns: 100%|██████████| 20/20 [00:14<00:00,  1.35it/s]\n",
            "Overall Progress:  54%|█████▎    | 72/134 [08:48<06:28,  6.27s/it]"
          ]
        },
        {
          "output_type": "stream",
          "name": "stdout",
          "text": [
            "\n",
            "Number of images retrieved for Ferns: 20\n"
          ]
        },
        {
          "output_type": "stream",
          "name": "stderr",
          "text": [
            "Fetching images for Fig: 100%|██████████| 20/20 [00:16<00:00,  1.24it/s]\n",
            "Overall Progress:  54%|█████▍    | 73/134 [08:55<06:26,  6.33s/it]"
          ]
        },
        {
          "output_type": "stream",
          "name": "stdout",
          "text": [
            "\n",
            "Number of images retrieved for Fig: 20\n"
          ]
        },
        {
          "output_type": "stream",
          "name": "stderr",
          "text": [
            "Fetching images for Flax: 100%|██████████| 20/20 [00:18<00:00,  1.10it/s]\n",
            "Overall Progress:  55%|█████▌    | 74/134 [08:59<05:29,  5.50s/it]"
          ]
        },
        {
          "output_type": "stream",
          "name": "stdout",
          "text": [
            "\n",
            "Number of images retrieved for Flax: 20\n"
          ]
        },
        {
          "output_type": "stream",
          "name": "stderr",
          "text": [
            "\rFetching images for Frangipani: 100%|██████████| 20/20 [00:18<00:00,  1.10it/s]\n",
            "\n",
            "Overall Progress:  56%|█████▌    | 75/134 [09:01<04:25,  4.50s/it]"
          ]
        },
        {
          "output_type": "stream",
          "name": "stdout",
          "text": [
            "\n",
            "Number of images retrieved for Frangipani: 20\n"
          ]
        },
        {
          "output_type": "stream",
          "name": "stderr",
          "text": [
            "\n",
            "\n",
            "Fetching images for Hibiscus:   0%|          | 0/20 [00:00<?, ?it/s]\u001b[A\u001b[A\n",
            "Fetching images for Lantana:   5%|▌         | 1/20 [00:06<01:59,  6.27s/it]\u001b[A\n",
            "\n",
            "Fetching images for Hibiscus:   5%|▌         | 1/20 [00:03<01:00,  3.16s/it]\u001b[A\u001b[A\n",
            "\n",
            "\n",
            "Fetching images for Bougainvillea:   0%|          | 0/20 [00:00<?, ?it/s]\u001b[A\u001b[A\u001b[A\n",
            "\n",
            "\n",
            "Fetching images for Bougainvillea:   5%|▌         | 1/20 [00:00<00:10,  1.81it/s]\u001b[A\u001b[A\u001b[A\n",
            "\n",
            "\n",
            "\n",
            "Fetching images for Pea:   0%|          | 0/20 [00:00<?, ?it/s]\u001b[A\u001b[A\u001b[A\u001b[A\n",
            "\n",
            "\n",
            "\n",
            "Fetching images for Pea:   5%|▌         | 1/20 [00:00<00:16,  1.18it/s]\u001b[A\u001b[A\u001b[A\u001b[A\n",
            "\n",
            "\n",
            "\n",
            "\n",
            "Fetching images for OrchidTree:   0%|          | 0/20 [00:00<?, ?it/s]\u001b[A\u001b[A\u001b[A\u001b[A\u001b[A\n",
            "\n",
            "\n",
            "\n",
            "\n",
            "Fetching images for Lantana: 100%|██████████| 20/20 [00:19<00:00,  1.03it/s]\n",
            "Overall Progress:  57%|█████▋    | 76/134 [09:20<08:44,  9.04s/it]"
          ]
        },
        {
          "output_type": "stream",
          "name": "stdout",
          "text": [
            "\n",
            "Number of images retrieved for Lantana: 20\n"
          ]
        },
        {
          "output_type": "stream",
          "name": "stderr",
          "text": [
            "Fetching images for Hibiscus: 100%|██████████| 20/20 [00:17<00:00,  1.17it/s]\n",
            "Overall Progress:  57%|█████▋    | 77/134 [09:25<07:25,  7.82s/it]"
          ]
        },
        {
          "output_type": "stream",
          "name": "stdout",
          "text": [
            "\n",
            "Number of images retrieved for Hibiscus: 20\n"
          ]
        },
        {
          "output_type": "stream",
          "name": "stderr",
          "text": [
            "Fetching images for Bougainvillea: 100%|██████████| 20/20 [00:15<00:00,  1.32it/s]\n",
            "Overall Progress:  58%|█████▊    | 78/134 [09:29<06:06,  6.55s/it]"
          ]
        },
        {
          "output_type": "stream",
          "name": "stdout",
          "text": [
            "\n",
            "Number of images retrieved for Bougainvillea: 20\n"
          ]
        },
        {
          "output_type": "stream",
          "name": "stderr",
          "text": [
            "\n",
            "Fetching images for Pea: 100%|██████████| 20/20 [00:17<00:00,  1.13it/s]\n",
            "Fetching images for OrchidTree: 100%|██████████| 20/20 [00:17<00:00,  1.17it/s]"
          ]
        },
        {
          "output_type": "stream",
          "name": "stdout",
          "text": [
            "\n",
            "Number of images retrieved for Pea: 20\n"
          ]
        },
        {
          "output_type": "stream",
          "name": "stderr",
          "text": [
            "\n",
            "\n",
            "Overall Progress:  60%|█████▉    | 80/134 [09:32<03:29,  3.88s/it]"
          ]
        },
        {
          "output_type": "stream",
          "name": "stdout",
          "text": [
            "\n",
            "Number of images retrieved for OrchidTree: 20\n"
          ]
        },
        {
          "output_type": "stream",
          "name": "stderr",
          "text": [
            "\n",
            "\n",
            "Fetching images for Jackfruit:   0%|          | 0/20 [00:00<?, ?it/s]\u001b[A\u001b[A\n",
            "\n",
            "Fetching images for Jackfruit:   5%|▌         | 1/20 [00:02<00:46,  2.46s/it]\u001b[A\u001b[A\n",
            "\n",
            "\n",
            "Fetching images for Cottonplant:   0%|          | 0/20 [00:00<?, ?it/s]\u001b[A\u001b[A\u001b[A\n",
            "\n",
            "\n",
            "Fetching images for Cottonplant:   5%|▌         | 1/20 [00:00<00:17,  1.06it/s]\u001b[A\u001b[A\u001b[A\n",
            "\n",
            "\n",
            "\n",
            "Fetching images for RangoonCreeper: 100%|██████████| 20/20 [00:17<00:00,  1.13it/s]\n"
          ]
        },
        {
          "output_type": "stream",
          "name": "stdout",
          "text": [
            "\n",
            "Number of images retrieved for RangoonCreeper: 20"
          ]
        },
        {
          "output_type": "stream",
          "name": "stderr",
          "text": [
            "\n",
            "Overall Progress:  60%|██████    | 81/134 [09:49<06:48,  7.71s/it]\n",
            "\n",
            "\n",
            "\n",
            "Fetching images for Corneliantree:   5%|▌         | 1/20 [00:01<00:26,  1.38s/it]\u001b[A\u001b[A\u001b[A\u001b[A"
          ]
        },
        {
          "output_type": "stream",
          "name": "stdout",
          "text": [
            "\n"
          ]
        },
        {
          "output_type": "stream",
          "name": "stderr",
          "text": [
            "\n",
            "Fetching images for Coffeeplant:   5%|▌         | 1/20 [00:01<00:36,  1.94s/it]\u001b[A\n",
            "\n",
            "\n",
            "\n",
            "\n",
            "Fetching images for Coconut:   0%|          | 0/20 [00:00<?, ?it/s]\u001b[A\u001b[A\u001b[A\u001b[A\u001b[A\n",
            "\n",
            "\n",
            "\n",
            "\n",
            "Fetching images for Jackfruit: 100%|██████████| 20/20 [00:16<00:00,  1.18it/s]\n",
            "Overall Progress:  61%|██████    | 82/134 [10:00<07:35,  8.75s/it]"
          ]
        },
        {
          "output_type": "stream",
          "name": "stdout",
          "text": [
            "\n",
            "Number of images retrieved for Jackfruit: 20\n"
          ]
        },
        {
          "output_type": "stream",
          "name": "stderr",
          "text": [
            "Fetching images for Cottonplant: 100%|██████████| 20/20 [00:14<00:00,  1.35it/s]\n",
            "Overall Progress:  62%|██████▏   | 83/134 [10:01<05:24,  6.37s/it]"
          ]
        },
        {
          "output_type": "stream",
          "name": "stdout",
          "text": [
            "\n",
            "Number of images retrieved for Cottonplant: 20\n"
          ]
        },
        {
          "output_type": "stream",
          "name": "stderr",
          "text": [
            "Fetching images for Corneliantree:  85%|████████▌ | 17/20 [00:14<00:02,  1.17it/s]\n",
            "Overall Progress:  63%|██████▎   | 84/134 [10:02<04:03,  4.88s/it]"
          ]
        },
        {
          "output_type": "stream",
          "name": "stdout",
          "text": [
            "\n",
            "Number of images retrieved for Corneliantree: 17\n"
          ]
        },
        {
          "output_type": "stream",
          "name": "stderr",
          "text": [
            "Fetching images for Coffeeplant: 100%|██████████| 20/20 [00:16<00:00,  1.20it/s]\n",
            "Overall Progress:  63%|██████▎   | 85/134 [10:05<03:39,  4.48s/it]"
          ]
        },
        {
          "output_type": "stream",
          "name": "stdout",
          "text": [
            "\n",
            "Number of images retrieved for Coffeeplant: 20\n"
          ]
        },
        {
          "output_type": "stream",
          "name": "stderr",
          "text": [
            "\n",
            "Fetching images for wheat:   0%|          | 0/20 [00:00<?, ?it/s]\u001b[A\n",
            "Fetching images for wheat:   5%|▌         | 1/20 [00:01<00:22,  1.16s/it]\u001b[A\n",
            "\n",
            "Fetching images for Coconut: 100%|██████████| 20/20 [00:18<00:00,  1.09it/s]\n",
            "Overall Progress:  64%|██████▍   | 86/134 [10:15<04:49,  6.03s/it]"
          ]
        },
        {
          "output_type": "stream",
          "name": "stdout",
          "text": [
            "\n",
            "Number of images retrieved for Coconut: 20\n"
          ]
        },
        {
          "output_type": "stream",
          "name": "stderr",
          "text": [
            "\n",
            "\n",
            "Fetching images for watermelon:   5%|▌         | 1/20 [00:02<00:38,  2.01s/it]\u001b[A\u001b[A\n",
            "\n",
            "\n",
            "Fetching images for radish:   0%|          | 0/20 [00:00<?, ?it/s]\u001b[A\u001b[A\u001b[A\n",
            "\n",
            "\n",
            "Fetching images for radish:   5%|▌         | 1/20 [00:03<00:59,  3.15s/it]\u001b[A\u001b[A\u001b[A\n",
            "\n",
            "\n",
            "\n",
            "Fetching images for carrot:   0%|          | 0/20 [00:00<?, ?it/s]\u001b[A\u001b[A\u001b[A\u001b[A\n",
            "\n",
            "\n",
            "\n",
            "Fetching images for wheat: 100%|██████████| 20/20 [00:15<00:00,  1.30it/s]\n",
            "Overall Progress:  65%|██████▍   | 87/134 [10:26<05:50,  7.46s/it]"
          ]
        },
        {
          "output_type": "stream",
          "name": "stdout",
          "text": [
            "\n",
            "Number of images retrieved for wheat: 20\n"
          ]
        },
        {
          "output_type": "stream",
          "name": "stderr",
          "text": [
            "\n",
            "Fetching images for bed:   0%|          | 0/20 [00:00<?, ?it/s]\u001b[A\n",
            "\n",
            "\n",
            "\n",
            "\n",
            "Fetching images for cabinet:   0%|          | 0/20 [00:00<?, ?it/s]\u001b[A\u001b[A\u001b[A\u001b[A\u001b[A\n",
            "Fetching images for watermelon: 100%|██████████| 20/20 [00:17<00:00,  1.12it/s]\n",
            "Overall Progress:  66%|██████▌   | 88/134 [10:32<05:23,  7.03s/it]"
          ]
        },
        {
          "output_type": "stream",
          "name": "stdout",
          "text": [
            "\n",
            "Number of images retrieved for watermelon: 20\n"
          ]
        },
        {
          "output_type": "stream",
          "name": "stderr",
          "text": [
            "\n",
            "\n",
            "\n",
            "\n",
            "\n",
            "Fetching images for radish: 100%|██████████| 20/20 [00:19<00:00,  1.05it/s]\n",
            "Overall Progress:  66%|██████▋   | 89/134 [10:35<04:29,  5.98s/it]"
          ]
        },
        {
          "output_type": "stream",
          "name": "stdout",
          "text": [
            "\n",
            "Number of images retrieved for radish: 20\n"
          ]
        },
        {
          "output_type": "stream",
          "name": "stderr",
          "text": [
            "Fetching images for carrot: 100%|██████████| 20/20 [00:16<00:00,  1.25it/s]\n",
            "Overall Progress:  67%|██████▋   | 90/134 [10:38<03:34,  4.88s/it]"
          ]
        },
        {
          "output_type": "stream",
          "name": "stdout",
          "text": [
            "\n",
            "Number of images retrieved for carrot: 20\n"
          ]
        },
        {
          "output_type": "stream",
          "name": "stderr",
          "text": [
            "\n",
            "\n",
            "Fetching images for chair:   0%|          | 0/20 [00:00<?, ?it/s]\u001b[A\u001b[A\n",
            "\n",
            "Fetching images for chair:   5%|▌         | 1/20 [00:00<00:18,  1.03it/s]\u001b[A\u001b[A\n",
            "\n",
            "\n",
            "Fetching images for bed: 100%|██████████| 20/20 [00:18<00:00,  1.10it/s]\n",
            "Overall Progress:  68%|██████▊   | 91/134 [10:48<04:37,  6.45s/it]\n",
            "\n",
            "\n",
            "Fetching images for chests:   5%|▌         | 1/20 [00:00<00:16,  1.17it/s]\u001b[A\u001b[A\u001b[A"
          ]
        },
        {
          "output_type": "stream",
          "name": "stdout",
          "text": [
            "\n",
            "Number of images retrieved for bed: 20\n"
          ]
        },
        {
          "output_type": "stream",
          "name": "stderr",
          "text": [
            "\n",
            "Fetching images for cabinet: 100%|██████████| 20/20 [00:18<00:00,  1.11it/s]\n",
            "Overall Progress:  69%|██████▊   | 92/134 [10:49<03:17,  4.71s/it]"
          ]
        },
        {
          "output_type": "stream",
          "name": "stdout",
          "text": [
            "\n",
            "Number of images retrieved for cabinet: 20\n"
          ]
        },
        {
          "output_type": "stream",
          "name": "stderr",
          "text": [
            "\n",
            "Fetching images for chair: 100%|██████████| 20/20 [00:15<00:00,  1.30it/s]\n",
            "Overall Progress:  69%|██████▉   | 93/134 [10:59<04:26,  6.49s/it]"
          ]
        },
        {
          "output_type": "stream",
          "name": "stdout",
          "text": [
            "\n",
            "Number of images retrieved for chair: 20\n"
          ]
        },
        {
          "output_type": "stream",
          "name": "stderr",
          "text": [
            "\n",
            "\n",
            "Fetching images for table:   0%|          | 0/20 [00:00<?, ?it/s]\u001b[A\u001b[A\n",
            "\n",
            "\n",
            "\n",
            "Fetching images for desks:   0%|          | 0/20 [00:00<?, ?it/s]\u001b[A\u001b[A\u001b[A\u001b[A\n",
            "\n",
            "Fetching images for chests: 100%|██████████| 20/20 [00:17<00:00,  1.17it/s]\n",
            "Overall Progress:  70%|███████   | 94/134 [11:05<04:05,  6.14s/it]"
          ]
        },
        {
          "output_type": "stream",
          "name": "stdout",
          "text": [
            "\n",
            "Number of images retrieved for chests: 20\n"
          ]
        },
        {
          "output_type": "stream",
          "name": "stderr",
          "text": [
            "Fetching images for clock: 100%|██████████| 20/20 [00:18<00:00,  1.10it/s]\n",
            "Overall Progress:  71%|███████   | 95/134 [11:07<03:14,  4.99s/it]"
          ]
        },
        {
          "output_type": "stream",
          "name": "stdout",
          "text": [
            "\n",
            "Number of images retrieved for clock: 20\n"
          ]
        },
        {
          "output_type": "stream",
          "name": "stderr",
          "text": [
            "\n",
            "\n",
            "\n",
            "\n",
            "Fetching images for desks:   5%|▌         | 1/20 [00:04<01:17,  4.07s/it]\u001b[A\u001b[A\u001b[A\u001b[A\n",
            "Fetching images for Piano:   0%|          | 0/20 [00:00<?, ?it/s]\u001b[A\n",
            "Fetching images for Piano:   5%|▌         | 1/20 [00:00<00:14,  1.30it/s]\u001b[A\n",
            "\n",
            "\n",
            "Fetching images for Bookcase:   0%|          | 0/20 [00:00<?, ?it/s]\u001b[A\u001b[A\u001b[A\n",
            "\n",
            "\n",
            "\n",
            "\n",
            "Fetching images for Umbrella:   0%|          | 0/20 [00:00<?, ?it/s]\u001b[A\u001b[A\u001b[A\u001b[A\u001b[A\n",
            "\n",
            "\n",
            "Fetching images for table: 100%|██████████| 20/20 [00:17<00:00,  1.16it/s]\n",
            "Overall Progress:  72%|███████▏  | 96/134 [11:19<04:29,  7.09s/it]\n",
            "\n",
            "\n",
            "\n",
            "\n"
          ]
        },
        {
          "output_type": "stream",
          "name": "stdout",
          "text": [
            "\n",
            "Number of images retrieved for table: 20\n"
          ]
        },
        {
          "output_type": "stream",
          "name": "stderr",
          "text": [
            "Fetching images for desks: 100%|██████████| 20/20 [00:16<00:00,  1.18it/s]\n",
            "Overall Progress:  72%|███████▏  | 97/134 [11:20<03:21,  5.44s/it]"
          ]
        },
        {
          "output_type": "stream",
          "name": "stdout",
          "text": [
            "\n",
            "Number of images retrieved for desks: 20\n"
          ]
        },
        {
          "output_type": "stream",
          "name": "stderr",
          "text": [
            "\n",
            "\n",
            "Fetching images for Clothes:   0%|          | 0/20 [00:00<?, ?it/s]\u001b[A\u001b[A\n",
            "\n",
            "Fetching images for Piano: 100%|██████████| 20/20 [00:15<00:00,  1.28it/s]\n",
            "\n",
            "Overall Progress:  73%|███████▎  | 98/134 [11:30<03:57,  6.60s/it]"
          ]
        },
        {
          "output_type": "stream",
          "name": "stdout",
          "text": [
            "\n",
            "Number of images retrieved for Piano: 20\n"
          ]
        },
        {
          "output_type": "stream",
          "name": "stderr",
          "text": [
            "\n",
            "Fetching images for Bookcase: 100%|██████████| 20/20 [00:16<00:00,  1.18it/s]\n",
            "Overall Progress:  74%|███████▍  | 99/134 [11:34<03:28,  5.97s/it]"
          ]
        },
        {
          "output_type": "stream",
          "name": "stdout",
          "text": [
            "\n",
            "Number of images retrieved for Bookcase: 20\n"
          ]
        },
        {
          "output_type": "stream",
          "name": "stderr",
          "text": [
            "Fetching images for Umbrella: 100%|██████████| 20/20 [00:16<00:00,  1.23it/s]\n",
            "Overall Progress:  75%|███████▍  | 100/134 [11:35<02:28,  4.37s/it]"
          ]
        },
        {
          "output_type": "stream",
          "name": "stdout",
          "text": [
            "\n",
            "Number of images retrieved for Umbrella: 20\n"
          ]
        },
        {
          "output_type": "stream",
          "name": "stderr",
          "text": [
            "Fetching images for Clothes: 100%|██████████| 20/20 [00:17<00:00,  1.16it/s]\n",
            "Overall Progress:  75%|███████▌  | 101/134 [11:42<02:55,  5.31s/it]"
          ]
        },
        {
          "output_type": "stream",
          "name": "stdout",
          "text": [
            "\n",
            "Number of images retrieved for Clothes: 20\n"
          ]
        },
        {
          "output_type": "stream",
          "name": "stderr",
          "text": [
            "\n",
            "\n",
            "Fetching images for sofa:   0%|          | 0/20 [00:00<?, ?it/s]\u001b[A\u001b[A\n",
            "\n",
            "Fetching images for sofa:   5%|▌         | 1/20 [00:01<00:28,  1.47s/it]\u001b[A\u001b[A\n",
            "Fetching images for ball:   0%|          | 0/20 [00:00<?, ?it/s]\u001b[A\n",
            "\n",
            "\n",
            "Fetching images for cart: 100%|██████████| 20/20 [00:20<00:00,  1.03s/it]\n",
            "Overall Progress:  76%|███████▌  | 102/134 [11:51<03:17,  6.17s/it]"
          ]
        },
        {
          "output_type": "stream",
          "name": "stdout",
          "text": [
            "\n",
            "Number of images retrieved for cart: 20\n"
          ]
        },
        {
          "output_type": "stream",
          "name": "stderr",
          "text": [
            "\n",
            "\n",
            "\n",
            "Fetching images for spoon:   5%|▌         | 1/20 [00:01<00:26,  1.39s/it]\u001b[A\u001b[A\u001b[A\n",
            "Fetching images for ball:   5%|▌         | 1/20 [00:01<00:28,  1.51s/it]\u001b[A\n",
            "\n",
            "\n",
            "\n",
            "Fetching images for Bowl:   0%|          | 0/20 [00:00<?, ?it/s]\u001b[A\u001b[A\u001b[A\u001b[A\n",
            "\n",
            "\n",
            "\n",
            "Fetching images for Bowl:   5%|▌         | 1/20 [00:00<00:14,  1.31it/s]\u001b[A\u001b[A\u001b[A\u001b[A\n",
            "\n",
            "\n",
            "\n",
            "\n",
            "Fetching images for fridge:   0%|          | 0/20 [00:00<?, ?it/s]\u001b[A\u001b[A\u001b[A\u001b[A\u001b[A\n",
            "\n",
            "\n",
            "\n",
            "\n",
            "Fetching images for sofa: 100%|██████████| 20/20 [00:13<00:00,  1.43it/s]\n",
            "Overall Progress:  77%|███████▋  | 103/134 [11:59<03:34,  6.90s/it]"
          ]
        },
        {
          "output_type": "stream",
          "name": "stdout",
          "text": [
            "\n",
            "Number of images retrieved for sofa: 20\n"
          ]
        },
        {
          "output_type": "stream",
          "name": "stderr",
          "text": [
            "\n",
            "\n",
            "Fetching images for pan:   0%|          | 0/20 [00:00<?, ?it/s]\u001b[A\u001b[A\n",
            "\n",
            "Fetching images for spoon: 100%|██████████| 20/20 [00:16<00:00,  1.22it/s]\n",
            "Overall Progress:  78%|███████▊  | 104/134 [12:07<03:36,  7.21s/it]"
          ]
        },
        {
          "output_type": "stream",
          "name": "stdout",
          "text": [
            "\n",
            "Number of images retrieved for spoon: 20\n"
          ]
        },
        {
          "output_type": "stream",
          "name": "stderr",
          "text": [
            "Fetching images for ball: 100%|██████████| 20/20 [00:17<00:00,  1.13it/s]\n",
            "Overall Progress:  78%|███████▊  | 105/134 [12:09<02:38,  5.48s/it]"
          ]
        },
        {
          "output_type": "stream",
          "name": "stdout",
          "text": [
            "\n",
            "Number of images retrieved for ball: 20\n"
          ]
        },
        {
          "output_type": "stream",
          "name": "stderr",
          "text": [
            "Fetching images for Bowl: 100%|██████████| 20/20 [00:16<00:00,  1.21it/s]\n",
            "Overall Progress:  79%|███████▉  | 106/134 [12:12<02:15,  4.84s/it]"
          ]
        },
        {
          "output_type": "stream",
          "name": "stdout",
          "text": [
            "\n",
            "Number of images retrieved for Bowl: 20\n"
          ]
        },
        {
          "output_type": "stream",
          "name": "stderr",
          "text": [
            "Fetching images for fridge: 100%|██████████| 20/20 [00:18<00:00,  1.10it/s]\n",
            "Overall Progress:  80%|███████▉  | 107/134 [12:15<01:57,  4.36s/it]"
          ]
        },
        {
          "output_type": "stream",
          "name": "stdout",
          "text": [
            "\n",
            "Number of images retrieved for fridge: 20\n"
          ]
        },
        {
          "output_type": "stream",
          "name": "stderr",
          "text": [
            "Fetching images for pan: 100%|██████████| 20/20 [00:16<00:00,  1.20it/s]\n",
            "Overall Progress:  81%|████████  | 108/134 [12:20<01:54,  4.42s/it]"
          ]
        },
        {
          "output_type": "stream",
          "name": "stdout",
          "text": [
            "\n",
            "Number of images retrieved for pan: 20\n"
          ]
        },
        {
          "output_type": "stream",
          "name": "stderr",
          "text": [
            "\n",
            "Fetching images for book:   0%|          | 0/20 [00:00<?, ?it/s]\u001b[A\n",
            "Fetching images for book:   5%|▌         | 1/20 [00:01<00:20,  1.05s/it]\u001b[A\n",
            "\n",
            "Fetching images for Cliff:   0%|          | 0/20 [00:00<?, ?it/s]\u001b[A\u001b[A\n",
            "\n",
            "Fetching images for Cliff:   5%|▌         | 1/20 [00:01<00:20,  1.07s/it]\u001b[A\u001b[A\n",
            "\n",
            "\n",
            "Fetching images for Bay:   0%|          | 0/20 [00:00<?, ?it/s]\u001b[A\u001b[A\u001b[A\n",
            "\n",
            "\n",
            "Fetching images for Bay:   5%|▌         | 1/20 [00:01<00:25,  1.37s/it]\u001b[A\u001b[A\u001b[A\n",
            "\n",
            "\n",
            "\n",
            "Fetching images for Coast:   0%|          | 0/20 [00:00<?, ?it/s]\u001b[A\u001b[A\u001b[A\u001b[A\n",
            "\n",
            "\n",
            "\n",
            "Fetching images for Coast:   5%|▌         | 1/20 [00:00<00:18,  1.05it/s]\u001b[A\u001b[A\u001b[A\u001b[A\n",
            "\n",
            "\n",
            "\n",
            "\n",
            "Fetching images for Mountains:   0%|          | 0/20 [00:00<?, ?it/s]\u001b[A\u001b[A\u001b[A\u001b[A\u001b[A\n",
            "\n",
            "\n",
            "\n",
            "\n",
            "Fetching images for book: 100%|██████████| 20/20 [00:14<00:00,  1.40it/s]\n",
            "Overall Progress:  81%|████████▏ | 109/134 [12:39<03:41,  8.84s/it]"
          ]
        },
        {
          "output_type": "stream",
          "name": "stdout",
          "text": [
            "\n",
            "Number of images retrieved for book: 20\n"
          ]
        },
        {
          "output_type": "stream",
          "name": "stderr",
          "text": [
            "Fetching images for Cliff: 100%|██████████| 20/20 [00:14<00:00,  1.41it/s]\n",
            "Overall Progress:  82%|████████▏ | 110/134 [12:40<02:40,  6.68s/it]"
          ]
        },
        {
          "output_type": "stream",
          "name": "stdout",
          "text": [
            "\n",
            "Number of images retrieved for Cliff: 20\n"
          ]
        },
        {
          "output_type": "stream",
          "name": "stderr",
          "text": [
            "Fetching images for Bay: 100%|██████████| 20/20 [00:17<00:00,  1.17it/s]\n",
            "Overall Progress:  83%|████████▎ | 111/134 [12:45<02:20,  6.10s/it]"
          ]
        },
        {
          "output_type": "stream",
          "name": "stdout",
          "text": [
            "\n",
            "Number of images retrieved for Bay: 20\n"
          ]
        },
        {
          "output_type": "stream",
          "name": "stderr",
          "text": [
            "Fetching images for Coast: 100%|██████████| 20/20 [00:17<00:00,  1.15it/s]\n",
            "Overall Progress:  84%|████████▎ | 112/134 [12:47<01:47,  4.89s/it]"
          ]
        },
        {
          "output_type": "stream",
          "name": "stdout",
          "text": [
            "\n",
            "Number of images retrieved for Coast: 20\n"
          ]
        },
        {
          "output_type": "stream",
          "name": "stderr",
          "text": [
            "Fetching images for Mountains: 100%|██████████| 20/20 [00:17<00:00,  1.17it/s]\n",
            "Overall Progress:  84%|████████▍ | 113/134 [12:51<01:32,  4.39s/it]"
          ]
        },
        {
          "output_type": "stream",
          "name": "stdout",
          "text": [
            "\n",
            "Number of images retrieved for Mountains: 20\n"
          ]
        },
        {
          "output_type": "stream",
          "name": "stderr",
          "text": [
            "\n",
            "Fetching images for Forests:   0%|          | 0/20 [00:00<?, ?it/s]\u001b[A\n",
            "\n",
            "Fetching images for Waterbodies:   0%|          | 0/20 [00:00<?, ?it/s]\u001b[A\u001b[A\n",
            "Fetching images for Forests:   5%|▌         | 1/20 [00:01<00:22,  1.21s/it]\u001b[A\n",
            "\n",
            "Fetching images for Waterbodies:   5%|▌         | 1/20 [00:01<00:19,  1.01s/it]\u001b[A\u001b[A\n",
            "\n",
            "\n",
            "Fetching images for Lake:   0%|          | 0/20 [00:00<?, ?it/s]\u001b[A\u001b[A\u001b[A\n",
            "\n",
            "\n",
            "Fetching images for Lake:   5%|▌         | 1/20 [00:00<00:16,  1.16it/s]\u001b[A\u001b[A\u001b[A\n",
            "\n",
            "\n",
            "\n",
            "Fetching images for desert:   0%|          | 0/20 [00:00<?, ?it/s]\u001b[A\u001b[A\u001b[A\u001b[A\n",
            "\n",
            "\n",
            "\n",
            "\n",
            "Fetching images for farmland:   0%|          | 0/20 [00:00<?, ?it/s]\u001b[A\u001b[A\u001b[A\u001b[A\u001b[A\n",
            "\n",
            "\n",
            "\n",
            "Fetching images for desert:   5%|▌         | 1/20 [00:00<00:16,  1.13it/s]\u001b[A\u001b[A\u001b[A\u001b[A\n",
            "\n",
            "\n",
            "\n",
            "\n",
            "Fetching images for Forests: 100%|██████████| 20/20 [00:14<00:00,  1.37it/s]\n",
            "Overall Progress:  85%|████████▌ | 114/134 [13:09<02:54,  8.71s/it]"
          ]
        },
        {
          "output_type": "stream",
          "name": "stdout",
          "text": [
            "\n",
            "Number of images retrieved for Forests: 20\n"
          ]
        },
        {
          "output_type": "stream",
          "name": "stderr",
          "text": [
            "Fetching images for Waterbodies: 100%|██████████| 20/20 [00:14<00:00,  1.41it/s]\n",
            "Overall Progress:  86%|████████▌ | 115/134 [13:10<02:00,  6.32s/it]"
          ]
        },
        {
          "output_type": "stream",
          "name": "stdout",
          "text": [
            "\n",
            "Number of images retrieved for Waterbodies: 20\n"
          ]
        },
        {
          "output_type": "stream",
          "name": "stderr",
          "text": [
            "Fetching images for Lake: 100%|██████████| 20/20 [00:16<00:00,  1.21it/s]\n",
            "Overall Progress:  87%|████████▋ | 116/134 [13:17<01:59,  6.61s/it]"
          ]
        },
        {
          "output_type": "stream",
          "name": "stdout",
          "text": [
            "\n",
            "Number of images retrieved for Lake: 20\n"
          ]
        },
        {
          "output_type": "stream",
          "name": "stderr",
          "text": [
            "Fetching images for desert: 100%|██████████| 20/20 [00:18<00:00,  1.10it/s]\n",
            "Fetching images for farmland: 100%|██████████| 20/20 [00:18<00:00,  1.10it/s]"
          ]
        },
        {
          "output_type": "stream",
          "name": "stdout",
          "text": [
            "\n",
            "Number of images retrieved for desert: 20\n"
          ]
        },
        {
          "output_type": "stream",
          "name": "stderr",
          "text": [
            "\n",
            "Overall Progress:  88%|████████▊ | 118/134 [13:21<01:03,  3.95s/it]"
          ]
        },
        {
          "output_type": "stream",
          "name": "stdout",
          "text": [
            "\n",
            "Number of images retrieved for farmland: 20\n"
          ]
        },
        {
          "output_type": "stream",
          "name": "stderr",
          "text": [
            "\n",
            "Fetching images for river:   0%|          | 0/20 [00:00<?, ?it/s]\u001b[A\n",
            "Fetching images for river:   5%|▌         | 1/20 [00:01<00:19,  1.00s/it]\u001b[A\n",
            "\n",
            "Fetching images for hedges:   0%|          | 0/20 [00:00<?, ?it/s]\u001b[A\u001b[A\n",
            "\n",
            "Fetching images for hedges:   5%|▌         | 1/20 [00:00<00:17,  1.08it/s]\u001b[A\u001b[A\n",
            "\n",
            "\n",
            "Fetching images for plain:   0%|          | 0/20 [00:00<?, ?it/s]\u001b[A\u001b[A\u001b[A\n",
            "\n",
            "\n",
            "\n",
            "Fetching images for sky:   0%|          | 0/20 [00:00<?, ?it/s]\u001b[A\u001b[A\u001b[A\u001b[A\n",
            "\n",
            "\n",
            "\n",
            "\n",
            "Fetching images for cave:   0%|          | 0/20 [00:00<?, ?it/s]\u001b[A\u001b[A\u001b[A\u001b[A\u001b[A\n",
            "\n",
            "\n",
            "Fetching images for plain:   5%|▌         | 1/20 [00:01<00:19,  1.00s/it]\u001b[A\u001b[A\u001b[A\n",
            "\n",
            "\n",
            "\n",
            "Fetching images for sky:   5%|▌         | 1/20 [00:00<00:16,  1.16it/s]\u001b[A\u001b[A\u001b[A\u001b[A\n",
            "\n",
            "\n",
            "\n",
            "\n",
            "Fetching images for river: 100%|██████████| 20/20 [00:14<00:00,  1.36it/s]\n",
            "Overall Progress:  89%|████████▉ | 119/134 [13:39<02:05,  8.37s/it]"
          ]
        },
        {
          "output_type": "stream",
          "name": "stdout",
          "text": [
            "\n",
            "Number of images retrieved for river: 20\n"
          ]
        },
        {
          "output_type": "stream",
          "name": "stderr",
          "text": [
            "Fetching images for hedges: 100%|██████████| 20/20 [00:14<00:00,  1.41it/s]\n",
            "Overall Progress:  90%|████████▉ | 120/134 [13:40<01:26,  6.19s/it]"
          ]
        },
        {
          "output_type": "stream",
          "name": "stdout",
          "text": [
            "\n",
            "Number of images retrieved for hedges: 20\n"
          ]
        },
        {
          "output_type": "stream",
          "name": "stderr",
          "text": [
            "Fetching images for plain: 100%|██████████| 20/20 [00:18<00:00,  1.11it/s]\n",
            "Fetching images for cave: 100%|██████████| 20/20 [00:17<00:00,  1.13it/s]\n",
            "Fetching images for sky: 100%|██████████| 20/20 [00:18<00:00,  1.09it/s]"
          ]
        },
        {
          "output_type": "stream",
          "name": "stdout",
          "text": [
            "\n",
            "Number of images retrieved for plain: 20\n"
          ]
        },
        {
          "output_type": "stream",
          "name": "stderr",
          "text": [
            "\n",
            "Overall Progress:  91%|█████████ | 122/134 [13:51<01:02,  5.21s/it]"
          ]
        },
        {
          "output_type": "stream",
          "name": "stdout",
          "text": [
            "\n",
            "Number of images retrieved for cave: 20\n"
          ]
        },
        {
          "output_type": "stream",
          "name": "stderr",
          "text": [
            "\rOverall Progress:  92%|█████████▏| 123/134 [13:51<00:40,  3.71s/it]"
          ]
        },
        {
          "output_type": "stream",
          "name": "stdout",
          "text": [
            "\n",
            "Number of images retrieved for sky: 20\n"
          ]
        },
        {
          "output_type": "stream",
          "name": "stderr",
          "text": [
            "\n",
            "Fetching images for cloud:   0%|          | 0/20 [00:00<?, ?it/s]\u001b[A\n",
            "Fetching images for cloud:   5%|▌         | 1/20 [00:02<00:46,  2.44s/it]\u001b[A\n",
            "\n",
            "Fetching images for flowergarden:   0%|          | 0/20 [00:00<?, ?it/s]\u001b[A\u001b[A\n",
            "\n",
            "Fetching images for flowergarden:   5%|▌         | 1/20 [00:01<00:25,  1.33s/it]\u001b[A\u001b[A\n",
            "\n",
            "\n",
            "Fetching images for glacier:   0%|          | 0/20 [00:00<?, ?it/s]\u001b[A\u001b[A\u001b[A\n",
            "\n",
            "\n",
            "\n",
            "Fetching images for horizon:   0%|          | 0/20 [00:00<?, ?it/s]\u001b[A\u001b[A\u001b[A\u001b[A\n",
            "\n",
            "\n",
            "\n",
            "\n",
            "Fetching images for grassland:   0%|          | 0/20 [00:00<?, ?it/s]\u001b[A\u001b[A\u001b[A\u001b[A\u001b[A\n",
            "\n",
            "\n",
            "Fetching images for glacier:   5%|▌         | 1/20 [00:00<00:17,  1.08it/s]\u001b[A\u001b[A\u001b[A\n",
            "\n",
            "\n",
            "\n",
            "Fetching images for horizon:   5%|▌         | 1/20 [00:01<00:20,  1.06s/it]\u001b[A\u001b[A\u001b[A\u001b[A\n",
            "\n",
            "\n",
            "\n",
            "\n",
            "Fetching images for cloud: 100%|██████████| 20/20 [00:15<00:00,  1.31it/s]\n",
            "Overall Progress:  93%|█████████▎| 124/134 [14:06<01:12,  7.25s/it]"
          ]
        },
        {
          "output_type": "stream",
          "name": "stdout",
          "text": [
            "\n",
            "Number of images retrieved for cloud: 20\n"
          ]
        },
        {
          "output_type": "stream",
          "name": "stderr",
          "text": [
            "Fetching images for flowergarden: 100%|██████████| 20/20 [00:15<00:00,  1.33it/s]\n",
            "Overall Progress:  93%|█████████▎| 125/134 [14:10<00:55,  6.14s/it]"
          ]
        },
        {
          "output_type": "stream",
          "name": "stdout",
          "text": [
            "\n",
            "Number of images retrieved for flowergarden: 20\n"
          ]
        },
        {
          "output_type": "stream",
          "name": "stderr",
          "text": [
            "\n",
            "Fetching images for lighthouse:   0%|          | 0/20 [00:00<?, ?it/s]\u001b[A\n",
            "Fetching images for glacier: 100%|██████████| 20/20 [00:16<00:00,  1.23it/s]\n",
            "Overall Progress:  94%|█████████▍| 126/134 [14:19<00:56,  7.04s/it]"
          ]
        },
        {
          "output_type": "stream",
          "name": "stdout",
          "text": [
            "\n",
            "Number of images retrieved for glacier: 20\n"
          ]
        },
        {
          "output_type": "stream",
          "name": "stderr",
          "text": [
            "Fetching images for grassland: 100%|██████████| 20/20 [00:18<00:00,  1.07it/s]\n",
            "Fetching images for horizon: 100%|██████████| 20/20 [00:19<00:00,  1.05it/s]\n",
            "Overall Progress:  96%|█████████▌| 128/134 [14:22<00:24,  4.10s/it]"
          ]
        },
        {
          "output_type": "stream",
          "name": "stdout",
          "text": [
            "\n",
            "Number of images retrieved for grassland: 20\n",
            "\n",
            "Number of images retrieved for horizon: 20\n"
          ]
        },
        {
          "output_type": "stream",
          "name": "stderr",
          "text": [
            "\n",
            "\n",
            "Fetching images for plateau:   0%|          | 0/20 [00:00<?, ?it/s]\u001b[A\u001b[A\n",
            "\n",
            "Fetching images for lighthouse: 100%|██████████| 20/20 [00:16<00:00,  1.23it/s]\n",
            "Overall Progress:  96%|█████████▋| 129/134 [14:31<00:28,  5.62s/it]"
          ]
        },
        {
          "output_type": "stream",
          "name": "stdout",
          "text": [
            "\n",
            "Number of images retrieved for lighthouse: 20\n"
          ]
        },
        {
          "output_type": "stream",
          "name": "stderr",
          "text": [
            "\n",
            "Fetching images for savannah:   0%|          | 0/20 [00:00<?, ?it/s]\u001b[A\n",
            "Fetching images for savannah:   5%|▌         | 1/20 [00:00<00:18,  1.04it/s]\u001b[A\n",
            "\n",
            "\n",
            "Fetching images for volcano:   0%|          | 0/20 [00:00<?, ?it/s]\u001b[A\u001b[A\u001b[A\n",
            "\n",
            "\n",
            "Fetching images for volcano:   5%|▌         | 1/20 [00:01<00:22,  1.17s/it]\u001b[A\u001b[A\u001b[A\n",
            "\n",
            "\n",
            "\n",
            "Fetching images for valley:   0%|          | 0/20 [00:00<?, ?it/s]\u001b[A\u001b[A\u001b[A\u001b[A\n",
            "\n",
            "\n",
            "\n",
            "Fetching images for plateau: 100%|██████████| 20/20 [00:16<00:00,  1.22it/s]\n",
            "Overall Progress:  97%|█████████▋| 130/134 [14:39<00:25,  6.31s/it]"
          ]
        },
        {
          "output_type": "stream",
          "name": "stdout",
          "text": [
            "\n",
            "Number of images retrieved for plateau: 20\n"
          ]
        },
        {
          "output_type": "stream",
          "name": "stderr",
          "text": [
            "\n",
            "\n",
            "Fetching images for waterfall:   0%|          | 0/20 [00:00<?, ?it/s]\u001b[A\u001b[A\n",
            "\n",
            "Fetching images for savannah: 100%|██████████| 20/20 [00:13<00:00,  1.45it/s]\n",
            "Overall Progress:  98%|█████████▊| 131/134 [14:47<00:20,  6.72s/it]"
          ]
        },
        {
          "output_type": "stream",
          "name": "stdout",
          "text": [
            "\n",
            "Number of images retrieved for savannah: 20\n"
          ]
        },
        {
          "output_type": "stream",
          "name": "stderr",
          "text": [
            "Fetching images for volcano: 100%|██████████| 20/20 [00:13<00:00,  1.44it/s]\n",
            "Overall Progress:  99%|█████████▊| 132/134 [14:49<00:10,  5.35s/it]"
          ]
        },
        {
          "output_type": "stream",
          "name": "stdout",
          "text": [
            "\n",
            "Number of images retrieved for volcano: 20\n"
          ]
        },
        {
          "output_type": "stream",
          "name": "stderr",
          "text": [
            "Fetching images for valley: 100%|██████████| 20/20 [00:14<00:00,  1.34it/s]\n",
            "Overall Progress:  99%|█████████▉| 133/134 [14:51<00:04,  4.43s/it]"
          ]
        },
        {
          "output_type": "stream",
          "name": "stdout",
          "text": [
            "\n",
            "Number of images retrieved for valley: 20\n"
          ]
        },
        {
          "output_type": "stream",
          "name": "stderr",
          "text": [
            "Fetching images for waterfall: 100%|██████████| 20/20 [00:13<00:00,  1.53it/s]\n",
            "Overall Progress: 100%|██████████| 134/134 [14:53<00:00,  6.67s/it]"
          ]
        },
        {
          "output_type": "stream",
          "name": "stdout",
          "text": [
            "\n",
            "Number of images retrieved for waterfall: 20\n"
          ]
        },
        {
          "output_type": "stream",
          "name": "stderr",
          "text": [
            "\n"
          ]
        }
      ]
    },
    {
      "cell_type": "code",
      "source": [
        "scraper.save_to_file(image_urls, 'image_urls.json')"
      ],
      "metadata": {
        "colab": {
          "base_uri": "https://localhost:8080/"
        },
        "id": "iSn0-rcv_Oo0",
        "outputId": "37c4f9eb-d2b8-48f6-8620-e3cda4f11abc"
      },
      "execution_count": 6,
      "outputs": [
        {
          "output_type": "stream",
          "name": "stdout",
          "text": [
            "Data saved to image_urls.json\n"
          ]
        }
      ]
    },
    {
      "cell_type": "code",
      "source": [
        "class ImageDownloader:\n",
        "    def __init__(self, json_file, download_dir='Dataset', max_workers=4, delay=1):\n",
        "        self.json_file = json_file  # file containing URLs of images in JSON format\n",
        "        self.download_dir = download_dir  # Folder name for storing images\n",
        "        self.max_workers = max_workers  # Number of threads\n",
        "        self.delay = delay  # Polite delay: when we send request too much to the server for downloading images without polite delay, it will crash or prevent your IP\n",
        "        self.filename = set()  # To store filename directories\n",
        "        self.setup_directory()  # Set up the folder structure\n",
        "\n",
        "    def setup_directory(self):\n",
        "        if not os.path.exists(self.download_dir):\n",
        "            os.makedirs(self.download_dir)\n",
        "\n",
        "    def read_json(self):\n",
        "        \"\"\"\n",
        "        Read the JSON file and return the data.\n",
        "\n",
        "        Returns:\n",
        "        data (dict): The data read from the JSON file.\n",
        "        \"\"\"\n",
        "        with open(self.json_file, 'r') as file:\n",
        "            data = json.load(file)\n",
        "        return data\n",
        "\n",
        "    def is_valid_url(self, url):\n",
        "        \"\"\"\n",
        "        Check if the URL is valid.\n",
        "\n",
        "        Parameters:\n",
        "        url (str): The URL to be checked.\n",
        "\n",
        "        Returns:\n",
        "        bool: True if the URL is valid, False otherwise.\n",
        "        \"\"\"\n",
        "        try:\n",
        "            with urllib.request.urlopen(url) as response:\n",
        "                if response.status == 200 and 'image' in response.info().get_content_type():\n",
        "                    return True\n",
        "        except Exception:\n",
        "            return False\n",
        "\n",
        "    def download_image(self, url, category, term, pbar):\n",
        "        \"\"\"\n",
        "        Download the image from the given URL.\n",
        "\n",
        "        Parameters:\n",
        "        url (str): The URL of the image to be downloaded.\n",
        "        category (str): The category of the image.\n",
        "        term (str): The term or keyword associated with the image.\n",
        "        pbar (tqdm): The progress bar object.\n",
        "\n",
        "        Returns:\n",
        "        str: A message indicating the status of the download.\n",
        "        \"\"\"\n",
        "        if not self.is_valid_url(url):\n",
        "            pbar.update(1)\n",
        "            return f\"Invalid URL: {url}\"\n",
        "\n",
        "        category_dir = os.path.join(self.download_dir, category)\n",
        "        if not os.path.exists(category_dir):\n",
        "            os.makedirs(category_dir)\n",
        "\n",
        "        term_dir = os.path.join(category_dir, term)\n",
        "        if not os.path.exists(term_dir):\n",
        "            os.makedirs(term_dir)\n",
        "\n",
        "        filename = os.path.join(term_dir, os.path.basename(urlparse(url).path))\n",
        "\n",
        "        self.filename.add(filename)  # Record the filename directory\n",
        "\n",
        "        try:\n",
        "            urllib.request.urlretrieve(url, filename)\n",
        "            pbar.update(1)\n",
        "            return f\"Downloaded: {url}\"\n",
        "        except Exception as e:\n",
        "            pbar.update(1)\n",
        "            return f\"Failed to download {url}: {str(e)}\"\n",
        "\n",
        "    def download_images(self):\n",
        "        \"\"\"\n",
        "        Download images from the JSON file.\n",
        "\n",
        "        Returns:\n",
        "        None\n",
        "        \"\"\"\n",
        "        data = self.read_json()\n",
        "        download_tasks = []\n",
        "\n",
        "        total_images = sum(len(urls) for terms in data.values() for urls in terms.values())\n",
        "        with tqdm(total=total_images, desc=\"Downloading images\") as pbar:\n",
        "            with concurrent.futures.ThreadPoolExecutor(max_workers=self.max_workers) as executor:\n",
        "                for category, terms in data.items():\n",
        "                    for term, urls in terms.items():\n",
        "                        for url in urls:\n",
        "                            download_tasks.append(executor.submit(self.download_image, url, category, term, pbar))\n",
        "                            time.sleep(self.delay)  # Polite delay\n",
        "\n",
        "                for future in concurrent.futures.as_completed(download_tasks):\n",
        "                    print(future.result())\n",
        "\n",
        "        self.export_filename()\n",
        "\n",
        "    def export_filename(self):\n",
        "        \"\"\"\n",
        "        Export the filename directories to a text file.\n",
        "\n",
        "        Returns:\n",
        "        None\n",
        "        \"\"\"\n",
        "        with open('filename.txt', 'w') as file:\n",
        "            for filename in sorted(self.filename):\n",
        "                file.write(f\"{filename}\\n\")\n"
      ],
      "metadata": {
        "id": "rQBy6OqI_ZZZ"
      },
      "execution_count": 7,
      "outputs": []
    },
    {
      "cell_type": "code",
      "source": [
        "downloader = ImageDownloader(json_file='image_urls.json', download_dir='Dataset', max_workers=4, delay=1)\n",
        "downloader.download_images()"
      ],
      "metadata": {
        "id": "6LzrGU0S_crD"
      },
      "execution_count": null,
      "outputs": []
    },
    {
      "cell_type": "code",
      "source": [
        "downloader.export_filename()"
      ],
      "metadata": {
        "id": "Huw3vNIN_hUM"
      },
      "execution_count": 9,
      "outputs": []
    },
    {
      "cell_type": "code",
      "source": [
        "from google.colab import drive\n",
        "drive.mount('/content/drive/')"
      ],
      "metadata": {
        "colab": {
          "base_uri": "https://localhost:8080/"
        },
        "id": "ASqclcLu_h2z",
        "outputId": "58c13214-c0c4-4bda-cbad-967dfda83621"
      },
      "execution_count": 10,
      "outputs": [
        {
          "output_type": "stream",
          "name": "stdout",
          "text": [
            "Mounted at /content/drive/\n"
          ]
        }
      ]
    },
    {
      "cell_type": "code",
      "source": [
        "!ls"
      ],
      "metadata": {
        "colab": {
          "base_uri": "https://localhost:8080/"
        },
        "id": "XUbW-too_jfd",
        "outputId": "5db71221-1274-4e4c-ed7d-ca6f7ca88323"
      },
      "execution_count": 11,
      "outputs": [
        {
          "output_type": "stream",
          "name": "stdout",
          "text": [
            "Dataset  drive\tfilename.txt  image_urls.json  sample_data\n"
          ]
        }
      ]
    },
    {
      "cell_type": "code",
      "source": [
        "!zip -r /content/drive/MyDrive/Dataset.zip Dataset"
      ],
      "metadata": {
        "colab": {
          "base_uri": "https://localhost:8080/"
        },
        "id": "hO78OiHk_k1a",
        "outputId": "34c616fb-23ea-4a28-be70-9c0dfcf50702"
      },
      "execution_count": 12,
      "outputs": [
        {
          "output_type": "stream",
          "name": "stdout",
          "text": [
            "  adding: Dataset/ (stored 0%)\n",
            "  adding: Dataset/animal/ (stored 0%)\n",
            "  adding: Dataset/animal/shrimp/ (stored 0%)\n",
            "  adding: Dataset/animal/shrimp/4898039985_e3eaca1c87_b.jpg (deflated 0%)\n",
            "  adding: Dataset/animal/shrimp/2144708533_8f37851185_b.jpg (deflated 0%)\n",
            "  adding: Dataset/animal/shrimp/17061896855_554c2b2b8a_b.jpg (deflated 1%)\n",
            "  adding: Dataset/animal/shrimp/2344784902_8c2ddbed93_b.jpg (deflated 1%)\n",
            "  adding: Dataset/animal/shrimp/233169073_da697f9b1b_b.jpg (deflated 0%)\n",
            "  adding: Dataset/animal/shrimp/53624724282_71047360df_b.jpg (deflated 0%)\n",
            "  adding: Dataset/animal/shrimp/39860909861_ac4dc6142b_b.jpg (deflated 0%)\n",
            "  adding: Dataset/animal/shrimp/3553852023_779b809b27_b.jpg (deflated 2%)\n",
            "  adding: Dataset/animal/shrimp/52754170014_d0570ded3f_b.jpg (deflated 1%)\n",
            "  adding: Dataset/animal/shrimp/50807936448_b99cb05879_b.jpg (deflated 0%)\n",
            "  adding: Dataset/animal/shrimp/50861234561_6cc092f2e5_b.jpg (deflated 0%)\n",
            "  adding: Dataset/animal/shrimp/15364085118_8a99f61fc8_b.jpg (deflated 1%)\n",
            "  adding: Dataset/animal/shrimp/2144710489_db262c8cd1_b.jpg (deflated 0%)\n",
            "  adding: Dataset/animal/shrimp/15219597759_73e9b5cf34_b.jpg (deflated 0%)\n",
            "  adding: Dataset/animal/shrimp/22346248399_a63ab474a3_b.jpg (deflated 1%)\n",
            "  adding: Dataset/animal/shrimp/35172789496_a387d77f5f_b.jpg (deflated 1%)\n",
            "  adding: Dataset/animal/shrimp/10528578623_f64b4be092_b.jpg (deflated 0%)\n",
            "  adding: Dataset/animal/shrimp/32928482742_57ceff6b8b_b.jpg (deflated 1%)\n",
            "  adding: Dataset/animal/shrimp/42085755375_cd8ac6c6b2_b.jpg (deflated 0%)\n",
            "  adding: Dataset/animal/shrimp/29789140005_47fa1bea8b_b.jpg (deflated 0%)\n",
            "  adding: Dataset/animal/Monkey/ (stored 0%)\n",
            "  adding: Dataset/animal/Monkey/2249625837_962fe6c568_b.jpg (deflated 0%)\n",
            "  adding: Dataset/animal/Monkey/16706002022_a423368fce_b.jpg (deflated 1%)\n",
            "  adding: Dataset/animal/Monkey/4339530861_48846856f4_b.jpg (deflated 0%)\n",
            "  adding: Dataset/animal/Monkey/10010736645_aca7a51896_b.jpg (deflated 0%)\n",
            "  adding: Dataset/animal/Monkey/9193936150_fa4b9ab9a2_b.jpg (deflated 0%)\n",
            "  adding: Dataset/animal/Monkey/26691814071_7d46c68bdf_b.jpg (deflated 0%)\n",
            "  adding: Dataset/animal/Monkey/4678975591_5a6703ccce_b.jpg (deflated 0%)\n",
            "  adding: Dataset/animal/Monkey/5670658121_c9afd71b9d_b.jpg (deflated 0%)\n",
            "  adding: Dataset/animal/Monkey/30731317865_808227f801_b.jpg (deflated 0%)\n",
            "  adding: Dataset/animal/Monkey/6699070437_75dd251fe4_b.jpg (deflated 0%)\n",
            "  adding: Dataset/animal/Monkey/15055410711_5236121868_b.jpg (deflated 0%)\n",
            "  adding: Dataset/animal/Monkey/22554577255_b6ae9cf9d4_b.jpg (deflated 0%)\n",
            "  adding: Dataset/animal/Monkey/15455494856_8e96e3d11c_b.jpg (deflated 0%)\n",
            "  adding: Dataset/animal/Monkey/33831127941_5ec7483eb9_b.jpg (deflated 0%)\n",
            "  adding: Dataset/animal/Monkey/7208558114_0771df3fff_b.jpg (deflated 0%)\n",
            "  adding: Dataset/animal/Monkey/1408053423_ac730c23aa_b.jpg (deflated 0%)\n",
            "  adding: Dataset/animal/Monkey/23030717935_86ccb18673_b.jpg (deflated 0%)\n",
            "  adding: Dataset/animal/Monkey/12947227375_7dfb055e82_b.jpg (deflated 0%)\n",
            "  adding: Dataset/animal/Monkey/223951607_92c4cdbfa6_b.jpg (deflated 0%)\n",
            "  adding: Dataset/animal/Monkey/3158881133_42d58d4a62_b.jpg (deflated 0%)\n",
            "  adding: Dataset/animal/Snake/ (stored 0%)\n",
            "  adding: Dataset/animal/Snake/2288614815_087b4d8cfc_b.jpg (deflated 0%)\n",
            "  adding: Dataset/animal/Snake/2393174564_3c3cb67d96_b.jpg (deflated 0%)\n",
            "  adding: Dataset/animal/Snake/8534577307_3aec2a4002_b.jpg (deflated 0%)\n",
            "  adding: Dataset/animal/Snake/8535697746_94db33a854_b.jpg (deflated 0%)\n",
            "  adding: Dataset/animal/Snake/8535693686_9d2ec4d3a5_b.jpg (deflated 0%)\n",
            "  adding: Dataset/animal/Snake/6083398151_aec2cbaf9e_b.jpg (deflated 0%)\n",
            "  adding: Dataset/animal/Snake/1553471288_be56c349a2_b.jpg (deflated 0%)\n",
            "  adding: Dataset/animal/Snake/178681300_04555c18de_b.jpg (deflated 0%)\n",
            "  adding: Dataset/animal/Snake/1552616725_fd3b7b0ac6_b.jpg (deflated 0%)\n",
            "  adding: Dataset/animal/Snake/8534564177_6917bd8996_b.jpg (deflated 0%)\n",
            "  adding: Dataset/animal/Snake/1552604567_b405f8cc1a_b.jpg (deflated 0%)\n",
            "  adding: Dataset/animal/Snake/8534589263_c591734dda_b.jpg (deflated 0%)\n",
            "  adding: Dataset/animal/Snake/8534574241_81f3f9a372_b.jpg (deflated 1%)\n",
            "  adding: Dataset/animal/Snake/8534590077_b0aef737b9_b.jpg (deflated 0%)\n",
            "  adding: Dataset/animal/Snake/8535678112_ebf50caaf5_b.jpg (deflated 0%)\n",
            "  adding: Dataset/animal/Snake/10203142135_77d8106f4c_b.jpg (deflated 1%)\n",
            "  adding: Dataset/animal/Snake/8534565925_e95f864b86_b.jpg (deflated 0%)\n",
            "  adding: Dataset/animal/Snake/367978871_ebc6d4de3a_b.jpg (deflated 0%)\n",
            "  adding: Dataset/animal/Snake/8534576203_38140ae772_b.jpg (deflated 0%)\n",
            "  adding: Dataset/animal/Snake/8535686120_e732d99756_b.jpg (deflated 0%)\n",
            "  adding: Dataset/animal/Crab/ (stored 0%)\n",
            "  adding: Dataset/animal/Crab/9995993896_0dca9c6637_b.jpg (deflated 0%)\n",
            "  adding: Dataset/animal/Crab/5921399897_f630b367d7_b.jpg (deflated 0%)\n",
            "  adding: Dataset/animal/Crab/6089889_3b76808894_b.jpg (deflated 0%)\n",
            "  adding: Dataset/animal/Crab/16283872760_372480570d_b.jpg (deflated 0%)\n",
            "  adding: Dataset/animal/Crab/8296489461_e2f2870e01_b.jpg (deflated 0%)\n",
            "  adding: Dataset/animal/Crab/3273461268_310fd0b03f_b.jpg (deflated 0%)\n",
            "  adding: Dataset/animal/Crab/250193705_5f93636189_b.jpg (deflated 0%)\n",
            "  adding: Dataset/animal/Crab/6283907543_e199282903_b.jpg (deflated 0%)\n",
            "  adding: Dataset/animal/Crab/29820583751_10152442a1_b.jpg (deflated 0%)\n",
            "  adding: Dataset/animal/Crab/3685706796_c371af33ac_b.jpg (deflated 3%)\n",
            "  adding: Dataset/animal/Crab/8373366354_7c8eca079a_b.jpg (deflated 0%)\n",
            "  adding: Dataset/animal/Crab/2425279585_e117893117_b.jpg (deflated 0%)\n",
            "  adding: Dataset/animal/Crab/33134963810_cb10a39616_b.jpg (deflated 0%)\n",
            "  adding: Dataset/animal/Crab/20496976825_2ac7fc335f_b.jpg (deflated 0%)\n",
            "  adding: Dataset/animal/Crab/5535744295_6b5ba224cb_b.jpg (deflated 0%)\n",
            "  adding: Dataset/animal/Crab/5213210899_c86db7e0e7_b.jpg (deflated 0%)\n",
            "  adding: Dataset/animal/Crab/6209973498_91c9c4d395_b.jpg (deflated 0%)\n",
            "  adding: Dataset/animal/Crab/27247853278_c6f14e1d38_b.jpg (deflated 0%)\n",
            "  adding: Dataset/animal/Crab/1799728833_a54fde70f5_b.jpg (deflated 0%)\n",
            "  adding: Dataset/animal/Crab/8600524850_6c3abd4aff_b.jpg (deflated 0%)\n",
            "  adding: Dataset/animal/Turtle/ (stored 0%)\n",
            "  adding: Dataset/animal/Turtle/16634513180_e1408ce9a4_b.jpg (deflated 0%)\n",
            "  adding: Dataset/animal/Turtle/530028858_88278032ac_b.jpg (deflated 0%)\n",
            "  adding: Dataset/animal/Turtle/15970576496_27d7085a01_b.jpg (deflated 1%)\n",
            "  adding: Dataset/animal/Turtle/2799996304_98f6529539_b.jpg (deflated 0%)\n",
            "  adding: Dataset/animal/Turtle/4704159505_31a624992d_b.jpg (deflated 0%)\n",
            "  adding: Dataset/animal/Turtle/8892048635_1feb0cce37_b.jpg (deflated 1%)\n",
            "  adding: Dataset/animal/Turtle/6076229683_b454e0a93c_b.jpg (deflated 0%)\n",
            "  adding: Dataset/animal/Turtle/401450918_2658b4e69b_b.jpg (deflated 0%)\n",
            "  adding: Dataset/animal/Turtle/4520876420_cf1b4f06c9_b.jpg (deflated 1%)\n",
            "  adding: Dataset/animal/Turtle/214238652_8ab771fd55_b.jpg (deflated 0%)\n",
            "  adding: Dataset/animal/Turtle/4725567621_136eb44ccf_b.jpg (deflated 0%)\n",
            "  adding: Dataset/animal/Turtle/7235905370_c7d8f03951_b.jpg (deflated 0%)\n",
            "  adding: Dataset/animal/Turtle/6841110987_42749d1f73_b.jpg (deflated 1%)\n",
            "  adding: Dataset/animal/Turtle/2558386188_9d3744039f_b.jpg (deflated 0%)\n",
            "  adding: Dataset/animal/Turtle/3871821544_a94179a32c_b.jpg (deflated 0%)\n",
            "  adding: Dataset/animal/Turtle/17172032908_f4495a0df2_b.jpg (deflated 0%)\n",
            "  adding: Dataset/animal/Turtle/3266329532_6867b1d9be_b.jpg (deflated 0%)\n",
            "  adding: Dataset/animal/Turtle/3871029191_94c00c8220_b.jpg (deflated 0%)\n",
            "  adding: Dataset/animal/Turtle/2288613023_21e9403ff7_b.jpg (deflated 0%)\n",
            "  adding: Dataset/animal/Turtle/7155965134_dc42e6f147_b.jpg (deflated 0%)\n",
            "  adding: Dataset/animal/bear/ (stored 0%)\n",
            "  adding: Dataset/animal/bear/17153902847_d2b9bdb912_b.jpg (deflated 0%)\n",
            "  adding: Dataset/animal/bear/22550324455_db8f09db40_b.jpg (deflated 0%)\n",
            "  adding: Dataset/animal/bear/2446486138_b0af6484e3_b.jpg (deflated 0%)\n",
            "  adding: Dataset/animal/bear/15694521885_cfbc1b3320_b.jpg (deflated 0%)\n",
            "  adding: Dataset/animal/bear/9060483520_a27d02d288_b.jpg (deflated 0%)\n",
            "  adding: Dataset/animal/bear/5306999788_cd4d915f17_b.jpg (deflated 0%)\n",
            "  adding: Dataset/animal/bear/2480862060_2b6e1a516d_b.jpg (deflated 0%)\n",
            "  adding: Dataset/animal/bear/7309822058_43b497f091_b.jpg (deflated 0%)\n",
            "  adding: Dataset/animal/bear/7577395740_f9f3f0ba82_b.jpg (deflated 0%)\n",
            "  adding: Dataset/animal/bear/9716127317_cc03a3b4f5_b.jpg (deflated 0%)\n",
            "  adding: Dataset/animal/bear/141771151_b1a4ee577c_b.jpg (deflated 0%)\n",
            "  adding: Dataset/animal/bear/2748084403_636da55722_b.jpg (deflated 0%)\n",
            "  adding: Dataset/animal/bear/4697518117_67bca45841_b.jpg (deflated 0%)\n",
            "  adding: Dataset/animal/bear/44598852764_9ed0257166_b.jpg (deflated 0%)\n",
            "  adding: Dataset/animal/bear/5616008346_48a911612d_b.jpg (deflated 0%)\n",
            "  adding: Dataset/animal/bear/14413727117_46b9f11e7c_b.jpg (deflated 0%)\n",
            "  adding: Dataset/animal/bear/5616010664_35a80684a3_b.jpg (deflated 0%)\n",
            "  adding: Dataset/animal/bear/4060731422_c5be8e2679_b.jpg (deflated 0%)\n",
            "  adding: Dataset/animal/bear/6042693682_bb2695acfa_b.jpg (deflated 0%)\n",
            "  adding: Dataset/animal/bear/5624569781_4dd65ba2d5_b.jpg (deflated 1%)\n",
            "  adding: Dataset/animal/fox/ (stored 0%)\n",
            "  adding: Dataset/animal/fox/36367572521_a8d5235e47_b.jpg (deflated 0%)\n",
            "  adding: Dataset/animal/fox/3099303617_c34be90e6b_b.jpg (deflated 0%)\n",
            "  adding: Dataset/animal/fox/14648130027_52121351f6_b.jpg (deflated 0%)\n",
            "  adding: Dataset/animal/fox/6092638248_5b4c3f49ec_b.jpg (deflated 0%)\n",
            "  adding: Dataset/animal/fox/6090854608_59e7fb2cc7.jpg (deflated 0%)\n",
            "  adding: Dataset/animal/fox/349069183_70b51d8b37_b.jpg (deflated 0%)\n",
            "  adding: Dataset/animal/fox/27576671031_e2458f5d94_b.jpg (deflated 0%)\n",
            "  adding: Dataset/animal/fox/14648130107_d7a1b487a7_b.jpg (deflated 0%)\n",
            "  adding: Dataset/animal/fox/30958174903_803e7b8c0e_b.jpg (deflated 0%)\n",
            "  adding: Dataset/animal/fox/5973756573_4056dfdda6_b.jpg (deflated 0%)\n",
            "  adding: Dataset/animal/fox/30937371794_82c62d486f_b.jpg (deflated 0%)\n",
            "  adding: Dataset/animal/fox/13486614834_eaa4fd95aa_b.jpg (deflated 0%)\n",
            "  adding: Dataset/animal/fox/33800862532_694625730a_b.jpg (deflated 1%)\n",
            "  adding: Dataset/animal/fox/15347585569_6697985a54_b.jpg (deflated 1%)\n",
            "  adding: Dataset/animal/fox/16991254206_2804d50375_b.jpg (deflated 1%)\n",
            "  adding: Dataset/animal/fox/13663558265_1303751467_b.jpg (deflated 0%)\n",
            "  adding: Dataset/animal/fox/16746786768_ce49d4b496_b.jpg (deflated 0%)\n",
            "  adding: Dataset/animal/fox/14648043928_57a8d3e10e_b.jpg (deflated 0%)\n",
            "  adding: Dataset/animal/fox/8202598783_c0dce364c9_b.jpg (deflated 0%)\n",
            "  adding: Dataset/animal/fox/27119258694_548fe7116a_b.jpg (deflated 0%)\n",
            "  adding: Dataset/animal/Cock/ (stored 0%)\n",
            "  adding: Dataset/animal/Cock/2700841196_78f6912560_b.jpg (deflated 1%)\n",
            "  adding: Dataset/animal/Cock/90743517_8ef85ee7de_b.jpg (deflated 0%)\n",
            "  adding: Dataset/animal/Cock/3162745230_26334982be_b.jpg (deflated 0%)\n",
            "  adding: Dataset/animal/Cock/8147305898_3c1cea7f5f_b.jpg (deflated 0%)\n",
            "  adding: Dataset/animal/Cock/3701102261_7ec65ba624_b.jpg (deflated 0%)\n",
            "  adding: Dataset/animal/Cock/52803804172_b0d05961da_b.jpg (deflated 0%)\n",
            "  adding: Dataset/animal/Cock/2435520570_b14b954edf_b.jpg (deflated 0%)\n",
            "  adding: Dataset/animal/Cock/218024811_2e85e74278_b.jpg (deflated 0%)\n",
            "  adding: Dataset/animal/Cock/37546861964_c6d7046433_b.jpg (deflated 0%)\n",
            "  adding: Dataset/animal/Cock/914976293_59fe4979db_b.jpg (deflated 0%)\n",
            "  adding: Dataset/animal/Cock/49506987973_e8f4dab34d_b.jpg (deflated 0%)\n",
            "  adding: Dataset/animal/Cock/3470692536_7c3c9e2a14_b.jpg (deflated 0%)\n",
            "  adding: Dataset/animal/Cock/7777298146_4007d28de2_b.jpg (deflated 1%)\n",
            "  adding: Dataset/animal/Cock/6073547845_84b1dc1599_b.jpg (deflated 0%)\n",
            "  adding: Dataset/animal/Cock/3553000647_1145c2e929_b.jpg (deflated 0%)\n",
            "  adding: Dataset/animal/Cock/16595068808_dd2504d7ba_b.jpg (deflated 0%)\n",
            "  adding: Dataset/animal/Cock/33846890328_a53c522626_b.jpg (deflated 0%)\n",
            "  adding: Dataset/animal/Cock/4595451_8d52afb8b6_b.jpg (deflated 0%)\n",
            "  adding: Dataset/animal/Cock/4484298559_e50675cb04_b.jpg (deflated 13%)\n",
            "  adding: Dataset/animal/Cock/7056876605_370cd357a3_b.jpg (deflated 0%)\n",
            "  adding: Dataset/animal/Cat/ (stored 0%)\n",
            "  adding: Dataset/animal/Cat/14934282524_344c84246b_b.jpg (deflated 0%)\n",
            "  adding: Dataset/animal/Cat/27257168879_464200ea90_b.jpg (deflated 0%)\n",
            "  adding: Dataset/animal/Cat/14934292534_32b0302f2d_b.jpg (deflated 1%)\n",
            "  adding: Dataset/animal/Cat/24811748270_3102fc52fb_b.jpg (deflated 0%)\n",
            "  adding: Dataset/animal/Cat/45925416992_c9caac8cb9_b.jpg (deflated 0%)\n",
            "  adding: Dataset/animal/Cat/7380380362_0589be0be1_b.jpg (deflated 1%)\n",
            "  adding: Dataset/animal/Cat/4638426067_1a979d3690_b.jpg (deflated 0%)\n",
            "  adding: Dataset/animal/Cat/16386660144_a6c4026657_b.jpg (deflated 0%)\n",
            "  adding: Dataset/animal/Cat/6303228181_59371c29dc_b.jpg (deflated 1%)\n",
            "  adding: Dataset/animal/Cat/32711702733_7cdd9dbb3a_b.jpg (deflated 0%)\n",
            "  adding: Dataset/animal/Cat/5372754294_db6acaa1e5_b.jpg (deflated 5%)\n",
            "  adding: Dataset/animal/Cat/7190755946_ea97e85765_b.jpg (deflated 0%)\n",
            "  adding: Dataset/animal/Cat/8216315457_28762c496d_b.jpg (deflated 0%)\n",
            "  adding: Dataset/animal/Cat/17026317426_bb3acf19fb_b.jpg (deflated 0%)\n",
            "  adding: Dataset/animal/Cat/39256672581_c48569e3a2_b.jpg (deflated 0%)\n",
            "  adding: Dataset/animal/Cat/15504684310_f555c88915_b.jpg (deflated 0%)\n",
            "  adding: Dataset/animal/Cat/3977203168_b9d02a0233_b.jpg (deflated 0%)\n",
            "  adding: Dataset/animal/Cat/5881933297_7974eaff82_b.jpg (deflated 0%)\n",
            "  adding: Dataset/animal/Cat/11991979753_eac1d33dd8_b.jpg (deflated 1%)\n",
            "  adding: Dataset/animal/Cat/9775005856_9b5e0ebe16_b.jpg (deflated 0%)\n",
            "  adding: Dataset/animal/Bats/ (stored 0%)\n",
            "  adding: Dataset/animal/Bats/9510342606_4c2d391893_b.jpg (deflated 1%)\n",
            "  adding: Dataset/animal/Bats/5477224236_edc0b01d9e_b.jpg (deflated 0%)\n",
            "  adding: Dataset/animal/Bats/6871261867_f7a9349059_b.jpg (deflated 2%)\n",
            "  adding: Dataset/animal/Bats/246129477_8291423f80_b.jpg (deflated 1%)\n",
            "  adding: Dataset/animal/Bats/35221324_fa061e3e3e_b.jpg (deflated 0%)\n",
            "  adding: Dataset/animal/Bats/5321837123_e416b2d170_b.jpg (deflated 14%)\n",
            "  adding: Dataset/animal/Bats/3506721805_842bd9e1a2_b.jpg (deflated 1%)\n",
            "  adding: Dataset/animal/Bats/2088984629_9073cd74e6_b.jpg (deflated 0%)\n",
            "  adding: Dataset/animal/Bats/25510933790_9ee45bc7bd_b.jpg (deflated 0%)\n",
            "  adding: Dataset/animal/Bats/3837062508_832c06f4c1_b.jpg (deflated 2%)\n",
            "  adding: Dataset/animal/Bats/5277590306_5aabe79b18_b.jpg (deflated 1%)\n",
            "  adding: Dataset/animal/Bats/6872747918_b504e8913b_b.jpg (deflated 0%)\n",
            "  adding: Dataset/animal/Bats/4946155299_b10835d58d_b.jpg (deflated 0%)\n",
            "  adding: Dataset/animal/Bats/246129557_1e45e2f504_b.jpg (deflated 0%)\n",
            "  adding: Dataset/animal/Bats/242444396_fc3f421106_b.jpg (deflated 0%)\n",
            "  adding: Dataset/animal/Bats/4112204281_2bc7c670c4_b.jpg (deflated 9%)\n",
            "  adding: Dataset/animal/Bats/6871256055_7d15ee1d6c_b.jpg (deflated 0%)\n",
            "  adding: Dataset/animal/Bats/9510353068_b0b4f552d3_b.jpg (deflated 1%)\n",
            "  adding: Dataset/animal/Bats/8526191_fbdfa19b34_b.jpg (deflated 0%)\n",
            "  adding: Dataset/animal/Bats/2308173421_b23c6f0733_b.jpg (deflated 0%)\n",
            "  adding: Dataset/animal/Rabbit/ (stored 0%)\n",
            "  adding: Dataset/animal/Rabbit/477694927_f6fbc7583a_b.jpg (deflated 0%)\n",
            "  adding: Dataset/animal/Rabbit/5782653293_bfe75d204c_b.jpg (deflated 0%)\n",
            "  adding: Dataset/animal/Rabbit/4520875292_27622d99ab_b.jpg (deflated 1%)\n",
            "  adding: Dataset/animal/Rabbit/7789081464_a2867ed38d_b.jpg (deflated 0%)\n",
            "  adding: Dataset/animal/Rabbit/13786563013_7db3c03e80_b.jpg (deflated 0%)\n",
            "  adding: Dataset/animal/Rabbit/2675343973_a5d35fafe9_b.jpg (deflated 0%)\n",
            "  adding: Dataset/animal/Rabbit/4038258875_793df0d6d1_b.jpg (deflated 0%)\n",
            "  adding: Dataset/animal/Rabbit/4551456285_5d84e71f7a_b.jpg (deflated 0%)\n",
            "  adding: Dataset/animal/Rabbit/4039007508_df28e89305_b.jpg (deflated 0%)\n",
            "  adding: Dataset/animal/Rabbit/2675344021_443093615b_b.jpg (deflated 0%)\n",
            "  adding: Dataset/animal/Rabbit/45839575782_e6dda11b79_b.jpg (deflated 0%)\n",
            "  adding: Dataset/animal/Rabbit/3321222219_9e5b009461_b.jpg (deflated 0%)\n",
            "  adding: Dataset/animal/Rabbit/4603945066_6b2cc3ee8f_b.jpg (deflated 0%)\n",
            "  adding: Dataset/animal/Rabbit/9260207734_cfdd63b1b0_b.jpg (deflated 0%)\n",
            "  adding: Dataset/animal/Rabbit/3821157141_15020b3f65_b.jpg (deflated 0%)\n",
            "  adding: Dataset/animal/Rabbit/3706445364_5fcb625894_b.jpg (deflated 0%)\n",
            "  adding: Dataset/animal/Rabbit/7376464978_e8f5570fa3_b.jpg (deflated 0%)\n",
            "  adding: Dataset/animal/Rabbit/28149987422_6d40137069_b.jpg (deflated 0%)\n",
            "  adding: Dataset/animal/Rabbit/3520910820_79c5fdaffc_b.jpg (deflated 0%)\n",
            "  adding: Dataset/animal/Rabbit/268655305_5c5d929645_b.jpg (deflated 7%)\n",
            "  adding: Dataset/animal/Fish/ (stored 0%)\n",
            "  adding: Dataset/animal/Fish/3357906924_80678a560a_b.jpg (deflated 1%)\n",
            "  adding: Dataset/animal/Fish/11949320845_ab2ccf8b3f_b.jpg (deflated 0%)\n",
            "  adding: Dataset/animal/Fish/8116209493_13825b0ea2_b.jpg (deflated 2%)\n",
            "  adding: Dataset/animal/Fish/36389829780_2af55b115e_b.jpg (deflated 0%)\n",
            "  adding: Dataset/animal/Fish/5222282254_def0de379d_b.jpg (deflated 0%)\n",
            "  adding: Dataset/animal/Fish/15663705333_b0f9a9d58e_b.jpg (deflated 0%)\n",
            "  adding: Dataset/animal/Fish/3175187512_7407ec4141_b.jpg (deflated 1%)\n",
            "  adding: Dataset/animal/Fish/16248614078_c9caf1000d_b.jpg (deflated 0%)\n",
            "  adding: Dataset/animal/Fish/24023848796_ff008d5022_b.jpg (deflated 0%)\n",
            "  adding: Dataset/animal/Fish/34722907426_9f90660013_b.jpg (deflated 0%)\n",
            "  adding: Dataset/animal/Fish/5658683869_7eaef60247_b.jpg (deflated 0%)\n",
            "  adding: Dataset/animal/Fish/8396356423_a832ffefac_b.jpg (deflated 0%)\n",
            "  adding: Dataset/animal/Fish/8049578760_baaaf7257b_b.jpg (deflated 0%)\n",
            "  adding: Dataset/animal/Fish/246780914_f98c766357_b.jpg (deflated 0%)\n",
            "  adding: Dataset/animal/Fish/3879372382_bfa2ef0a26_b.jpg (deflated 0%)\n",
            "  adding: Dataset/animal/Fish/13084990385_29230d1115_b.jpg (deflated 2%)\n",
            "  adding: Dataset/animal/Fish/16202588566_f2bdf25f0c_b.jpg (deflated 0%)\n",
            "  adding: Dataset/animal/Fish/18121252129_5c53b4c1e4_b.jpg (deflated 0%)\n",
            "  adding: Dataset/animal/Fish/14284130798_2214da6875_b.jpg (deflated 0%)\n",
            "  adding: Dataset/animal/Fish/8166024737_15861e4956_b.jpg (deflated 0%)\n",
            "  adding: Dataset/animal/cows/ (stored 0%)\n",
            "  adding: Dataset/animal/cows/5102842242_e8971025aa_b.jpg (deflated 0%)\n",
            "  adding: Dataset/animal/cows/3621244440_26af8e1303_b.jpg (deflated 1%)\n",
            "  adding: Dataset/animal/cows/245857494_1d680116a9_b.jpg (deflated 1%)\n",
            "  adding: Dataset/animal/cows/15864644097_eb07727790_b.jpg (deflated 0%)\n",
            "  adding: Dataset/animal/cows/8027168255_394a5849bc_b.jpg (deflated 1%)\n",
            "  adding: Dataset/animal/cows/19410274492_18c8a1f6c1_b.jpg (deflated 0%)\n",
            "  adding: Dataset/animal/cows/4809097157_62be3447c5_b.jpg (deflated 0%)\n",
            "  adding: Dataset/animal/cows/3123170162_d98aa215fc_b.jpg (deflated 0%)\n",
            "  adding: Dataset/animal/cows/6468288849_2a844b5f8a_b.jpg (deflated 0%)\n",
            "  adding: Dataset/animal/cows/2792755390_d4f9d085d2_b.jpg (deflated 0%)\n",
            "  adding: Dataset/animal/cows/6394758781_3c9b5592e3_b.jpg (deflated 1%)\n",
            "  adding: Dataset/animal/cows/2989646904_33dd61c1df_b.jpg (deflated 1%)\n",
            "  adding: Dataset/animal/cows/9502458291_335867eae4_b.jpg (deflated 0%)\n",
            "  adding: Dataset/animal/cows/5436738460_5598c1dfdd_b.jpg (deflated 0%)\n",
            "  adding: Dataset/animal/cows/43667303721_a5fb635e10_b.jpg (deflated 1%)\n",
            "  adding: Dataset/animal/cows/3561133449_ab42fbef7d_b.jpg (deflated 0%)\n",
            "  adding: Dataset/animal/cows/23342717833_53f5f72fec_b.jpg (deflated 0%)\n",
            "  adding: Dataset/animal/cows/19416508475_4738e29a4a_b.jpg (deflated 0%)\n",
            "  adding: Dataset/animal/cows/20465708223_338132b7e2_b.jpg (deflated 0%)\n",
            "  adding: Dataset/animal/cows/536450041_a81213c7b6.jpg (deflated 0%)\n",
            "  adding: Dataset/animal/Coral/ (stored 0%)\n",
            "  adding: Dataset/animal/Coral/1187370561_dfe829ff6b_b.jpg (deflated 0%)\n",
            "  adding: Dataset/animal/Coral/2549378353_4219b2a93b_b.jpg (deflated 0%)\n",
            "  adding: Dataset/animal/Coral/2810438477_b9a6276e19_b.jpg (deflated 0%)\n",
            "  adding: Dataset/animal/Coral/6177772924_95a35c981c_b.jpg (deflated 0%)\n",
            "  adding: Dataset/animal/Coral/5392573959_dbfcfe87b6_b.jpg (deflated 0%)\n",
            "  adding: Dataset/animal/Coral/30012358062_973826642e_b.jpg (deflated 1%)\n",
            "  adding: Dataset/animal/Coral/6177245365_1869d477c5_b.jpg (deflated 0%)\n",
            "  adding: Dataset/animal/Coral/9564658674_0fa1a53fb6_b.jpg (deflated 0%)\n",
            "  adding: Dataset/animal/Coral/4985391037_eb891dd1d5_b.jpg (deflated 0%)\n",
            "  adding: Dataset/animal/Coral/25839922381_c722d05cbd_b.jpg (deflated 0%)\n",
            "  adding: Dataset/animal/Coral/7665815360_1b560f1f9c_b.jpg (deflated 0%)\n",
            "  adding: Dataset/animal/Coral/6815445228_2cc61f9012_b.jpg (deflated 0%)\n",
            "  adding: Dataset/animal/Coral/6559858557_ff42488a40_b.jpg (deflated 0%)\n",
            "  adding: Dataset/animal/Coral/25358362476_76de913980_b.jpg (deflated 0%)\n",
            "  adding: Dataset/animal/Coral/8930915577_e738e59779_b.jpg (deflated 0%)\n",
            "  adding: Dataset/animal/Coral/3085252066_8927678c13_b.jpg (deflated 0%)\n",
            "  adding: Dataset/animal/Coral/6177773360_fb52cd5509_b.jpg (deflated 0%)\n",
            "  adding: Dataset/animal/Coral/1727113723_aca7228e2f_b.jpg (deflated 0%)\n",
            "  adding: Dataset/animal/Coral/4014329444_261085687c_b.jpg (deflated 0%)\n",
            "  adding: Dataset/animal/Coral/5476531005_89355068e2_b.jpg (deflated 0%)\n",
            "  adding: Dataset/animal/Snail/ (stored 0%)\n",
            "  adding: Dataset/animal/Snail/6132259683_f7c7aef915_b.jpg (deflated 0%)\n",
            "  adding: Dataset/animal/Snail/5787096423_c0958e7f33_b.jpg (deflated 6%)\n",
            "  adding: Dataset/animal/Snail/14014390990_98d6667879_b.jpg (deflated 0%)\n",
            "  adding: Dataset/animal/Snail/7137261591_8eb956259e_b.jpg (deflated 0%)\n",
            "  adding: Dataset/animal/Snail/33394488893_ddfce8fcb8_b.jpg (deflated 1%)\n",
            "  adding: Dataset/animal/Snail/9016734834_665d5fdeb2_b.jpg (deflated 1%)\n",
            "  adding: Dataset/animal/Snail/53236383_631f429b55_b.jpg (deflated 0%)\n",
            "  adding: Dataset/animal/Snail/3544710531_57f4d5d1be_b.jpg (deflated 0%)\n",
            "  adding: Dataset/animal/Snail/3959740290_c03fba6481_b.jpg (deflated 0%)\n",
            "  adding: Dataset/animal/Snail/35846813944_4865a443eb_b.jpg (deflated 0%)\n",
            "  adding: Dataset/animal/Snail/33600923344_c6c07dd2c4_b.jpg (deflated 0%)\n",
            "  adding: Dataset/animal/Snail/19273164655_8fc3432755_b.jpg (deflated 0%)\n",
            "  adding: Dataset/animal/Snail/5603934815_082c5dd43a_b.jpg (deflated 0%)\n",
            "  adding: Dataset/animal/Snail/17025992671_061db0c13d_b.jpg (deflated 1%)\n",
            "  adding: Dataset/animal/Snail/4555079405_b9512221e4_b.jpg (deflated 0%)\n",
            "  adding: Dataset/animal/Snail/4721416444_bd34abcdc0_b.jpg (deflated 0%)\n",
            "  adding: Dataset/animal/Snail/693813637_e5deb13f5e_b.jpg (deflated 0%)\n",
            "  adding: Dataset/animal/Snail/36110977974_9503301e72_b.jpg (deflated 1%)\n",
            "  adding: Dataset/animal/Snail/6359153795_7a8ff8193a_b.jpg (deflated 0%)\n",
            "  adding: Dataset/animal/Snail/35423526186_dd25f3253a_b.jpg (deflated 0%)\n",
            "  adding: Dataset/animal/Civet/ (stored 0%)\n",
            "  adding: Dataset/animal/Civet/5731125929_3319d816f0_b.jpg (deflated 0%)\n",
            "  adding: Dataset/animal/Civet/35631760866_61482c96b9_b.jpg (deflated 0%)\n",
            "  adding: Dataset/animal/Civet/857073222_007e6af47d_b.jpg (deflated 0%)\n",
            "  adding: Dataset/animal/Civet/5731637306_3108379bf8_b.jpg (deflated 3%)\n",
            "  adding: Dataset/animal/Civet/5731180547_c460922969_b.jpg (deflated 0%)\n",
            "  adding: Dataset/animal/Civet/5731679094_c0c43f3596_b.jpg (deflated 1%)\n",
            "  adding: Dataset/animal/Civet/5731601694_436de280a3_b.jpg (deflated 0%)\n",
            "  adding: Dataset/animal/Civet/5731119231_16a5dbe587_b.jpg (deflated 1%)\n",
            "  adding: Dataset/animal/Civet/5731208709_330b9929f7_b.jpg (deflated 0%)\n",
            "  adding: Dataset/animal/Civet/4280168904_747ce9e715_b.jpg (deflated 0%)\n",
            "  adding: Dataset/animal/Civet/4280168562_01b9813921_b.jpg (deflated 0%)\n",
            "  adding: Dataset/animal/Civet/33872415502_de5ccdf31b_b.jpg (deflated 0%)\n",
            "  adding: Dataset/animal/Civet/5731616714_ca97b6ed88_b.jpg (deflated 0%)\n",
            "  adding: Dataset/animal/Civet/5731717286_fd747ed4b3_b.jpg (deflated 1%)\n",
            "  adding: Dataset/animal/Civet/3677465735_ea2587d0b3_b.jpg (deflated 0%)\n",
            "  adding: Dataset/animal/Civet/5731048151_306b6d93dd_b.jpg (deflated 0%)\n",
            "  adding: Dataset/animal/Civet/5731723696_46ec755b3f_b.jpg (deflated 0%)\n",
            "  adding: Dataset/animal/Civet/5731684318_1f9310a83a_b.jpg (deflated 0%)\n",
            "  adding: Dataset/animal/Civet/5731187193_b79a3e043e_b.jpg (deflated 0%)\n",
            "  adding: Dataset/animal/Civet/5731105331_067003dab4_b.jpg (deflated 0%)\n",
            "  adding: Dataset/animal/Pangolins/ (stored 0%)\n",
            "  adding: Dataset/animal/Pangolins/5675920973_6edfa50cf5_b.jpg (deflated 0%)\n",
            "  adding: Dataset/animal/Pangolins/26856934406_a5b31c2ce5_b.jpg (deflated 1%)\n",
            "  adding: Dataset/animal/Pangolins/4578588773_30e30b4cbd_b.jpg (deflated 0%)\n",
            "  adding: Dataset/animal/Pangolins/49551993367_d30d684db0_b.jpg (deflated 0%)\n",
            "  adding: Dataset/animal/Pangolins/685425781_c53e3e7c4b_b.jpg (deflated 1%)\n",
            "  adding: Dataset/animal/Pangolins/49551755726_39bdff30e6_b.jpg (deflated 0%)\n",
            "  adding: Dataset/animal/Pangolins/1971073665_a6731397ec_b.jpg (deflated 0%)\n",
            "  adding: Dataset/animal/Pangolins/2083714401_7e6a838f03_b.jpg (deflated 0%)\n",
            "  adding: Dataset/animal/Pangolins/49551756336_19d73faeb2_b.jpg (deflated 0%)\n",
            "  adding: Dataset/animal/Pangolins/36927936552_1d50a9f981_b.jpg (deflated 0%)\n",
            "  adding: Dataset/animal/Pangolins/5353180950_9d9127ee52_b.jpg (deflated 1%)\n",
            "  adding: Dataset/animal/Pangolins/49551260173_49847aa549_b.jpg (deflated 0%)\n",
            "  adding: Dataset/animal/Pangolins/5109479663_c2b33f94ac_b.jpg (deflated 0%)\n",
            "  adding: Dataset/animal/Pangolins/49551755981_2fe199e823_b.jpg (deflated 0%)\n",
            "  adding: Dataset/animal/Pangolins/49551992812_ec154305be_b.jpg (deflated 0%)\n",
            "  adding: Dataset/animal/Pangolins/26368258000_7ff90be911_b.jpg (deflated 0%)\n",
            "  adding: Dataset/animal/Pangolins/49551259578_295db89af4_b.jpg (deflated 0%)\n",
            "  adding: Dataset/animal/Pangolins/49551259213_970ab66346_b.jpg (deflated 0%)\n",
            "  adding: Dataset/animal/Pangolins/5675925639_a5080b5c7c_b.jpg (deflated 0%)\n",
            "  adding: Dataset/animal/Pangolins/303179824_cc6e32da9b_b.jpg (deflated 0%)\n",
            "  adding: Dataset/animal/Jellyfish/ (stored 0%)\n",
            "  adding: Dataset/animal/Jellyfish/39362148281_d339b7af17_b.jpg (deflated 1%)\n",
            "  adding: Dataset/animal/Jellyfish/44997645741_c487127536_b.jpg (deflated 0%)\n",
            "  adding: Dataset/animal/Jellyfish/14331959343_45b748f229_b.jpg (deflated 1%)\n",
            "  adding: Dataset/animal/Jellyfish/39730485915_6cdcf6bce1_b.jpg (deflated 0%)\n",
            "  adding: Dataset/animal/Jellyfish/3848902040_bdd7a1e3a3_b.jpg (deflated 0%)\n",
            "  adding: Dataset/animal/Jellyfish/3848084755_5e6b216a06_b.jpg (deflated 0%)\n",
            "  adding: Dataset/animal/Jellyfish/42415361800_9962ecf023_b.jpg (deflated 1%)\n",
            "  adding: Dataset/animal/Jellyfish/4483183856_b00913fdbc_b.jpg (deflated 1%)\n",
            "  adding: Dataset/animal/Jellyfish/1045387441_a557ac3147_b.jpg (deflated 0%)\n",
            "  adding: Dataset/animal/Jellyfish/2921937694_477659eae2_b.jpg (deflated 1%)\n",
            "  adding: Dataset/animal/Jellyfish/41297258295_2493514071_b.jpg (deflated 0%)\n",
            "  adding: Dataset/animal/Jellyfish/28760514535_5c3e56a404_b.jpg (deflated 1%)\n",
            "  adding: Dataset/animal/Jellyfish/481091760_03c0b98fb8_b.jpg (deflated 0%)\n",
            "  adding: Dataset/animal/Jellyfish/3848868438_f34e7c0af5_b.jpg (deflated 0%)\n",
            "  adding: Dataset/animal/Jellyfish/686347200_b108531bf9_b.jpg (deflated 1%)\n",
            "  adding: Dataset/animal/Jellyfish/4035701454_a94e907584_b.jpg (deflated 1%)\n",
            "  adding: Dataset/animal/Jellyfish/3848872364_e11cf3ddb8_b.jpg (deflated 0%)\n",
            "  adding: Dataset/animal/Jellyfish/38340743134_124c8b1a90_b.jpg (deflated 0%)\n",
            "  adding: Dataset/animal/Jellyfish/44791540314_c8ae2861d2_b.jpg (deflated 1%)\n",
            "  adding: Dataset/animal/Jellyfish/686347370_f262764386_b.jpg (deflated 0%)\n",
            "  adding: Dataset/animal/Whale/ (stored 0%)\n",
            "  adding: Dataset/animal/Whale/14775377248_e5050ca441_b.jpg (deflated 0%)\n",
            "  adding: Dataset/animal/Whale/5159560621_7d3eb3da9a_b.jpg (deflated 0%)\n",
            "  adding: Dataset/animal/Whale/26814676724_812167f42f_b.jpg (deflated 0%)\n",
            "  adding: Dataset/animal/Whale/2989055761_628505c71b_b.jpg (deflated 0%)\n",
            "  adding: Dataset/animal/Whale/4728383235_9feed576f6_b.jpg (deflated 1%)\n",
            "  adding: Dataset/animal/Whale/2105356049_7a4715f7bc_b.jpg (deflated 0%)\n",
            "  adding: Dataset/animal/Whale/30656189384_72512ea7dd_b.jpg (deflated 0%)\n",
            "  adding: Dataset/animal/Whale/31742107420_59603612b4_b.jpg (deflated 0%)\n",
            "  adding: Dataset/animal/Whale/7471104002_169c3077ba_b.jpg (deflated 5%)\n",
            "  adding: Dataset/animal/Whale/53069662978_14e682efcf_b.jpg (deflated 0%)\n",
            "  adding: Dataset/animal/Whale/4253748227_723454414a_b.jpg (deflated 1%)\n",
            "  adding: Dataset/animal/Whale/5973578169_53b1bb5314_b.jpg (deflated 0%)\n",
            "  adding: Dataset/animal/Whale/14628399398_d0315db7c6_b.jpg (deflated 0%)\n",
            "  adding: Dataset/animal/Whale/31269358916_aae1d1f1b3_b.jpg (deflated 2%)\n",
            "  adding: Dataset/animal/Whale/5006865271_87483a3d06_b.jpg (deflated 0%)\n",
            "  adding: Dataset/animal/Whale/23910858506_1aa2d2ba08_b.jpg (deflated 0%)\n",
            "  adding: Dataset/animal/Whale/5085261464_bde7a8cc7e_b.jpg (deflated 0%)\n",
            "  adding: Dataset/animal/Whale/3114321642_86ab331c31_b.jpg (deflated 4%)\n",
            "  adding: Dataset/animal/Whale/4639321173_3c71fcb084_b.jpg (deflated 1%)\n",
            "  adding: Dataset/animal/Whale/3840199074_60bfbd8b52_b.jpg (deflated 0%)\n",
            "  adding: Dataset/animal/Owl/ (stored 0%)\n",
            "  adding: Dataset/animal/Owl/2982892322_9f702faf4e_b.jpg (deflated 1%)\n",
            "  adding: Dataset/animal/Owl/10837709536_35e76b88e7_b.jpg (deflated 0%)\n",
            "  adding: Dataset/animal/Owl/12605123663_67af07a5c2_b.jpg (deflated 0%)\n",
            "  adding: Dataset/animal/Owl/5795216121_c914c372b4_b.jpg (deflated 0%)\n",
            "  adding: Dataset/animal/Owl/36123339640_751b0c2d94_b.jpg (deflated 5%)\n",
            "  adding: Dataset/animal/Owl/9164845299_34c839023c_b.jpg (deflated 0%)\n",
            "  adding: Dataset/animal/Owl/504994532_ff2868f7ef_b.jpg (deflated 1%)\n",
            "  adding: Dataset/animal/Owl/4428174778_1b8df85dc2_b.jpg (deflated 0%)\n",
            "  adding: Dataset/animal/Owl/6976350180_39c2f49ced_b.jpg (deflated 0%)\n",
            "  adding: Dataset/animal/Owl/9822694506_39a46c2289_b.jpg (deflated 0%)\n",
            "  adding: Dataset/animal/Owl/6022297293_2a85c8f816_b.jpg (deflated 0%)\n",
            "  adding: Dataset/animal/Owl/16903802987_8c0ecb9b86_b.jpg (deflated 0%)\n",
            "  adding: Dataset/animal/Owl/26769898061_4567777a97_b.jpg (deflated 0%)\n",
            "  adding: Dataset/animal/Owl/16714767718_165592df95_b.jpg (deflated 0%)\n",
            "  adding: Dataset/animal/Owl/14818553615_6c3645ebc9_b.jpg (deflated 0%)\n",
            "  adding: Dataset/animal/Owl/33445903392_587242bef5_b.jpg (deflated 0%)\n",
            "  adding: Dataset/animal/Owl/15820560829_2890d642c5_b.jpg (deflated 0%)\n",
            "  adding: Dataset/animal/Owl/3465818965_d6d97e420a_b.jpg (deflated 0%)\n",
            "  adding: Dataset/animal/Owl/3465808233_c233d719ea_b.jpg (deflated 0%)\n",
            "  adding: Dataset/animal/Owl/9298204829_360ed5af78_b.jpg (deflated 0%)\n",
            "  adding: Dataset/animal/Elephant/ (stored 0%)\n",
            "  adding: Dataset/animal/Elephant/4839032364_8c521066b2_b.jpg (deflated 0%)\n",
            "  adding: Dataset/animal/Elephant/319475818_5d68e53e06_b.jpg (deflated 0%)\n",
            "  adding: Dataset/animal/Elephant/27962781004_63ea96eb56_b.jpg (deflated 0%)\n",
            "  adding: Dataset/animal/Elephant/180285899_8f54a73592_b.jpg (deflated 0%)\n",
            "  adding: Dataset/animal/Elephant/14307815484_87d075481a_b.jpg (deflated 0%)\n",
            "  adding: Dataset/animal/Elephant/7339578374_da5daf9ea0_b.jpg (deflated 0%)\n",
            "  adding: Dataset/animal/Elephant/2426068723_28790fb8f7_b.jpg (deflated 0%)\n",
            "  adding: Dataset/animal/Elephant/5634205448_6464d730dc_b.jpg (deflated 0%)\n",
            "  adding: Dataset/animal/Elephant/25792173096_7384526881_b.jpg (deflated 0%)\n",
            "  adding: Dataset/animal/Elephant/4839029036_689bb6afc7_b.jpg (deflated 2%)\n",
            "  adding: Dataset/animal/Elephant/4838418209_f962448bd8_b.jpg (deflated 0%)\n",
            "  adding: Dataset/animal/Elephant/3868199037_5477897416_b.jpg (deflated 0%)\n",
            "  adding: Dataset/animal/Elephant/4839030572_b4f0f2c314_b.jpg (deflated 0%)\n",
            "  adding: Dataset/animal/Elephant/1302683471_f6b4336758_b.jpg (deflated 0%)\n",
            "  adding: Dataset/animal/Elephant/9480237487_53fe2fb608_b.jpg (deflated 0%)\n",
            "  adding: Dataset/animal/Elephant/4838416433_ffc564eb4b_b.jpg (deflated 0%)\n",
            "  adding: Dataset/animal/Elephant/124463039_ac217f4a77_b.jpg (deflated 0%)\n",
            "  adding: Dataset/animal/Elephant/4838416767_bb01ceda8c_b.jpg (deflated 0%)\n",
            "  adding: Dataset/animal/Elephant/319476079_d1212ecb0e_b.jpg (deflated 1%)\n",
            "  adding: Dataset/animal/Elephant/4839031518_3765f997a4_b.jpg (deflated 16%)\n",
            "  adding: Dataset/animal/Butterfly/ (stored 0%)\n",
            "  adding: Dataset/animal/Butterfly/4475293969_2531069e9c_b.jpg (deflated 2%)\n",
            "  adding: Dataset/animal/Butterfly/5813127330_4f0e03fb36_b.jpg (deflated 2%)\n",
            "  adding: Dataset/animal/Butterfly/35055129003_edf18ca5f9_b.jpg (deflated 2%)\n",
            "  adding: Dataset/animal/Butterfly/8706915243_2ff995843a_b.jpg (deflated 1%)\n",
            "  adding: Dataset/animal/Butterfly/8363465761_4b7322828a_b.jpg (deflated 0%)\n",
            "  adding: Dataset/animal/Butterfly/4983460756_1aa5260787_b.jpg (deflated 0%)\n",
            "  adding: Dataset/animal/Butterfly/30618799306_f778aeae12_b.jpg (deflated 0%)\n",
            "  adding: Dataset/animal/Butterfly/3626881261_f5f4b53f68_b.jpg (deflated 0%)\n",
            "  adding: Dataset/animal/Butterfly/6541361561_9984bc65f4_b.jpg (deflated 1%)\n",
            "  adding: Dataset/animal/Butterfly/10407650646_9138c1349a_b.jpg (deflated 0%)\n",
            "  adding: Dataset/animal/Butterfly/8115939265_07762eef3d_b.jpg (deflated 0%)\n",
            "  adding: Dataset/animal/Butterfly/8363470909_a3f7515f72_b.jpg (deflated 0%)\n",
            "  adding: Dataset/animal/Butterfly/8363463803_55f0be1878_b.jpg (deflated 2%)\n",
            "  adding: Dataset/animal/Butterfly/6925779376_0ae065ef82_b.jpg (deflated 0%)\n",
            "  adding: Dataset/animal/Butterfly/30748783572_e5f2bdb3a9_b.jpg (deflated 1%)\n",
            "  adding: Dataset/animal/Butterfly/6212154338_6853fea2a1_b.jpg (deflated 0%)\n",
            "  adding: Dataset/animal/Butterfly/2458130467_214711d16d_b.jpg (deflated 0%)\n",
            "  adding: Dataset/animal/Butterfly/5744236238_2acbf1d8fe_b.jpg (deflated 0%)\n",
            "  adding: Dataset/animal/flamingo/ (stored 0%)\n",
            "  adding: Dataset/animal/flamingo/3601386604_83e05c80fb_b.jpg (deflated 0%)\n",
            "  adding: Dataset/animal/flamingo/5092395194_fb83c64a30_b.jpg (deflated 0%)\n",
            "  adding: Dataset/animal/flamingo/2742278451_60a8d88b2e_b.jpg (deflated 0%)\n",
            "  adding: Dataset/animal/flamingo/3330867204_3169dd2bf6_b.jpg (deflated 1%)\n",
            "  adding: Dataset/animal/flamingo/5188416326_4b204ccb07_b.jpg (deflated 0%)\n",
            "  adding: Dataset/animal/flamingo/7740464022_291e7e1ff4_b.jpg (deflated 0%)\n",
            "  adding: Dataset/animal/flamingo/32479967504_de0ba2d0fd_b.jpg (deflated 0%)\n",
            "  adding: Dataset/animal/flamingo/15148641555_509b617d77_b.jpg (deflated 1%)\n",
            "  adding: Dataset/animal/flamingo/14594437783_765106a278_b.jpg (deflated 1%)\n",
            "  adding: Dataset/animal/flamingo/15219746377_cb685d2bc3_b.jpg (deflated 0%)\n",
            "  adding: Dataset/animal/flamingo/2610412096_cfbb143112_b.jpg (deflated 0%)\n",
            "  adding: Dataset/animal/flamingo/997698333_453520ab75_b.jpg (deflated 0%)\n",
            "  adding: Dataset/animal/flamingo/37526916314_2eaa3c180c_b.jpg (deflated 0%)\n",
            "  adding: Dataset/animal/flamingo/13681985195_b2a14fd63b_b.jpg (deflated 4%)\n",
            "  adding: Dataset/animal/flamingo/2445684517_d86e081ba8_b.jpg (deflated 1%)\n",
            "  adding: Dataset/animal/flamingo/16304695755_00cab21c5d_b.jpg (deflated 0%)\n",
            "  adding: Dataset/animal/flamingo/6801354076_e1b56c472e_b.jpg (deflated 1%)\n",
            "  adding: Dataset/animal/flamingo/3694720746_24097530f6_b.jpg (deflated 1%)\n",
            "  adding: Dataset/animal/flamingo/16001917433_2f0f182dbd_b.jpg (deflated 9%)\n",
            "  adding: Dataset/animal/flamingo/5595676106_7895fc14a3_b.jpg (deflated 0%)\n",
            "  adding: Dataset/animal/Dog/ (stored 0%)\n",
            "  adding: Dataset/animal/Dog/40404610011_c685e5a589_b.jpg (deflated 0%)\n",
            "  adding: Dataset/animal/Dog/25989424636_2bb1afe859_b.jpg (deflated 1%)\n",
            "  adding: Dataset/animal/Dog/39397079150_62eda3ec01_b.jpg (deflated 2%)\n",
            "  adding: Dataset/animal/Dog/4652502241_c101591a93_b.jpg (deflated 0%)\n",
            "  adding: Dataset/animal/Dog/5022927104_515e808b66_b.jpg (deflated 1%)\n",
            "  adding: Dataset/animal/Dog/24066106230_5169269428_b.jpg (deflated 1%)\n",
            "  adding: Dataset/animal/Dog/15131237412_268a1e41a3_b.jpg (deflated 2%)\n",
            "  adding: Dataset/animal/Dog/8193537196_65aaf6107f_b.jpg (deflated 3%)\n",
            "  adding: Dataset/animal/Dog/41099654691_c42fcde81b_b.jpg (deflated 1%)\n",
            "  adding: Dataset/animal/Dog/5824739228_042e797031_b.jpg (deflated 0%)\n",
            "  adding: Dataset/animal/Dog/4489119695_87144ba60b_b.jpg (deflated 2%)\n",
            "  adding: Dataset/animal/Dog/33326250781_65fa0a0887_b.jpg (deflated 1%)\n",
            "  adding: Dataset/animal/Dog/7012277475_7e126fd8b6_b.jpg (deflated 1%)\n",
            "  adding: Dataset/animal/Dog/5340131446_3b7c380bea_b.jpg (deflated 2%)\n",
            "  adding: Dataset/animal/Dog/36216273621_3287933a7c_b.jpg (deflated 1%)\n",
            "  adding: Dataset/animal/Dog/8545183695_7d93d41aa6_b.jpg (deflated 0%)\n",
            "  adding: Dataset/animal/Dog/33659529142_2b6c3241eb_b.jpg (deflated 0%)\n",
            "  adding: Dataset/animal/Dog/37486121612_f0650e03b5_b.jpg (deflated 1%)\n",
            "  adding: Dataset/animal/Dog/4489763356_2dc86638b2_b.jpg (deflated 0%)\n",
            "  adding: Dataset/animal/Dog/44926777104_8a6e553a48_b.jpg (deflated 0%)\n",
            "  adding: Dataset/animal/Frog/ (stored 0%)\n",
            "  adding: Dataset/animal/Frog/253096526_cdd8a2ebb8_b.jpg (deflated 1%)\n",
            "  adding: Dataset/animal/Frog/3458088876_907177c188_b.jpg (deflated 1%)\n",
            "  adding: Dataset/animal/Frog/11949343475_a6b8eb0d62_b.jpg (deflated 1%)\n",
            "  adding: Dataset/animal/Frog/35075621736_6457d3859e_b.jpg (deflated 0%)\n",
            "  adding: Dataset/animal/Frog/47744902922_824ae558c1_b.jpg (deflated 1%)\n",
            "  adding: Dataset/animal/Frog/43138528505_e52c1c5d56_b.jpg (deflated 0%)\n",
            "  adding: Dataset/animal/Frog/6124720003_2649244416_b.jpg (deflated 0%)\n",
            "  adding: Dataset/animal/Frog/21705733248_944701cd0c_b.jpg (deflated 0%)\n",
            "  adding: Dataset/animal/Frog/22997295271_f6ab30a978_b.jpg (deflated 5%)\n",
            "  adding: Dataset/animal/Frog/33315833724_9173a8a7ea_b.jpg (deflated 1%)\n",
            "  adding: Dataset/animal/Frog/28203921766_6b891fb0d5_b.jpg (deflated 0%)\n",
            "  adding: Dataset/animal/Frog/5706438171_e52a22b13c_b.jpg (deflated 0%)\n",
            "  adding: Dataset/animal/Frog/43587085962_6f3fc6fedb_b.jpg (deflated 0%)\n",
            "  adding: Dataset/animal/Frog/249724430_62d6fdc686_b.jpg (deflated 0%)\n",
            "  adding: Dataset/animal/Frog/54289950_bc34eec995_b.jpg (deflated 0%)\n",
            "  adding: Dataset/animal/Frog/25890045776_e8a0806838_b.jpg (deflated 0%)\n",
            "  adding: Dataset/animal/Frog/22972757432_0549fd9c4d_b.jpg (deflated 4%)\n",
            "  adding: Dataset/animal/Frog/14000800067_c53260a7cd_b.jpg (deflated 1%)\n",
            "  adding: Dataset/animal/Frog/43406929384_f32be467b2_b.jpg (deflated 0%)\n",
            "  adding: Dataset/animal/Frog/9509342742_ba34289e49_b.jpg (deflated 0%)\n"
          ]
        }
      ]
    },
    {
      "cell_type": "code",
      "source": [
        "def check_and_preprocess_images(image_dir):\n",
        "    \"\"\"\n",
        "    Check and preprocess images in the specified directory.\n",
        "\n",
        "    Parameters:\n",
        "    image_dir (str): The directory containing the images to be checked and preprocessed.\n",
        "\n",
        "    Returns:\n",
        "    None\n",
        "    \"\"\"\n",
        "    for root, _, files in os.walk(image_dir):\n",
        "        for file in files:\n",
        "            file_path = os.path.join(root, file)\n",
        "            try:\n",
        "                with Image.open(file_path) as img:\n",
        "                    # Check if image is smaller than 50x50 pixels\n",
        "                    if img.size[0] < 50 or img.size[1] < 50:\n",
        "                        os.remove(file_path)\n",
        "                        print(f\"Deleted {file_path}: Image too small ({img.size[0]}x{img.size[1]})\")\n",
        "                        continue\n",
        "\n",
        "                    # Convert non-RGB images to RGB\n",
        "                    if img.mode != 'RGB':\n",
        "                        img = img.convert('RGB')\n",
        "                        img.save(file_path)\n",
        "                        print(f\"Converted {file_path} to RGB\")\n",
        "\n",
        "            except Exception as e:\n",
        "                # If file is not an image, delete it\n",
        "                os.remove(file_path)\n",
        "                print(f\"Deleted {file_path}: Not an image or corrupted file ({str(e)})\")"
      ],
      "metadata": {
        "id": "QotaXWEZ_mhP"
      },
      "execution_count": 13,
      "outputs": []
    },
    {
      "cell_type": "code",
      "source": [
        "check_and_preprocess_images('Dataset')"
      ],
      "metadata": {
        "colab": {
          "base_uri": "https://localhost:8080/"
        },
        "id": "rP5_WMpM_onZ",
        "outputId": "c656a18a-cc41-43a0-fe13-8615b9d239e8"
      },
      "execution_count": 14,
      "outputs": [
        {
          "output_type": "stream",
          "name": "stdout",
          "text": [
            "Converted Dataset/animal/Elephant/4839032364_8c521066b2_b.jpg to RGB\n",
            "Converted Dataset/animal/Elephant/4839031518_3765f997a4_b.jpg to RGB\n"
          ]
        }
      ]
    },
    {
      "cell_type": "code",
      "source": [
        "!zip -r /content/drive/MyDrive/Clean_Dataset.zip Dataset"
      ],
      "metadata": {
        "colab": {
          "base_uri": "https://localhost:8080/"
        },
        "id": "uJwQRD3t_qYM",
        "outputId": "45fc0683-415d-429d-dee1-8f4a99dff667"
      },
      "execution_count": 15,
      "outputs": [
        {
          "output_type": "stream",
          "name": "stdout",
          "text": [
            "  adding: Dataset/ (stored 0%)\n",
            "  adding: Dataset/animal/ (stored 0%)\n",
            "  adding: Dataset/animal/shrimp/ (stored 0%)\n",
            "  adding: Dataset/animal/shrimp/4898039985_e3eaca1c87_b.jpg (deflated 0%)\n",
            "  adding: Dataset/animal/shrimp/2144708533_8f37851185_b.jpg (deflated 0%)\n",
            "  adding: Dataset/animal/shrimp/17061896855_554c2b2b8a_b.jpg (deflated 1%)\n",
            "  adding: Dataset/animal/shrimp/2344784902_8c2ddbed93_b.jpg (deflated 1%)\n",
            "  adding: Dataset/animal/shrimp/233169073_da697f9b1b_b.jpg (deflated 0%)\n",
            "  adding: Dataset/animal/shrimp/53624724282_71047360df_b.jpg (deflated 0%)\n",
            "  adding: Dataset/animal/shrimp/39860909861_ac4dc6142b_b.jpg (deflated 0%)\n",
            "  adding: Dataset/animal/shrimp/3553852023_779b809b27_b.jpg (deflated 2%)\n",
            "  adding: Dataset/animal/shrimp/52754170014_d0570ded3f_b.jpg (deflated 1%)\n",
            "  adding: Dataset/animal/shrimp/50807936448_b99cb05879_b.jpg (deflated 0%)\n",
            "  adding: Dataset/animal/shrimp/50861234561_6cc092f2e5_b.jpg (deflated 0%)\n",
            "  adding: Dataset/animal/shrimp/15364085118_8a99f61fc8_b.jpg (deflated 1%)\n",
            "  adding: Dataset/animal/shrimp/2144710489_db262c8cd1_b.jpg (deflated 0%)\n",
            "  adding: Dataset/animal/shrimp/15219597759_73e9b5cf34_b.jpg (deflated 0%)\n",
            "  adding: Dataset/animal/shrimp/22346248399_a63ab474a3_b.jpg (deflated 1%)\n",
            "  adding: Dataset/animal/shrimp/35172789496_a387d77f5f_b.jpg (deflated 1%)\n",
            "  adding: Dataset/animal/shrimp/10528578623_f64b4be092_b.jpg (deflated 0%)\n",
            "  adding: Dataset/animal/shrimp/32928482742_57ceff6b8b_b.jpg (deflated 1%)\n",
            "  adding: Dataset/animal/shrimp/42085755375_cd8ac6c6b2_b.jpg (deflated 0%)\n",
            "  adding: Dataset/animal/shrimp/29789140005_47fa1bea8b_b.jpg (deflated 0%)\n",
            "  adding: Dataset/animal/Monkey/ (stored 0%)\n",
            "  adding: Dataset/animal/Monkey/2249625837_962fe6c568_b.jpg (deflated 0%)\n",
            "  adding: Dataset/animal/Monkey/16706002022_a423368fce_b.jpg (deflated 1%)\n",
            "  adding: Dataset/animal/Monkey/4339530861_48846856f4_b.jpg (deflated 0%)\n",
            "  adding: Dataset/animal/Monkey/10010736645_aca7a51896_b.jpg (deflated 0%)\n",
            "  adding: Dataset/animal/Monkey/9193936150_fa4b9ab9a2_b.jpg (deflated 0%)\n",
            "  adding: Dataset/animal/Monkey/26691814071_7d46c68bdf_b.jpg (deflated 0%)\n",
            "  adding: Dataset/animal/Monkey/4678975591_5a6703ccce_b.jpg (deflated 0%)\n",
            "  adding: Dataset/animal/Monkey/5670658121_c9afd71b9d_b.jpg (deflated 0%)\n",
            "  adding: Dataset/animal/Monkey/30731317865_808227f801_b.jpg (deflated 0%)\n",
            "  adding: Dataset/animal/Monkey/6699070437_75dd251fe4_b.jpg (deflated 0%)\n",
            "  adding: Dataset/animal/Monkey/15055410711_5236121868_b.jpg (deflated 0%)\n",
            "  adding: Dataset/animal/Monkey/22554577255_b6ae9cf9d4_b.jpg (deflated 0%)\n",
            "  adding: Dataset/animal/Monkey/15455494856_8e96e3d11c_b.jpg (deflated 0%)\n",
            "  adding: Dataset/animal/Monkey/33831127941_5ec7483eb9_b.jpg (deflated 0%)\n",
            "  adding: Dataset/animal/Monkey/7208558114_0771df3fff_b.jpg (deflated 0%)\n",
            "  adding: Dataset/animal/Monkey/1408053423_ac730c23aa_b.jpg (deflated 0%)\n",
            "  adding: Dataset/animal/Monkey/23030717935_86ccb18673_b.jpg (deflated 0%)\n",
            "  adding: Dataset/animal/Monkey/12947227375_7dfb055e82_b.jpg (deflated 0%)\n",
            "  adding: Dataset/animal/Monkey/223951607_92c4cdbfa6_b.jpg (deflated 0%)\n",
            "  adding: Dataset/animal/Monkey/3158881133_42d58d4a62_b.jpg (deflated 0%)\n",
            "  adding: Dataset/animal/Snake/ (stored 0%)\n",
            "  adding: Dataset/animal/Snake/2288614815_087b4d8cfc_b.jpg (deflated 0%)\n",
            "  adding: Dataset/animal/Snake/2393174564_3c3cb67d96_b.jpg (deflated 0%)\n",
            "  adding: Dataset/animal/Snake/8534577307_3aec2a4002_b.jpg (deflated 0%)\n",
            "  adding: Dataset/animal/Snake/8535697746_94db33a854_b.jpg (deflated 0%)\n",
            "  adding: Dataset/animal/Snake/8535693686_9d2ec4d3a5_b.jpg (deflated 0%)\n",
            "  adding: Dataset/animal/Snake/6083398151_aec2cbaf9e_b.jpg (deflated 0%)\n",
            "  adding: Dataset/animal/Snake/1553471288_be56c349a2_b.jpg (deflated 0%)\n",
            "  adding: Dataset/animal/Snake/178681300_04555c18de_b.jpg (deflated 0%)\n",
            "  adding: Dataset/animal/Snake/1552616725_fd3b7b0ac6_b.jpg (deflated 0%)\n",
            "  adding: Dataset/animal/Snake/8534564177_6917bd8996_b.jpg (deflated 0%)\n",
            "  adding: Dataset/animal/Snake/1552604567_b405f8cc1a_b.jpg (deflated 0%)\n",
            "  adding: Dataset/animal/Snake/8534589263_c591734dda_b.jpg (deflated 0%)\n",
            "  adding: Dataset/animal/Snake/8534574241_81f3f9a372_b.jpg (deflated 1%)\n",
            "  adding: Dataset/animal/Snake/8534590077_b0aef737b9_b.jpg (deflated 0%)\n",
            "  adding: Dataset/animal/Snake/8535678112_ebf50caaf5_b.jpg (deflated 0%)\n",
            "  adding: Dataset/animal/Snake/10203142135_77d8106f4c_b.jpg (deflated 1%)\n",
            "  adding: Dataset/animal/Snake/8534565925_e95f864b86_b.jpg (deflated 0%)\n",
            "  adding: Dataset/animal/Snake/367978871_ebc6d4de3a_b.jpg (deflated 0%)\n",
            "  adding: Dataset/animal/Snake/8534576203_38140ae772_b.jpg (deflated 0%)\n",
            "  adding: Dataset/animal/Snake/8535686120_e732d99756_b.jpg (deflated 0%)\n",
            "  adding: Dataset/animal/Crab/ (stored 0%)\n",
            "  adding: Dataset/animal/Crab/9995993896_0dca9c6637_b.jpg (deflated 0%)\n",
            "  adding: Dataset/animal/Crab/5921399897_f630b367d7_b.jpg (deflated 0%)\n",
            "  adding: Dataset/animal/Crab/6089889_3b76808894_b.jpg (deflated 0%)\n",
            "  adding: Dataset/animal/Crab/16283872760_372480570d_b.jpg (deflated 0%)\n",
            "  adding: Dataset/animal/Crab/8296489461_e2f2870e01_b.jpg (deflated 0%)\n",
            "  adding: Dataset/animal/Crab/3273461268_310fd0b03f_b.jpg (deflated 0%)\n",
            "  adding: Dataset/animal/Crab/250193705_5f93636189_b.jpg (deflated 0%)\n",
            "  adding: Dataset/animal/Crab/6283907543_e199282903_b.jpg (deflated 0%)\n",
            "  adding: Dataset/animal/Crab/29820583751_10152442a1_b.jpg (deflated 0%)\n",
            "  adding: Dataset/animal/Crab/3685706796_c371af33ac_b.jpg (deflated 3%)\n",
            "  adding: Dataset/animal/Crab/8373366354_7c8eca079a_b.jpg (deflated 0%)\n",
            "  adding: Dataset/animal/Crab/2425279585_e117893117_b.jpg (deflated 0%)\n",
            "  adding: Dataset/animal/Crab/33134963810_cb10a39616_b.jpg (deflated 0%)\n",
            "  adding: Dataset/animal/Crab/20496976825_2ac7fc335f_b.jpg (deflated 0%)\n",
            "  adding: Dataset/animal/Crab/5535744295_6b5ba224cb_b.jpg (deflated 0%)\n",
            "  adding: Dataset/animal/Crab/5213210899_c86db7e0e7_b.jpg (deflated 0%)\n",
            "  adding: Dataset/animal/Crab/6209973498_91c9c4d395_b.jpg (deflated 0%)\n",
            "  adding: Dataset/animal/Crab/27247853278_c6f14e1d38_b.jpg (deflated 0%)\n",
            "  adding: Dataset/animal/Crab/1799728833_a54fde70f5_b.jpg (deflated 0%)\n",
            "  adding: Dataset/animal/Crab/8600524850_6c3abd4aff_b.jpg (deflated 0%)\n",
            "  adding: Dataset/animal/Turtle/ (stored 0%)\n",
            "  adding: Dataset/animal/Turtle/16634513180_e1408ce9a4_b.jpg (deflated 0%)\n",
            "  adding: Dataset/animal/Turtle/530028858_88278032ac_b.jpg (deflated 0%)\n",
            "  adding: Dataset/animal/Turtle/15970576496_27d7085a01_b.jpg (deflated 1%)\n",
            "  adding: Dataset/animal/Turtle/2799996304_98f6529539_b.jpg (deflated 0%)\n",
            "  adding: Dataset/animal/Turtle/4704159505_31a624992d_b.jpg (deflated 0%)\n",
            "  adding: Dataset/animal/Turtle/8892048635_1feb0cce37_b.jpg (deflated 1%)\n",
            "  adding: Dataset/animal/Turtle/6076229683_b454e0a93c_b.jpg (deflated 0%)\n",
            "  adding: Dataset/animal/Turtle/401450918_2658b4e69b_b.jpg (deflated 0%)\n",
            "  adding: Dataset/animal/Turtle/4520876420_cf1b4f06c9_b.jpg (deflated 1%)\n",
            "  adding: Dataset/animal/Turtle/214238652_8ab771fd55_b.jpg (deflated 0%)\n",
            "  adding: Dataset/animal/Turtle/4725567621_136eb44ccf_b.jpg (deflated 0%)\n",
            "  adding: Dataset/animal/Turtle/7235905370_c7d8f03951_b.jpg (deflated 0%)\n",
            "  adding: Dataset/animal/Turtle/6841110987_42749d1f73_b.jpg (deflated 1%)\n",
            "  adding: Dataset/animal/Turtle/2558386188_9d3744039f_b.jpg (deflated 0%)\n",
            "  adding: Dataset/animal/Turtle/3871821544_a94179a32c_b.jpg (deflated 0%)\n",
            "  adding: Dataset/animal/Turtle/17172032908_f4495a0df2_b.jpg (deflated 0%)\n",
            "  adding: Dataset/animal/Turtle/3266329532_6867b1d9be_b.jpg (deflated 0%)\n",
            "  adding: Dataset/animal/Turtle/3871029191_94c00c8220_b.jpg (deflated 0%)\n",
            "  adding: Dataset/animal/Turtle/2288613023_21e9403ff7_b.jpg (deflated 0%)\n",
            "  adding: Dataset/animal/Turtle/7155965134_dc42e6f147_b.jpg (deflated 0%)\n",
            "  adding: Dataset/animal/bear/ (stored 0%)\n",
            "  adding: Dataset/animal/bear/17153902847_d2b9bdb912_b.jpg (deflated 0%)\n",
            "  adding: Dataset/animal/bear/22550324455_db8f09db40_b.jpg (deflated 0%)\n",
            "  adding: Dataset/animal/bear/2446486138_b0af6484e3_b.jpg (deflated 0%)\n",
            "  adding: Dataset/animal/bear/15694521885_cfbc1b3320_b.jpg (deflated 0%)\n",
            "  adding: Dataset/animal/bear/9060483520_a27d02d288_b.jpg (deflated 0%)\n",
            "  adding: Dataset/animal/bear/5306999788_cd4d915f17_b.jpg (deflated 0%)\n",
            "  adding: Dataset/animal/bear/2480862060_2b6e1a516d_b.jpg (deflated 0%)\n",
            "  adding: Dataset/animal/bear/7309822058_43b497f091_b.jpg (deflated 0%)\n",
            "  adding: Dataset/animal/bear/7577395740_f9f3f0ba82_b.jpg (deflated 0%)\n",
            "  adding: Dataset/animal/bear/9716127317_cc03a3b4f5_b.jpg (deflated 0%)\n",
            "  adding: Dataset/animal/bear/141771151_b1a4ee577c_b.jpg (deflated 0%)\n",
            "  adding: Dataset/animal/bear/2748084403_636da55722_b.jpg (deflated 0%)\n",
            "  adding: Dataset/animal/bear/4697518117_67bca45841_b.jpg (deflated 0%)\n",
            "  adding: Dataset/animal/bear/44598852764_9ed0257166_b.jpg (deflated 0%)\n",
            "  adding: Dataset/animal/bear/5616008346_48a911612d_b.jpg (deflated 0%)\n",
            "  adding: Dataset/animal/bear/14413727117_46b9f11e7c_b.jpg (deflated 0%)\n",
            "  adding: Dataset/animal/bear/5616010664_35a80684a3_b.jpg (deflated 0%)\n",
            "  adding: Dataset/animal/bear/4060731422_c5be8e2679_b.jpg (deflated 0%)\n",
            "  adding: Dataset/animal/bear/6042693682_bb2695acfa_b.jpg (deflated 0%)\n",
            "  adding: Dataset/animal/bear/5624569781_4dd65ba2d5_b.jpg (deflated 1%)\n",
            "  adding: Dataset/animal/fox/ (stored 0%)\n",
            "  adding: Dataset/animal/fox/36367572521_a8d5235e47_b.jpg (deflated 0%)\n",
            "  adding: Dataset/animal/fox/3099303617_c34be90e6b_b.jpg (deflated 0%)\n",
            "  adding: Dataset/animal/fox/14648130027_52121351f6_b.jpg (deflated 0%)\n",
            "  adding: Dataset/animal/fox/6092638248_5b4c3f49ec_b.jpg (deflated 0%)\n",
            "  adding: Dataset/animal/fox/6090854608_59e7fb2cc7.jpg (deflated 0%)\n",
            "  adding: Dataset/animal/fox/349069183_70b51d8b37_b.jpg (deflated 0%)\n",
            "  adding: Dataset/animal/fox/27576671031_e2458f5d94_b.jpg (deflated 0%)\n",
            "  adding: Dataset/animal/fox/14648130107_d7a1b487a7_b.jpg (deflated 0%)\n",
            "  adding: Dataset/animal/fox/30958174903_803e7b8c0e_b.jpg (deflated 0%)\n",
            "  adding: Dataset/animal/fox/5973756573_4056dfdda6_b.jpg (deflated 0%)\n",
            "  adding: Dataset/animal/fox/30937371794_82c62d486f_b.jpg (deflated 0%)\n",
            "  adding: Dataset/animal/fox/13486614834_eaa4fd95aa_b.jpg (deflated 0%)\n",
            "  adding: Dataset/animal/fox/33800862532_694625730a_b.jpg (deflated 1%)\n",
            "  adding: Dataset/animal/fox/15347585569_6697985a54_b.jpg (deflated 1%)\n",
            "  adding: Dataset/animal/fox/16991254206_2804d50375_b.jpg (deflated 1%)\n",
            "  adding: Dataset/animal/fox/13663558265_1303751467_b.jpg (deflated 0%)\n",
            "  adding: Dataset/animal/fox/16746786768_ce49d4b496_b.jpg (deflated 0%)\n",
            "  adding: Dataset/animal/fox/14648043928_57a8d3e10e_b.jpg (deflated 0%)\n",
            "  adding: Dataset/animal/fox/8202598783_c0dce364c9_b.jpg (deflated 0%)\n",
            "  adding: Dataset/animal/fox/27119258694_548fe7116a_b.jpg (deflated 0%)\n",
            "  adding: Dataset/animal/Cock/ (stored 0%)\n",
            "  adding: Dataset/animal/Cock/2700841196_78f6912560_b.jpg (deflated 1%)\n",
            "  adding: Dataset/animal/Cock/90743517_8ef85ee7de_b.jpg (deflated 0%)\n",
            "  adding: Dataset/animal/Cock/3162745230_26334982be_b.jpg (deflated 0%)\n",
            "  adding: Dataset/animal/Cock/8147305898_3c1cea7f5f_b.jpg (deflated 0%)\n",
            "  adding: Dataset/animal/Cock/3701102261_7ec65ba624_b.jpg (deflated 0%)\n",
            "  adding: Dataset/animal/Cock/52803804172_b0d05961da_b.jpg (deflated 0%)\n",
            "  adding: Dataset/animal/Cock/2435520570_b14b954edf_b.jpg (deflated 0%)\n",
            "  adding: Dataset/animal/Cock/218024811_2e85e74278_b.jpg (deflated 0%)\n",
            "  adding: Dataset/animal/Cock/37546861964_c6d7046433_b.jpg (deflated 0%)\n",
            "  adding: Dataset/animal/Cock/914976293_59fe4979db_b.jpg (deflated 0%)\n",
            "  adding: Dataset/animal/Cock/49506987973_e8f4dab34d_b.jpg (deflated 0%)\n",
            "  adding: Dataset/animal/Cock/3470692536_7c3c9e2a14_b.jpg (deflated 0%)\n",
            "  adding: Dataset/animal/Cock/7777298146_4007d28de2_b.jpg (deflated 1%)\n",
            "  adding: Dataset/animal/Cock/6073547845_84b1dc1599_b.jpg (deflated 0%)\n",
            "  adding: Dataset/animal/Cock/3553000647_1145c2e929_b.jpg (deflated 0%)\n",
            "  adding: Dataset/animal/Cock/16595068808_dd2504d7ba_b.jpg (deflated 0%)\n",
            "  adding: Dataset/animal/Cock/33846890328_a53c522626_b.jpg (deflated 0%)\n",
            "  adding: Dataset/animal/Cock/4595451_8d52afb8b6_b.jpg (deflated 0%)\n",
            "  adding: Dataset/animal/Cock/4484298559_e50675cb04_b.jpg (deflated 13%)\n",
            "  adding: Dataset/animal/Cock/7056876605_370cd357a3_b.jpg (deflated 0%)\n",
            "  adding: Dataset/animal/Cat/ (stored 0%)\n",
            "  adding: Dataset/animal/Cat/14934282524_344c84246b_b.jpg (deflated 0%)\n",
            "  adding: Dataset/animal/Cat/27257168879_464200ea90_b.jpg (deflated 0%)\n",
            "  adding: Dataset/animal/Cat/14934292534_32b0302f2d_b.jpg (deflated 1%)\n",
            "  adding: Dataset/animal/Cat/24811748270_3102fc52fb_b.jpg (deflated 0%)\n",
            "  adding: Dataset/animal/Cat/45925416992_c9caac8cb9_b.jpg (deflated 0%)\n",
            "  adding: Dataset/animal/Cat/7380380362_0589be0be1_b.jpg (deflated 1%)\n",
            "  adding: Dataset/animal/Cat/4638426067_1a979d3690_b.jpg (deflated 0%)\n",
            "  adding: Dataset/animal/Cat/16386660144_a6c4026657_b.jpg (deflated 0%)\n",
            "  adding: Dataset/animal/Cat/6303228181_59371c29dc_b.jpg (deflated 1%)\n",
            "  adding: Dataset/animal/Cat/32711702733_7cdd9dbb3a_b.jpg (deflated 0%)\n",
            "  adding: Dataset/animal/Cat/5372754294_db6acaa1e5_b.jpg (deflated 5%)\n",
            "  adding: Dataset/animal/Cat/7190755946_ea97e85765_b.jpg (deflated 0%)\n",
            "  adding: Dataset/animal/Cat/8216315457_28762c496d_b.jpg (deflated 0%)\n",
            "  adding: Dataset/animal/Cat/17026317426_bb3acf19fb_b.jpg (deflated 0%)\n",
            "  adding: Dataset/animal/Cat/39256672581_c48569e3a2_b.jpg (deflated 0%)\n",
            "  adding: Dataset/animal/Cat/15504684310_f555c88915_b.jpg (deflated 0%)\n",
            "  adding: Dataset/animal/Cat/3977203168_b9d02a0233_b.jpg (deflated 0%)\n",
            "  adding: Dataset/animal/Cat/5881933297_7974eaff82_b.jpg (deflated 0%)\n",
            "  adding: Dataset/animal/Cat/11991979753_eac1d33dd8_b.jpg (deflated 1%)\n",
            "  adding: Dataset/animal/Cat/9775005856_9b5e0ebe16_b.jpg (deflated 0%)\n",
            "  adding: Dataset/animal/Bats/ (stored 0%)\n",
            "  adding: Dataset/animal/Bats/9510342606_4c2d391893_b.jpg (deflated 1%)\n",
            "  adding: Dataset/animal/Bats/5477224236_edc0b01d9e_b.jpg (deflated 0%)\n",
            "  adding: Dataset/animal/Bats/6871261867_f7a9349059_b.jpg (deflated 2%)\n",
            "  adding: Dataset/animal/Bats/246129477_8291423f80_b.jpg (deflated 1%)\n",
            "  adding: Dataset/animal/Bats/35221324_fa061e3e3e_b.jpg (deflated 0%)\n",
            "  adding: Dataset/animal/Bats/5321837123_e416b2d170_b.jpg (deflated 14%)\n",
            "  adding: Dataset/animal/Bats/3506721805_842bd9e1a2_b.jpg (deflated 1%)\n",
            "  adding: Dataset/animal/Bats/2088984629_9073cd74e6_b.jpg (deflated 0%)\n",
            "  adding: Dataset/animal/Bats/25510933790_9ee45bc7bd_b.jpg (deflated 0%)\n",
            "  adding: Dataset/animal/Bats/3837062508_832c06f4c1_b.jpg (deflated 2%)\n",
            "  adding: Dataset/animal/Bats/5277590306_5aabe79b18_b.jpg (deflated 1%)\n",
            "  adding: Dataset/animal/Bats/6872747918_b504e8913b_b.jpg (deflated 0%)\n",
            "  adding: Dataset/animal/Bats/4946155299_b10835d58d_b.jpg (deflated 0%)\n",
            "  adding: Dataset/animal/Bats/246129557_1e45e2f504_b.jpg (deflated 0%)\n",
            "  adding: Dataset/animal/Bats/242444396_fc3f421106_b.jpg (deflated 0%)\n",
            "  adding: Dataset/animal/Bats/4112204281_2bc7c670c4_b.jpg (deflated 9%)\n",
            "  adding: Dataset/animal/Bats/6871256055_7d15ee1d6c_b.jpg (deflated 0%)\n",
            "  adding: Dataset/animal/Bats/9510353068_b0b4f552d3_b.jpg (deflated 1%)\n",
            "  adding: Dataset/animal/Bats/8526191_fbdfa19b34_b.jpg (deflated 0%)\n",
            "  adding: Dataset/animal/Bats/2308173421_b23c6f0733_b.jpg (deflated 0%)\n",
            "  adding: Dataset/animal/Rabbit/ (stored 0%)\n",
            "  adding: Dataset/animal/Rabbit/477694927_f6fbc7583a_b.jpg (deflated 0%)\n",
            "  adding: Dataset/animal/Rabbit/5782653293_bfe75d204c_b.jpg (deflated 0%)\n",
            "  adding: Dataset/animal/Rabbit/4520875292_27622d99ab_b.jpg (deflated 1%)\n",
            "  adding: Dataset/animal/Rabbit/7789081464_a2867ed38d_b.jpg (deflated 0%)\n",
            "  adding: Dataset/animal/Rabbit/13786563013_7db3c03e80_b.jpg (deflated 0%)\n",
            "  adding: Dataset/animal/Rabbit/2675343973_a5d35fafe9_b.jpg (deflated 0%)\n",
            "  adding: Dataset/animal/Rabbit/4038258875_793df0d6d1_b.jpg (deflated 0%)\n",
            "  adding: Dataset/animal/Rabbit/4551456285_5d84e71f7a_b.jpg (deflated 0%)\n",
            "  adding: Dataset/animal/Rabbit/4039007508_df28e89305_b.jpg (deflated 0%)\n",
            "  adding: Dataset/animal/Rabbit/2675344021_443093615b_b.jpg (deflated 0%)\n",
            "  adding: Dataset/animal/Rabbit/45839575782_e6dda11b79_b.jpg (deflated 0%)\n",
            "  adding: Dataset/animal/Rabbit/3321222219_9e5b009461_b.jpg (deflated 0%)\n",
            "  adding: Dataset/animal/Rabbit/4603945066_6b2cc3ee8f_b.jpg (deflated 0%)\n",
            "  adding: Dataset/animal/Rabbit/9260207734_cfdd63b1b0_b.jpg (deflated 0%)\n",
            "  adding: Dataset/animal/Rabbit/3821157141_15020b3f65_b.jpg (deflated 0%)\n",
            "  adding: Dataset/animal/Rabbit/3706445364_5fcb625894_b.jpg (deflated 0%)\n",
            "  adding: Dataset/animal/Rabbit/7376464978_e8f5570fa3_b.jpg (deflated 0%)\n",
            "  adding: Dataset/animal/Rabbit/28149987422_6d40137069_b.jpg (deflated 0%)\n",
            "  adding: Dataset/animal/Rabbit/3520910820_79c5fdaffc_b.jpg (deflated 0%)\n",
            "  adding: Dataset/animal/Rabbit/268655305_5c5d929645_b.jpg (deflated 7%)\n",
            "  adding: Dataset/animal/Fish/ (stored 0%)\n",
            "  adding: Dataset/animal/Fish/3357906924_80678a560a_b.jpg (deflated 1%)\n",
            "  adding: Dataset/animal/Fish/11949320845_ab2ccf8b3f_b.jpg (deflated 0%)\n",
            "  adding: Dataset/animal/Fish/8116209493_13825b0ea2_b.jpg (deflated 2%)\n",
            "  adding: Dataset/animal/Fish/36389829780_2af55b115e_b.jpg (deflated 0%)\n",
            "  adding: Dataset/animal/Fish/5222282254_def0de379d_b.jpg (deflated 0%)\n",
            "  adding: Dataset/animal/Fish/15663705333_b0f9a9d58e_b.jpg (deflated 0%)\n",
            "  adding: Dataset/animal/Fish/3175187512_7407ec4141_b.jpg (deflated 1%)\n",
            "  adding: Dataset/animal/Fish/16248614078_c9caf1000d_b.jpg (deflated 0%)\n",
            "  adding: Dataset/animal/Fish/24023848796_ff008d5022_b.jpg (deflated 0%)\n",
            "  adding: Dataset/animal/Fish/34722907426_9f90660013_b.jpg (deflated 0%)\n",
            "  adding: Dataset/animal/Fish/5658683869_7eaef60247_b.jpg (deflated 0%)\n",
            "  adding: Dataset/animal/Fish/8396356423_a832ffefac_b.jpg (deflated 0%)\n",
            "  adding: Dataset/animal/Fish/8049578760_baaaf7257b_b.jpg (deflated 0%)\n",
            "  adding: Dataset/animal/Fish/246780914_f98c766357_b.jpg (deflated 0%)\n",
            "  adding: Dataset/animal/Fish/3879372382_bfa2ef0a26_b.jpg (deflated 0%)\n",
            "  adding: Dataset/animal/Fish/13084990385_29230d1115_b.jpg (deflated 2%)\n",
            "  adding: Dataset/animal/Fish/16202588566_f2bdf25f0c_b.jpg (deflated 0%)\n",
            "  adding: Dataset/animal/Fish/18121252129_5c53b4c1e4_b.jpg (deflated 0%)\n",
            "  adding: Dataset/animal/Fish/14284130798_2214da6875_b.jpg (deflated 0%)\n",
            "  adding: Dataset/animal/Fish/8166024737_15861e4956_b.jpg (deflated 0%)\n",
            "  adding: Dataset/animal/cows/ (stored 0%)\n",
            "  adding: Dataset/animal/cows/5102842242_e8971025aa_b.jpg (deflated 0%)\n",
            "  adding: Dataset/animal/cows/3621244440_26af8e1303_b.jpg (deflated 1%)\n",
            "  adding: Dataset/animal/cows/245857494_1d680116a9_b.jpg (deflated 1%)\n",
            "  adding: Dataset/animal/cows/15864644097_eb07727790_b.jpg (deflated 0%)\n",
            "  adding: Dataset/animal/cows/8027168255_394a5849bc_b.jpg (deflated 1%)\n",
            "  adding: Dataset/animal/cows/19410274492_18c8a1f6c1_b.jpg (deflated 0%)\n",
            "  adding: Dataset/animal/cows/4809097157_62be3447c5_b.jpg (deflated 0%)\n",
            "  adding: Dataset/animal/cows/3123170162_d98aa215fc_b.jpg (deflated 0%)\n",
            "  adding: Dataset/animal/cows/6468288849_2a844b5f8a_b.jpg (deflated 0%)\n",
            "  adding: Dataset/animal/cows/2792755390_d4f9d085d2_b.jpg (deflated 0%)\n",
            "  adding: Dataset/animal/cows/6394758781_3c9b5592e3_b.jpg (deflated 1%)\n",
            "  adding: Dataset/animal/cows/2989646904_33dd61c1df_b.jpg (deflated 1%)\n",
            "  adding: Dataset/animal/cows/9502458291_335867eae4_b.jpg (deflated 0%)\n",
            "  adding: Dataset/animal/cows/5436738460_5598c1dfdd_b.jpg (deflated 0%)\n",
            "  adding: Dataset/animal/cows/43667303721_a5fb635e10_b.jpg (deflated 1%)\n",
            "  adding: Dataset/animal/cows/3561133449_ab42fbef7d_b.jpg (deflated 0%)\n",
            "  adding: Dataset/animal/cows/23342717833_53f5f72fec_b.jpg (deflated 0%)\n",
            "  adding: Dataset/animal/cows/19416508475_4738e29a4a_b.jpg (deflated 0%)\n",
            "  adding: Dataset/animal/cows/20465708223_338132b7e2_b.jpg (deflated 0%)\n",
            "  adding: Dataset/animal/cows/536450041_a81213c7b6.jpg (deflated 0%)\n",
            "  adding: Dataset/animal/Coral/ (stored 0%)\n",
            "  adding: Dataset/animal/Coral/1187370561_dfe829ff6b_b.jpg (deflated 0%)\n",
            "  adding: Dataset/animal/Coral/2549378353_4219b2a93b_b.jpg (deflated 0%)\n",
            "  adding: Dataset/animal/Coral/2810438477_b9a6276e19_b.jpg (deflated 0%)\n",
            "  adding: Dataset/animal/Coral/6177772924_95a35c981c_b.jpg (deflated 0%)\n",
            "  adding: Dataset/animal/Coral/5392573959_dbfcfe87b6_b.jpg (deflated 0%)\n",
            "  adding: Dataset/animal/Coral/30012358062_973826642e_b.jpg (deflated 1%)\n",
            "  adding: Dataset/animal/Coral/6177245365_1869d477c5_b.jpg (deflated 0%)\n",
            "  adding: Dataset/animal/Coral/9564658674_0fa1a53fb6_b.jpg (deflated 0%)\n",
            "  adding: Dataset/animal/Coral/4985391037_eb891dd1d5_b.jpg (deflated 0%)\n",
            "  adding: Dataset/animal/Coral/25839922381_c722d05cbd_b.jpg (deflated 0%)\n",
            "  adding: Dataset/animal/Coral/7665815360_1b560f1f9c_b.jpg (deflated 0%)\n",
            "  adding: Dataset/animal/Coral/6815445228_2cc61f9012_b.jpg (deflated 0%)\n",
            "  adding: Dataset/animal/Coral/6559858557_ff42488a40_b.jpg (deflated 0%)\n",
            "  adding: Dataset/animal/Coral/25358362476_76de913980_b.jpg (deflated 0%)\n",
            "  adding: Dataset/animal/Coral/8930915577_e738e59779_b.jpg (deflated 0%)\n",
            "  adding: Dataset/animal/Coral/3085252066_8927678c13_b.jpg (deflated 0%)\n",
            "  adding: Dataset/animal/Coral/6177773360_fb52cd5509_b.jpg (deflated 0%)\n",
            "  adding: Dataset/animal/Coral/1727113723_aca7228e2f_b.jpg (deflated 0%)\n",
            "  adding: Dataset/animal/Coral/4014329444_261085687c_b.jpg (deflated 0%)\n",
            "  adding: Dataset/animal/Coral/5476531005_89355068e2_b.jpg (deflated 0%)\n",
            "  adding: Dataset/animal/Snail/ (stored 0%)\n",
            "  adding: Dataset/animal/Snail/6132259683_f7c7aef915_b.jpg (deflated 0%)\n",
            "  adding: Dataset/animal/Snail/5787096423_c0958e7f33_b.jpg (deflated 6%)\n",
            "  adding: Dataset/animal/Snail/14014390990_98d6667879_b.jpg (deflated 0%)\n",
            "  adding: Dataset/animal/Snail/7137261591_8eb956259e_b.jpg (deflated 0%)\n",
            "  adding: Dataset/animal/Snail/33394488893_ddfce8fcb8_b.jpg (deflated 1%)\n",
            "  adding: Dataset/animal/Snail/9016734834_665d5fdeb2_b.jpg (deflated 1%)\n",
            "  adding: Dataset/animal/Snail/53236383_631f429b55_b.jpg (deflated 0%)\n",
            "  adding: Dataset/animal/Snail/3544710531_57f4d5d1be_b.jpg (deflated 0%)\n",
            "  adding: Dataset/animal/Snail/3959740290_c03fba6481_b.jpg (deflated 0%)\n",
            "  adding: Dataset/animal/Snail/35846813944_4865a443eb_b.jpg (deflated 0%)\n",
            "  adding: Dataset/animal/Snail/33600923344_c6c07dd2c4_b.jpg (deflated 0%)\n",
            "  adding: Dataset/animal/Snail/19273164655_8fc3432755_b.jpg (deflated 0%)\n",
            "  adding: Dataset/animal/Snail/5603934815_082c5dd43a_b.jpg (deflated 0%)\n",
            "  adding: Dataset/animal/Snail/17025992671_061db0c13d_b.jpg (deflated 1%)\n",
            "  adding: Dataset/animal/Snail/4555079405_b9512221e4_b.jpg (deflated 0%)\n",
            "  adding: Dataset/animal/Snail/4721416444_bd34abcdc0_b.jpg (deflated 0%)\n",
            "  adding: Dataset/animal/Snail/693813637_e5deb13f5e_b.jpg (deflated 0%)\n",
            "  adding: Dataset/animal/Snail/36110977974_9503301e72_b.jpg (deflated 1%)\n",
            "  adding: Dataset/animal/Snail/6359153795_7a8ff8193a_b.jpg (deflated 0%)\n",
            "  adding: Dataset/animal/Snail/35423526186_dd25f3253a_b.jpg (deflated 0%)\n",
            "  adding: Dataset/animal/Civet/ (stored 0%)\n",
            "  adding: Dataset/animal/Civet/5731125929_3319d816f0_b.jpg (deflated 0%)\n",
            "  adding: Dataset/animal/Civet/35631760866_61482c96b9_b.jpg (deflated 0%)\n",
            "  adding: Dataset/animal/Civet/857073222_007e6af47d_b.jpg (deflated 0%)\n",
            "  adding: Dataset/animal/Civet/5731637306_3108379bf8_b.jpg (deflated 3%)\n",
            "  adding: Dataset/animal/Civet/5731180547_c460922969_b.jpg (deflated 0%)\n",
            "  adding: Dataset/animal/Civet/5731679094_c0c43f3596_b.jpg (deflated 1%)\n",
            "  adding: Dataset/animal/Civet/5731601694_436de280a3_b.jpg (deflated 0%)\n",
            "  adding: Dataset/animal/Civet/5731119231_16a5dbe587_b.jpg (deflated 1%)\n",
            "  adding: Dataset/animal/Civet/5731208709_330b9929f7_b.jpg (deflated 0%)\n",
            "  adding: Dataset/animal/Civet/4280168904_747ce9e715_b.jpg (deflated 0%)\n",
            "  adding: Dataset/animal/Civet/4280168562_01b9813921_b.jpg (deflated 0%)\n",
            "  adding: Dataset/animal/Civet/33872415502_de5ccdf31b_b.jpg (deflated 0%)\n",
            "  adding: Dataset/animal/Civet/5731616714_ca97b6ed88_b.jpg (deflated 0%)\n",
            "  adding: Dataset/animal/Civet/5731717286_fd747ed4b3_b.jpg (deflated 1%)\n",
            "  adding: Dataset/animal/Civet/3677465735_ea2587d0b3_b.jpg (deflated 0%)\n",
            "  adding: Dataset/animal/Civet/5731048151_306b6d93dd_b.jpg (deflated 0%)\n",
            "  adding: Dataset/animal/Civet/5731723696_46ec755b3f_b.jpg (deflated 0%)\n",
            "  adding: Dataset/animal/Civet/5731684318_1f9310a83a_b.jpg (deflated 0%)\n",
            "  adding: Dataset/animal/Civet/5731187193_b79a3e043e_b.jpg (deflated 0%)\n",
            "  adding: Dataset/animal/Civet/5731105331_067003dab4_b.jpg (deflated 0%)\n",
            "  adding: Dataset/animal/Pangolins/ (stored 0%)\n",
            "  adding: Dataset/animal/Pangolins/5675920973_6edfa50cf5_b.jpg (deflated 0%)\n",
            "  adding: Dataset/animal/Pangolins/26856934406_a5b31c2ce5_b.jpg (deflated 1%)\n",
            "  adding: Dataset/animal/Pangolins/4578588773_30e30b4cbd_b.jpg (deflated 0%)\n",
            "  adding: Dataset/animal/Pangolins/49551993367_d30d684db0_b.jpg (deflated 0%)\n",
            "  adding: Dataset/animal/Pangolins/685425781_c53e3e7c4b_b.jpg (deflated 1%)\n",
            "  adding: Dataset/animal/Pangolins/49551755726_39bdff30e6_b.jpg (deflated 0%)\n",
            "  adding: Dataset/animal/Pangolins/1971073665_a6731397ec_b.jpg (deflated 0%)\n",
            "  adding: Dataset/animal/Pangolins/2083714401_7e6a838f03_b.jpg (deflated 0%)\n",
            "  adding: Dataset/animal/Pangolins/49551756336_19d73faeb2_b.jpg (deflated 0%)\n",
            "  adding: Dataset/animal/Pangolins/36927936552_1d50a9f981_b.jpg (deflated 0%)\n",
            "  adding: Dataset/animal/Pangolins/5353180950_9d9127ee52_b.jpg (deflated 1%)\n",
            "  adding: Dataset/animal/Pangolins/49551260173_49847aa549_b.jpg (deflated 0%)\n",
            "  adding: Dataset/animal/Pangolins/5109479663_c2b33f94ac_b.jpg (deflated 0%)\n",
            "  adding: Dataset/animal/Pangolins/49551755981_2fe199e823_b.jpg (deflated 0%)\n",
            "  adding: Dataset/animal/Pangolins/49551992812_ec154305be_b.jpg (deflated 0%)\n",
            "  adding: Dataset/animal/Pangolins/26368258000_7ff90be911_b.jpg (deflated 0%)\n",
            "  adding: Dataset/animal/Pangolins/49551259578_295db89af4_b.jpg (deflated 0%)\n",
            "  adding: Dataset/animal/Pangolins/49551259213_970ab66346_b.jpg (deflated 0%)\n",
            "  adding: Dataset/animal/Pangolins/5675925639_a5080b5c7c_b.jpg (deflated 0%)\n",
            "  adding: Dataset/animal/Pangolins/303179824_cc6e32da9b_b.jpg (deflated 0%)\n",
            "  adding: Dataset/animal/Jellyfish/ (stored 0%)\n",
            "  adding: Dataset/animal/Jellyfish/39362148281_d339b7af17_b.jpg (deflated 1%)\n",
            "  adding: Dataset/animal/Jellyfish/44997645741_c487127536_b.jpg (deflated 0%)\n",
            "  adding: Dataset/animal/Jellyfish/14331959343_45b748f229_b.jpg (deflated 1%)\n",
            "  adding: Dataset/animal/Jellyfish/39730485915_6cdcf6bce1_b.jpg (deflated 0%)\n",
            "  adding: Dataset/animal/Jellyfish/3848902040_bdd7a1e3a3_b.jpg (deflated 0%)\n",
            "  adding: Dataset/animal/Jellyfish/3848084755_5e6b216a06_b.jpg (deflated 0%)\n",
            "  adding: Dataset/animal/Jellyfish/42415361800_9962ecf023_b.jpg (deflated 1%)\n",
            "  adding: Dataset/animal/Jellyfish/4483183856_b00913fdbc_b.jpg (deflated 1%)\n",
            "  adding: Dataset/animal/Jellyfish/1045387441_a557ac3147_b.jpg (deflated 0%)\n",
            "  adding: Dataset/animal/Jellyfish/2921937694_477659eae2_b.jpg (deflated 1%)\n",
            "  adding: Dataset/animal/Jellyfish/41297258295_2493514071_b.jpg (deflated 0%)\n",
            "  adding: Dataset/animal/Jellyfish/28760514535_5c3e56a404_b.jpg (deflated 1%)\n",
            "  adding: Dataset/animal/Jellyfish/481091760_03c0b98fb8_b.jpg (deflated 0%)\n",
            "  adding: Dataset/animal/Jellyfish/3848868438_f34e7c0af5_b.jpg (deflated 0%)\n",
            "  adding: Dataset/animal/Jellyfish/686347200_b108531bf9_b.jpg (deflated 1%)\n",
            "  adding: Dataset/animal/Jellyfish/4035701454_a94e907584_b.jpg (deflated 1%)\n",
            "  adding: Dataset/animal/Jellyfish/3848872364_e11cf3ddb8_b.jpg (deflated 0%)\n",
            "  adding: Dataset/animal/Jellyfish/38340743134_124c8b1a90_b.jpg (deflated 0%)\n",
            "  adding: Dataset/animal/Jellyfish/44791540314_c8ae2861d2_b.jpg (deflated 1%)\n",
            "  adding: Dataset/animal/Jellyfish/686347370_f262764386_b.jpg (deflated 0%)\n",
            "  adding: Dataset/animal/Whale/ (stored 0%)\n",
            "  adding: Dataset/animal/Whale/14775377248_e5050ca441_b.jpg (deflated 0%)\n",
            "  adding: Dataset/animal/Whale/5159560621_7d3eb3da9a_b.jpg (deflated 0%)\n",
            "  adding: Dataset/animal/Whale/26814676724_812167f42f_b.jpg (deflated 0%)\n",
            "  adding: Dataset/animal/Whale/2989055761_628505c71b_b.jpg (deflated 0%)\n",
            "  adding: Dataset/animal/Whale/4728383235_9feed576f6_b.jpg (deflated 1%)\n",
            "  adding: Dataset/animal/Whale/2105356049_7a4715f7bc_b.jpg (deflated 0%)\n",
            "  adding: Dataset/animal/Whale/30656189384_72512ea7dd_b.jpg (deflated 0%)\n",
            "  adding: Dataset/animal/Whale/31742107420_59603612b4_b.jpg (deflated 0%)\n",
            "  adding: Dataset/animal/Whale/7471104002_169c3077ba_b.jpg (deflated 5%)\n",
            "  adding: Dataset/animal/Whale/53069662978_14e682efcf_b.jpg (deflated 0%)\n",
            "  adding: Dataset/animal/Whale/4253748227_723454414a_b.jpg (deflated 1%)\n",
            "  adding: Dataset/animal/Whale/5973578169_53b1bb5314_b.jpg (deflated 0%)\n",
            "  adding: Dataset/animal/Whale/14628399398_d0315db7c6_b.jpg (deflated 0%)\n",
            "  adding: Dataset/animal/Whale/31269358916_aae1d1f1b3_b.jpg (deflated 2%)\n",
            "  adding: Dataset/animal/Whale/5006865271_87483a3d06_b.jpg (deflated 0%)\n",
            "  adding: Dataset/animal/Whale/23910858506_1aa2d2ba08_b.jpg (deflated 0%)\n",
            "  adding: Dataset/animal/Whale/5085261464_bde7a8cc7e_b.jpg (deflated 0%)\n",
            "  adding: Dataset/animal/Whale/3114321642_86ab331c31_b.jpg (deflated 4%)\n",
            "  adding: Dataset/animal/Whale/4639321173_3c71fcb084_b.jpg (deflated 1%)\n",
            "  adding: Dataset/animal/Whale/3840199074_60bfbd8b52_b.jpg (deflated 0%)\n",
            "  adding: Dataset/animal/Owl/ (stored 0%)\n",
            "  adding: Dataset/animal/Owl/2982892322_9f702faf4e_b.jpg (deflated 1%)\n",
            "  adding: Dataset/animal/Owl/10837709536_35e76b88e7_b.jpg (deflated 0%)\n",
            "  adding: Dataset/animal/Owl/12605123663_67af07a5c2_b.jpg (deflated 0%)\n",
            "  adding: Dataset/animal/Owl/5795216121_c914c372b4_b.jpg (deflated 0%)\n",
            "  adding: Dataset/animal/Owl/36123339640_751b0c2d94_b.jpg (deflated 5%)\n",
            "  adding: Dataset/animal/Owl/9164845299_34c839023c_b.jpg (deflated 0%)\n",
            "  adding: Dataset/animal/Owl/504994532_ff2868f7ef_b.jpg (deflated 1%)\n",
            "  adding: Dataset/animal/Owl/4428174778_1b8df85dc2_b.jpg (deflated 0%)\n",
            "  adding: Dataset/animal/Owl/6976350180_39c2f49ced_b.jpg (deflated 0%)\n",
            "  adding: Dataset/animal/Owl/9822694506_39a46c2289_b.jpg (deflated 0%)\n",
            "  adding: Dataset/animal/Owl/6022297293_2a85c8f816_b.jpg (deflated 0%)\n",
            "  adding: Dataset/animal/Owl/16903802987_8c0ecb9b86_b.jpg (deflated 0%)\n",
            "  adding: Dataset/animal/Owl/26769898061_4567777a97_b.jpg (deflated 0%)\n",
            "  adding: Dataset/animal/Owl/16714767718_165592df95_b.jpg (deflated 0%)\n",
            "  adding: Dataset/animal/Owl/14818553615_6c3645ebc9_b.jpg (deflated 0%)\n",
            "  adding: Dataset/animal/Owl/33445903392_587242bef5_b.jpg (deflated 0%)\n",
            "  adding: Dataset/animal/Owl/15820560829_2890d642c5_b.jpg (deflated 0%)\n",
            "  adding: Dataset/animal/Owl/3465818965_d6d97e420a_b.jpg (deflated 0%)\n",
            "  adding: Dataset/animal/Owl/3465808233_c233d719ea_b.jpg (deflated 0%)\n",
            "  adding: Dataset/animal/Owl/9298204829_360ed5af78_b.jpg (deflated 0%)\n",
            "  adding: Dataset/animal/Elephant/ (stored 0%)\n",
            "  adding: Dataset/animal/Elephant/4839032364_8c521066b2_b.jpg (deflated 0%)\n",
            "  adding: Dataset/animal/Elephant/319475818_5d68e53e06_b.jpg (deflated 0%)\n",
            "  adding: Dataset/animal/Elephant/27962781004_63ea96eb56_b.jpg (deflated 0%)\n",
            "  adding: Dataset/animal/Elephant/180285899_8f54a73592_b.jpg (deflated 0%)\n",
            "  adding: Dataset/animal/Elephant/14307815484_87d075481a_b.jpg (deflated 0%)\n",
            "  adding: Dataset/animal/Elephant/7339578374_da5daf9ea0_b.jpg (deflated 0%)\n",
            "  adding: Dataset/animal/Elephant/2426068723_28790fb8f7_b.jpg (deflated 0%)\n",
            "  adding: Dataset/animal/Elephant/5634205448_6464d730dc_b.jpg (deflated 0%)\n",
            "  adding: Dataset/animal/Elephant/25792173096_7384526881_b.jpg (deflated 0%)\n",
            "  adding: Dataset/animal/Elephant/4839029036_689bb6afc7_b.jpg (deflated 2%)\n",
            "  adding: Dataset/animal/Elephant/4838418209_f962448bd8_b.jpg (deflated 0%)\n",
            "  adding: Dataset/animal/Elephant/3868199037_5477897416_b.jpg (deflated 0%)\n",
            "  adding: Dataset/animal/Elephant/4839030572_b4f0f2c314_b.jpg (deflated 0%)\n",
            "  adding: Dataset/animal/Elephant/1302683471_f6b4336758_b.jpg (deflated 0%)\n",
            "  adding: Dataset/animal/Elephant/9480237487_53fe2fb608_b.jpg (deflated 0%)\n",
            "  adding: Dataset/animal/Elephant/4838416433_ffc564eb4b_b.jpg (deflated 0%)\n",
            "  adding: Dataset/animal/Elephant/124463039_ac217f4a77_b.jpg (deflated 0%)\n",
            "  adding: Dataset/animal/Elephant/4838416767_bb01ceda8c_b.jpg (deflated 0%)\n",
            "  adding: Dataset/animal/Elephant/319476079_d1212ecb0e_b.jpg (deflated 1%)\n",
            "  adding: Dataset/animal/Elephant/4839031518_3765f997a4_b.jpg (deflated 0%)\n",
            "  adding: Dataset/animal/Butterfly/ (stored 0%)\n",
            "  adding: Dataset/animal/Butterfly/4475293969_2531069e9c_b.jpg (deflated 2%)\n",
            "  adding: Dataset/animal/Butterfly/5813127330_4f0e03fb36_b.jpg (deflated 2%)\n",
            "  adding: Dataset/animal/Butterfly/35055129003_edf18ca5f9_b.jpg (deflated 2%)\n",
            "  adding: Dataset/animal/Butterfly/8706915243_2ff995843a_b.jpg (deflated 1%)\n",
            "  adding: Dataset/animal/Butterfly/8363465761_4b7322828a_b.jpg (deflated 0%)\n",
            "  adding: Dataset/animal/Butterfly/4983460756_1aa5260787_b.jpg (deflated 0%)\n",
            "  adding: Dataset/animal/Butterfly/30618799306_f778aeae12_b.jpg (deflated 0%)\n",
            "  adding: Dataset/animal/Butterfly/3626881261_f5f4b53f68_b.jpg (deflated 0%)\n",
            "  adding: Dataset/animal/Butterfly/6541361561_9984bc65f4_b.jpg (deflated 1%)\n",
            "  adding: Dataset/animal/Butterfly/10407650646_9138c1349a_b.jpg (deflated 0%)\n",
            "  adding: Dataset/animal/Butterfly/8115939265_07762eef3d_b.jpg (deflated 0%)\n",
            "  adding: Dataset/animal/Butterfly/8363470909_a3f7515f72_b.jpg (deflated 0%)\n",
            "  adding: Dataset/animal/Butterfly/8363463803_55f0be1878_b.jpg (deflated 2%)\n",
            "  adding: Dataset/animal/Butterfly/6925779376_0ae065ef82_b.jpg (deflated 0%)\n",
            "  adding: Dataset/animal/Butterfly/30748783572_e5f2bdb3a9_b.jpg (deflated 1%)\n",
            "  adding: Dataset/animal/Butterfly/6212154338_6853fea2a1_b.jpg (deflated 0%)\n",
            "  adding: Dataset/animal/Butterfly/2458130467_214711d16d_b.jpg (deflated 0%)\n",
            "  adding: Dataset/animal/Butterfly/5744236238_2acbf1d8fe_b.jpg (deflated 0%)\n",
            "  adding: Dataset/animal/flamingo/ (stored 0%)\n",
            "  adding: Dataset/animal/flamingo/3601386604_83e05c80fb_b.jpg (deflated 0%)\n",
            "  adding: Dataset/animal/flamingo/5092395194_fb83c64a30_b.jpg (deflated 0%)\n",
            "  adding: Dataset/animal/flamingo/2742278451_60a8d88b2e_b.jpg (deflated 0%)\n",
            "  adding: Dataset/animal/flamingo/3330867204_3169dd2bf6_b.jpg (deflated 1%)\n",
            "  adding: Dataset/animal/flamingo/5188416326_4b204ccb07_b.jpg (deflated 0%)\n",
            "  adding: Dataset/animal/flamingo/7740464022_291e7e1ff4_b.jpg (deflated 0%)\n",
            "  adding: Dataset/animal/flamingo/32479967504_de0ba2d0fd_b.jpg (deflated 0%)\n",
            "  adding: Dataset/animal/flamingo/15148641555_509b617d77_b.jpg (deflated 1%)\n",
            "  adding: Dataset/animal/flamingo/14594437783_765106a278_b.jpg (deflated 1%)\n",
            "  adding: Dataset/animal/flamingo/15219746377_cb685d2bc3_b.jpg (deflated 0%)\n",
            "  adding: Dataset/animal/flamingo/2610412096_cfbb143112_b.jpg (deflated 0%)\n",
            "  adding: Dataset/animal/flamingo/997698333_453520ab75_b.jpg (deflated 0%)\n",
            "  adding: Dataset/animal/flamingo/37526916314_2eaa3c180c_b.jpg (deflated 0%)\n",
            "  adding: Dataset/animal/flamingo/13681985195_b2a14fd63b_b.jpg (deflated 4%)\n",
            "  adding: Dataset/animal/flamingo/2445684517_d86e081ba8_b.jpg (deflated 1%)\n",
            "  adding: Dataset/animal/flamingo/16304695755_00cab21c5d_b.jpg (deflated 0%)\n",
            "  adding: Dataset/animal/flamingo/6801354076_e1b56c472e_b.jpg (deflated 1%)\n",
            "  adding: Dataset/animal/flamingo/3694720746_24097530f6_b.jpg (deflated 1%)\n",
            "  adding: Dataset/animal/flamingo/16001917433_2f0f182dbd_b.jpg (deflated 9%)\n",
            "  adding: Dataset/animal/flamingo/5595676106_7895fc14a3_b.jpg (deflated 0%)\n",
            "  adding: Dataset/animal/Dog/ (stored 0%)\n",
            "  adding: Dataset/animal/Dog/40404610011_c685e5a589_b.jpg (deflated 0%)\n",
            "  adding: Dataset/animal/Dog/25989424636_2bb1afe859_b.jpg (deflated 1%)\n",
            "  adding: Dataset/animal/Dog/39397079150_62eda3ec01_b.jpg (deflated 2%)\n",
            "  adding: Dataset/animal/Dog/4652502241_c101591a93_b.jpg (deflated 0%)\n",
            "  adding: Dataset/animal/Dog/5022927104_515e808b66_b.jpg (deflated 1%)\n",
            "  adding: Dataset/animal/Dog/24066106230_5169269428_b.jpg (deflated 1%)\n",
            "  adding: Dataset/animal/Dog/15131237412_268a1e41a3_b.jpg (deflated 2%)\n",
            "  adding: Dataset/animal/Dog/8193537196_65aaf6107f_b.jpg (deflated 3%)\n",
            "  adding: Dataset/animal/Dog/41099654691_c42fcde81b_b.jpg (deflated 1%)\n",
            "  adding: Dataset/animal/Dog/5824739228_042e797031_b.jpg (deflated 0%)\n",
            "  adding: Dataset/animal/Dog/4489119695_87144ba60b_b.jpg (deflated 2%)\n",
            "  adding: Dataset/animal/Dog/33326250781_65fa0a0887_b.jpg (deflated 1%)\n",
            "  adding: Dataset/animal/Dog/7012277475_7e126fd8b6_b.jpg (deflated 1%)\n",
            "  adding: Dataset/animal/Dog/5340131446_3b7c380bea_b.jpg (deflated 2%)\n",
            "  adding: Dataset/animal/Dog/36216273621_3287933a7c_b.jpg (deflated 1%)\n",
            "  adding: Dataset/animal/Dog/8545183695_7d93d41aa6_b.jpg (deflated 0%)\n",
            "  adding: Dataset/animal/Dog/33659529142_2b6c3241eb_b.jpg (deflated 0%)\n",
            "  adding: Dataset/animal/Dog/37486121612_f0650e03b5_b.jpg (deflated 1%)\n",
            "  adding: Dataset/animal/Dog/4489763356_2dc86638b2_b.jpg (deflated 0%)\n",
            "  adding: Dataset/animal/Dog/44926777104_8a6e553a48_b.jpg (deflated 0%)\n",
            "  adding: Dataset/animal/Frog/ (stored 0%)\n",
            "  adding: Dataset/animal/Frog/253096526_cdd8a2ebb8_b.jpg (deflated 1%)\n",
            "  adding: Dataset/animal/Frog/3458088876_907177c188_b.jpg (deflated 1%)\n",
            "  adding: Dataset/animal/Frog/11949343475_a6b8eb0d62_b.jpg (deflated 1%)\n",
            "  adding: Dataset/animal/Frog/35075621736_6457d3859e_b.jpg (deflated 0%)\n",
            "  adding: Dataset/animal/Frog/47744902922_824ae558c1_b.jpg (deflated 1%)\n",
            "  adding: Dataset/animal/Frog/43138528505_e52c1c5d56_b.jpg (deflated 0%)\n",
            "  adding: Dataset/animal/Frog/6124720003_2649244416_b.jpg (deflated 0%)\n",
            "  adding: Dataset/animal/Frog/21705733248_944701cd0c_b.jpg (deflated 0%)\n",
            "  adding: Dataset/animal/Frog/22997295271_f6ab30a978_b.jpg (deflated 5%)\n",
            "  adding: Dataset/animal/Frog/33315833724_9173a8a7ea_b.jpg (deflated 1%)\n",
            "  adding: Dataset/animal/Frog/28203921766_6b891fb0d5_b.jpg (deflated 0%)\n",
            "  adding: Dataset/animal/Frog/5706438171_e52a22b13c_b.jpg (deflated 0%)\n",
            "  adding: Dataset/animal/Frog/43587085962_6f3fc6fedb_b.jpg (deflated 0%)\n",
            "  adding: Dataset/animal/Frog/249724430_62d6fdc686_b.jpg (deflated 0%)\n",
            "  adding: Dataset/animal/Frog/54289950_bc34eec995_b.jpg (deflated 0%)\n",
            "  adding: Dataset/animal/Frog/25890045776_e8a0806838_b.jpg (deflated 0%)\n",
            "  adding: Dataset/animal/Frog/22972757432_0549fd9c4d_b.jpg (deflated 4%)\n",
            "  adding: Dataset/animal/Frog/14000800067_c53260a7cd_b.jpg (deflated 1%)\n",
            "  adding: Dataset/animal/Frog/43406929384_f32be467b2_b.jpg (deflated 0%)\n",
            "  adding: Dataset/animal/Frog/9509342742_ba34289e49_b.jpg (deflated 0%)\n"
          ]
        }
      ]
    },
    {
      "cell_type": "code",
      "source": [
        "!cp filename.txt /content/drive/MyDrive/filename.txt"
      ],
      "metadata": {
        "id": "J1fw02Tm_rtN"
      },
      "execution_count": 16,
      "outputs": []
    }
  ]
}